{
  "metadata": {
    "ExecuteTimeLog": [
      {
        "duration": 435,
        "start_time": "2023-07-16T15:08:47.765Z"
      },
      {
        "duration": 50,
        "start_time": "2023-07-16T15:45:21.744Z"
      },
      {
        "duration": 15,
        "start_time": "2023-07-16T15:45:22.861Z"
      },
      {
        "duration": 7,
        "start_time": "2023-07-16T15:46:47.346Z"
      },
      {
        "duration": 5,
        "start_time": "2023-07-16T15:48:26.503Z"
      },
      {
        "duration": 13,
        "start_time": "2023-07-16T15:49:07.758Z"
      },
      {
        "duration": 404,
        "start_time": "2023-07-17T13:01:50.290Z"
      },
      {
        "duration": 96,
        "start_time": "2023-07-17T13:01:50.696Z"
      },
      {
        "duration": 18,
        "start_time": "2023-07-17T13:01:50.794Z"
      },
      {
        "duration": 12,
        "start_time": "2023-07-17T13:01:50.814Z"
      },
      {
        "duration": 38,
        "start_time": "2023-07-17T13:01:50.828Z"
      },
      {
        "duration": 9,
        "start_time": "2023-07-17T13:01:56.755Z"
      },
      {
        "duration": 33,
        "start_time": "2023-07-17T13:09:43.753Z"
      },
      {
        "duration": 2,
        "start_time": "2023-07-17T13:16:44.151Z"
      },
      {
        "duration": 2,
        "start_time": "2023-07-17T13:18:53.522Z"
      },
      {
        "duration": 48,
        "start_time": "2023-07-17T13:18:53.526Z"
      },
      {
        "duration": 10,
        "start_time": "2023-07-17T13:18:53.575Z"
      },
      {
        "duration": 11,
        "start_time": "2023-07-17T13:18:53.586Z"
      },
      {
        "duration": 3,
        "start_time": "2023-07-17T13:18:53.599Z"
      },
      {
        "duration": 59,
        "start_time": "2023-07-17T13:18:57.351Z"
      },
      {
        "duration": 6,
        "start_time": "2023-07-17T13:19:48.296Z"
      },
      {
        "duration": 6,
        "start_time": "2023-07-17T13:20:14.451Z"
      },
      {
        "duration": 7,
        "start_time": "2023-07-17T13:20:21.022Z"
      },
      {
        "duration": 2,
        "start_time": "2023-07-17T13:20:23.811Z"
      },
      {
        "duration": 6,
        "start_time": "2023-07-17T13:20:24.858Z"
      },
      {
        "duration": 6,
        "start_time": "2023-07-17T13:20:36.475Z"
      },
      {
        "duration": 6,
        "start_time": "2023-07-17T13:20:47.648Z"
      },
      {
        "duration": 5,
        "start_time": "2023-07-17T13:20:54.549Z"
      },
      {
        "duration": 3,
        "start_time": "2023-07-17T13:20:57.852Z"
      },
      {
        "duration": 3,
        "start_time": "2023-07-17T13:22:19.015Z"
      },
      {
        "duration": 2,
        "start_time": "2023-07-17T13:22:23.940Z"
      },
      {
        "duration": 4,
        "start_time": "2023-07-17T13:22:24.452Z"
      },
      {
        "duration": 3,
        "start_time": "2023-07-17T13:22:25.545Z"
      },
      {
        "duration": 11,
        "start_time": "2023-07-17T13:22:32.482Z"
      },
      {
        "duration": 3,
        "start_time": "2023-07-17T13:22:42.283Z"
      },
      {
        "duration": 2,
        "start_time": "2023-07-17T13:22:47.681Z"
      },
      {
        "duration": 47,
        "start_time": "2023-07-17T13:22:47.685Z"
      },
      {
        "duration": 11,
        "start_time": "2023-07-17T13:22:47.733Z"
      },
      {
        "duration": 20,
        "start_time": "2023-07-17T13:22:47.746Z"
      },
      {
        "duration": 7,
        "start_time": "2023-07-17T13:22:47.767Z"
      },
      {
        "duration": 2,
        "start_time": "2023-07-17T13:22:49.351Z"
      },
      {
        "duration": 4,
        "start_time": "2023-07-17T13:22:49.721Z"
      },
      {
        "duration": 3,
        "start_time": "2023-07-17T13:24:18.351Z"
      },
      {
        "duration": 10,
        "start_time": "2023-07-17T13:24:18.750Z"
      },
      {
        "duration": 3,
        "start_time": "2023-07-17T13:24:34.674Z"
      },
      {
        "duration": 3,
        "start_time": "2023-07-17T13:24:47.365Z"
      },
      {
        "duration": 4,
        "start_time": "2023-07-17T13:24:57.883Z"
      },
      {
        "duration": 3,
        "start_time": "2023-07-17T13:24:59.984Z"
      },
      {
        "duration": 3,
        "start_time": "2023-07-17T13:25:01.048Z"
      },
      {
        "duration": 2,
        "start_time": "2023-07-17T13:25:07.902Z"
      },
      {
        "duration": 10,
        "start_time": "2023-07-17T13:25:08.410Z"
      },
      {
        "duration": 4,
        "start_time": "2023-07-17T13:25:28.513Z"
      },
      {
        "duration": 11,
        "start_time": "2023-07-17T13:25:41.351Z"
      },
      {
        "duration": 2353,
        "start_time": "2023-07-17T13:26:21.651Z"
      },
      {
        "duration": 2133,
        "start_time": "2023-07-17T13:26:29.761Z"
      },
      {
        "duration": 5,
        "start_time": "2023-07-17T13:26:37.288Z"
      },
      {
        "duration": 7,
        "start_time": "2023-07-17T13:26:39.025Z"
      },
      {
        "duration": 583,
        "start_time": "2023-07-17T13:27:42.167Z"
      },
      {
        "duration": 95229,
        "start_time": "2023-07-17T13:29:28.045Z"
      },
      {
        "duration": 6,
        "start_time": "2023-07-17T13:31:03.276Z"
      },
      {
        "duration": 24,
        "start_time": "2023-07-17T13:31:03.316Z"
      },
      {
        "duration": 81,
        "start_time": "2023-07-17T13:31:03.341Z"
      },
      {
        "duration": 11,
        "start_time": "2023-07-17T13:31:03.423Z"
      },
      {
        "duration": 40,
        "start_time": "2023-07-17T13:31:03.435Z"
      },
      {
        "duration": 23,
        "start_time": "2023-07-17T13:31:03.477Z"
      },
      {
        "duration": 26,
        "start_time": "2023-07-17T13:31:03.502Z"
      },
      {
        "duration": 42,
        "start_time": "2023-07-17T13:31:03.529Z"
      },
      {
        "duration": 4,
        "start_time": "2023-07-17T13:32:11.987Z"
      },
      {
        "duration": 11,
        "start_time": "2023-07-17T13:32:14.253Z"
      },
      {
        "duration": 7,
        "start_time": "2023-07-17T13:32:16.474Z"
      },
      {
        "duration": 7,
        "start_time": "2023-07-17T13:32:17.556Z"
      },
      {
        "duration": 0,
        "start_time": "2023-07-17T13:33:56.248Z"
      },
      {
        "duration": 0,
        "start_time": "2023-07-17T13:33:56.249Z"
      },
      {
        "duration": 8,
        "start_time": "2023-07-17T13:35:57.187Z"
      },
      {
        "duration": 110,
        "start_time": "2023-07-17T13:35:58.481Z"
      },
      {
        "duration": 108,
        "start_time": "2023-07-17T13:36:57.154Z"
      },
      {
        "duration": 103,
        "start_time": "2023-07-17T13:37:03.919Z"
      },
      {
        "duration": 126,
        "start_time": "2023-07-17T13:37:46.525Z"
      },
      {
        "duration": 153,
        "start_time": "2023-07-17T13:39:36.910Z"
      },
      {
        "duration": 132,
        "start_time": "2023-07-17T13:39:54.768Z"
      },
      {
        "duration": 132,
        "start_time": "2023-07-17T13:40:00.092Z"
      },
      {
        "duration": 145,
        "start_time": "2023-07-17T13:40:23.003Z"
      },
      {
        "duration": 3,
        "start_time": "2023-07-17T13:42:06.011Z"
      },
      {
        "duration": 11,
        "start_time": "2023-07-17T13:42:07.649Z"
      },
      {
        "duration": 5,
        "start_time": "2023-07-17T13:42:10.490Z"
      },
      {
        "duration": 7,
        "start_time": "2023-07-17T13:42:10.981Z"
      },
      {
        "duration": 127,
        "start_time": "2023-07-17T13:42:12.163Z"
      },
      {
        "duration": 8,
        "start_time": "2023-07-17T13:43:09.866Z"
      },
      {
        "duration": 12,
        "start_time": "2023-07-17T13:43:14.256Z"
      },
      {
        "duration": 7,
        "start_time": "2023-07-17T13:43:35.386Z"
      },
      {
        "duration": 11,
        "start_time": "2023-07-17T13:45:51.453Z"
      },
      {
        "duration": 11,
        "start_time": "2023-07-17T13:45:59.557Z"
      },
      {
        "duration": 10,
        "start_time": "2023-07-17T14:00:55.956Z"
      },
      {
        "duration": 12,
        "start_time": "2023-07-17T14:00:59.271Z"
      },
      {
        "duration": 11,
        "start_time": "2023-07-17T14:05:13.201Z"
      },
      {
        "duration": 14,
        "start_time": "2023-07-17T14:05:24.956Z"
      },
      {
        "duration": 10,
        "start_time": "2023-07-17T14:05:59.552Z"
      },
      {
        "duration": 10,
        "start_time": "2023-07-17T14:06:21.117Z"
      },
      {
        "duration": 2,
        "start_time": "2023-07-17T14:06:28.059Z"
      },
      {
        "duration": 81,
        "start_time": "2023-07-17T14:06:28.064Z"
      },
      {
        "duration": 11,
        "start_time": "2023-07-17T14:06:28.147Z"
      },
      {
        "duration": 40,
        "start_time": "2023-07-17T14:06:28.159Z"
      },
      {
        "duration": 17,
        "start_time": "2023-07-17T14:06:28.201Z"
      },
      {
        "duration": 29,
        "start_time": "2023-07-17T14:06:28.219Z"
      },
      {
        "duration": 5,
        "start_time": "2023-07-17T14:06:28.250Z"
      },
      {
        "duration": 39,
        "start_time": "2023-07-17T14:06:28.256Z"
      },
      {
        "duration": 135,
        "start_time": "2023-07-17T14:06:28.296Z"
      },
      {
        "duration": 6,
        "start_time": "2023-07-17T14:06:28.433Z"
      },
      {
        "duration": 10,
        "start_time": "2023-07-17T14:06:28.440Z"
      },
      {
        "duration": 16,
        "start_time": "2023-07-17T14:06:30.114Z"
      },
      {
        "duration": 10,
        "start_time": "2023-07-17T14:06:30.773Z"
      },
      {
        "duration": 11,
        "start_time": "2023-07-17T14:06:41.261Z"
      },
      {
        "duration": 12,
        "start_time": "2023-07-17T14:09:57.999Z"
      },
      {
        "duration": 12,
        "start_time": "2023-07-17T14:10:22.448Z"
      },
      {
        "duration": 13,
        "start_time": "2023-07-17T14:10:33.152Z"
      },
      {
        "duration": 12,
        "start_time": "2023-07-17T14:10:41.725Z"
      },
      {
        "duration": 828,
        "start_time": "2023-07-17T14:13:17.656Z"
      },
      {
        "duration": 43,
        "start_time": "2023-07-17T14:14:43.799Z"
      },
      {
        "duration": 11,
        "start_time": "2023-07-17T14:15:58.624Z"
      },
      {
        "duration": 15,
        "start_time": "2023-07-17T14:16:43.773Z"
      },
      {
        "duration": 33,
        "start_time": "2023-07-17T14:17:29.564Z"
      },
      {
        "duration": 14,
        "start_time": "2023-07-17T16:27:46.350Z"
      },
      {
        "duration": 2,
        "start_time": "2023-07-17T16:27:49.874Z"
      },
      {
        "duration": 52,
        "start_time": "2023-07-17T16:27:49.878Z"
      },
      {
        "duration": 11,
        "start_time": "2023-07-17T16:27:49.932Z"
      },
      {
        "duration": 12,
        "start_time": "2023-07-17T16:27:49.944Z"
      },
      {
        "duration": 4,
        "start_time": "2023-07-17T16:27:49.958Z"
      },
      {
        "duration": 17,
        "start_time": "2023-07-17T16:27:49.963Z"
      },
      {
        "duration": 7,
        "start_time": "2023-07-17T16:27:49.982Z"
      },
      {
        "duration": 15,
        "start_time": "2023-07-17T16:27:49.990Z"
      },
      {
        "duration": 159,
        "start_time": "2023-07-17T16:27:50.006Z"
      },
      {
        "duration": 7,
        "start_time": "2023-07-17T16:27:50.166Z"
      },
      {
        "duration": 12,
        "start_time": "2023-07-17T16:27:50.175Z"
      },
      {
        "duration": 13,
        "start_time": "2023-07-17T16:27:50.199Z"
      },
      {
        "duration": 9,
        "start_time": "2023-07-17T16:27:50.214Z"
      },
      {
        "duration": 13,
        "start_time": "2023-07-17T16:27:53.323Z"
      },
      {
        "duration": 11,
        "start_time": "2023-07-17T16:27:55.650Z"
      },
      {
        "duration": 121,
        "start_time": "2023-07-17T16:36:11.221Z"
      },
      {
        "duration": 8,
        "start_time": "2023-07-17T16:36:16.857Z"
      },
      {
        "duration": 136,
        "start_time": "2023-07-17T16:36:22.409Z"
      },
      {
        "duration": 8,
        "start_time": "2023-07-17T16:36:32.123Z"
      },
      {
        "duration": 16,
        "start_time": "2023-07-17T16:36:38.069Z"
      },
      {
        "duration": 9,
        "start_time": "2023-07-17T16:36:41.550Z"
      },
      {
        "duration": 133,
        "start_time": "2023-07-17T16:36:45.115Z"
      },
      {
        "duration": 2,
        "start_time": "2023-07-17T16:36:45.506Z"
      },
      {
        "duration": 153,
        "start_time": "2023-07-17T16:36:58.695Z"
      },
      {
        "duration": 5,
        "start_time": "2023-07-17T16:37:12.118Z"
      },
      {
        "duration": 2,
        "start_time": "2023-07-17T16:37:13.765Z"
      },
      {
        "duration": 5,
        "start_time": "2023-07-17T16:37:14.106Z"
      },
      {
        "duration": 9,
        "start_time": "2023-07-17T16:41:47.985Z"
      },
      {
        "duration": 12,
        "start_time": "2023-07-17T16:42:18.332Z"
      },
      {
        "duration": 1251,
        "start_time": "2023-07-18T05:53:13.323Z"
      },
      {
        "duration": 3,
        "start_time": "2023-07-18T05:55:23.147Z"
      },
      {
        "duration": 109,
        "start_time": "2023-07-18T05:55:23.152Z"
      },
      {
        "duration": 19,
        "start_time": "2023-07-18T05:55:23.263Z"
      },
      {
        "duration": 13,
        "start_time": "2023-07-18T05:55:23.284Z"
      },
      {
        "duration": 27,
        "start_time": "2023-07-18T05:55:23.299Z"
      },
      {
        "duration": 40,
        "start_time": "2023-07-18T05:55:23.327Z"
      },
      {
        "duration": 27,
        "start_time": "2023-07-18T05:55:23.369Z"
      },
      {
        "duration": 26,
        "start_time": "2023-07-18T05:55:23.398Z"
      },
      {
        "duration": 655,
        "start_time": "2023-07-18T05:55:23.426Z"
      },
      {
        "duration": 8,
        "start_time": "2023-07-18T05:55:24.083Z"
      },
      {
        "duration": 23,
        "start_time": "2023-07-18T05:55:24.093Z"
      },
      {
        "duration": 31,
        "start_time": "2023-07-18T05:55:24.118Z"
      },
      {
        "duration": 22,
        "start_time": "2023-07-18T05:55:24.151Z"
      },
      {
        "duration": 24,
        "start_time": "2023-07-18T05:55:24.176Z"
      },
      {
        "duration": 16,
        "start_time": "2023-07-18T05:55:24.202Z"
      },
      {
        "duration": 5,
        "start_time": "2023-07-18T05:55:28.388Z"
      },
      {
        "duration": 112,
        "start_time": "2023-07-18T05:55:29.093Z"
      },
      {
        "duration": 18,
        "start_time": "2023-07-18T05:55:40.561Z"
      },
      {
        "duration": 14,
        "start_time": "2023-07-18T05:55:49.201Z"
      },
      {
        "duration": 14,
        "start_time": "2023-07-18T05:56:16.411Z"
      },
      {
        "duration": 14,
        "start_time": "2023-07-18T05:56:42.605Z"
      },
      {
        "duration": 1146,
        "start_time": "2023-07-18T05:59:44.485Z"
      },
      {
        "duration": 63,
        "start_time": "2023-07-18T05:59:45.636Z"
      },
      {
        "duration": 19,
        "start_time": "2023-07-18T05:59:45.701Z"
      },
      {
        "duration": 25,
        "start_time": "2023-07-18T05:59:45.722Z"
      },
      {
        "duration": 7,
        "start_time": "2023-07-18T05:59:45.750Z"
      },
      {
        "duration": 23,
        "start_time": "2023-07-18T05:59:45.758Z"
      },
      {
        "duration": 34,
        "start_time": "2023-07-18T05:59:45.782Z"
      },
      {
        "duration": 41,
        "start_time": "2023-07-18T05:59:45.818Z"
      },
      {
        "duration": 442,
        "start_time": "2023-07-18T05:59:45.861Z"
      },
      {
        "duration": 8,
        "start_time": "2023-07-18T05:59:46.305Z"
      },
      {
        "duration": 31,
        "start_time": "2023-07-18T05:59:46.314Z"
      },
      {
        "duration": 25,
        "start_time": "2023-07-18T05:59:46.347Z"
      },
      {
        "duration": 13,
        "start_time": "2023-07-18T05:59:46.375Z"
      },
      {
        "duration": 13,
        "start_time": "2023-07-18T05:59:46.390Z"
      },
      {
        "duration": 31,
        "start_time": "2023-07-18T05:59:46.404Z"
      },
      {
        "duration": 6,
        "start_time": "2023-07-18T05:59:50.298Z"
      },
      {
        "duration": 25,
        "start_time": "2023-07-18T06:00:11.615Z"
      },
      {
        "duration": 30,
        "start_time": "2023-07-18T06:00:50.021Z"
      },
      {
        "duration": 7,
        "start_time": "2023-07-18T06:06:03.609Z"
      },
      {
        "duration": 7,
        "start_time": "2023-07-18T06:06:35.046Z"
      },
      {
        "duration": 41,
        "start_time": "2023-07-18T06:15:51.606Z"
      },
      {
        "duration": 50,
        "start_time": "2023-07-18T06:15:51.649Z"
      },
      {
        "duration": 12,
        "start_time": "2023-07-18T06:15:51.701Z"
      },
      {
        "duration": 33,
        "start_time": "2023-07-18T06:15:51.715Z"
      },
      {
        "duration": 8,
        "start_time": "2023-07-18T06:15:51.750Z"
      },
      {
        "duration": 24,
        "start_time": "2023-07-18T06:15:51.760Z"
      },
      {
        "duration": 39,
        "start_time": "2023-07-18T06:15:51.786Z"
      },
      {
        "duration": 25,
        "start_time": "2023-07-18T06:15:51.827Z"
      },
      {
        "duration": 155,
        "start_time": "2023-07-18T06:15:51.854Z"
      },
      {
        "duration": 8,
        "start_time": "2023-07-18T06:15:52.011Z"
      },
      {
        "duration": 32,
        "start_time": "2023-07-18T06:15:52.020Z"
      },
      {
        "duration": 16,
        "start_time": "2023-07-18T06:15:52.054Z"
      },
      {
        "duration": 10,
        "start_time": "2023-07-18T06:15:52.072Z"
      },
      {
        "duration": 20,
        "start_time": "2023-07-18T06:15:52.084Z"
      },
      {
        "duration": 13,
        "start_time": "2023-07-18T06:15:52.105Z"
      },
      {
        "duration": 16,
        "start_time": "2023-07-18T06:15:52.119Z"
      },
      {
        "duration": 43,
        "start_time": "2023-07-18T06:15:52.136Z"
      },
      {
        "duration": 15,
        "start_time": "2023-07-18T06:15:54.527Z"
      },
      {
        "duration": 267,
        "start_time": "2023-07-18T06:15:58.771Z"
      },
      {
        "duration": 150,
        "start_time": "2023-07-18T06:16:58.620Z"
      },
      {
        "duration": 163,
        "start_time": "2023-07-18T06:17:06.935Z"
      },
      {
        "duration": 39079,
        "start_time": "2023-07-18T06:17:25.274Z"
      },
      {
        "duration": 4722,
        "start_time": "2023-07-18T06:24:26.406Z"
      },
      {
        "duration": 188,
        "start_time": "2023-07-18T06:24:37.934Z"
      },
      {
        "duration": 139,
        "start_time": "2023-07-18T06:24:42.651Z"
      },
      {
        "duration": 389,
        "start_time": "2023-07-18T06:25:03.442Z"
      },
      {
        "duration": 0,
        "start_time": "2023-07-18T06:25:03.833Z"
      },
      {
        "duration": 0,
        "start_time": "2023-07-18T06:25:03.834Z"
      },
      {
        "duration": 0,
        "start_time": "2023-07-18T06:25:03.835Z"
      },
      {
        "duration": 0,
        "start_time": "2023-07-18T06:25:03.837Z"
      },
      {
        "duration": 0,
        "start_time": "2023-07-18T06:25:03.838Z"
      },
      {
        "duration": 0,
        "start_time": "2023-07-18T06:25:03.839Z"
      },
      {
        "duration": 0,
        "start_time": "2023-07-18T06:25:03.840Z"
      },
      {
        "duration": 0,
        "start_time": "2023-07-18T06:25:03.842Z"
      },
      {
        "duration": 0,
        "start_time": "2023-07-18T06:25:03.843Z"
      },
      {
        "duration": 0,
        "start_time": "2023-07-18T06:25:03.843Z"
      },
      {
        "duration": 0,
        "start_time": "2023-07-18T06:25:03.845Z"
      },
      {
        "duration": 0,
        "start_time": "2023-07-18T06:25:03.845Z"
      },
      {
        "duration": 0,
        "start_time": "2023-07-18T06:25:03.846Z"
      },
      {
        "duration": 0,
        "start_time": "2023-07-18T06:25:03.846Z"
      },
      {
        "duration": 0,
        "start_time": "2023-07-18T06:25:03.847Z"
      },
      {
        "duration": 0,
        "start_time": "2023-07-18T06:25:03.850Z"
      },
      {
        "duration": 0,
        "start_time": "2023-07-18T06:25:03.850Z"
      },
      {
        "duration": 433,
        "start_time": "2023-07-18T06:25:06.088Z"
      },
      {
        "duration": 167,
        "start_time": "2023-07-18T06:25:16.545Z"
      },
      {
        "duration": 19649,
        "start_time": "2023-07-18T06:25:26.718Z"
      },
      {
        "duration": 10152,
        "start_time": "2023-07-18T06:25:48.673Z"
      },
      {
        "duration": 368,
        "start_time": "2023-07-18T06:33:21.456Z"
      },
      {
        "duration": 139,
        "start_time": "2023-07-18T06:33:26.595Z"
      },
      {
        "duration": 5,
        "start_time": "2023-07-18T06:33:33.521Z"
      },
      {
        "duration": 3485,
        "start_time": "2023-07-18T06:33:36.701Z"
      },
      {
        "duration": 629,
        "start_time": "2023-07-18T06:36:50.648Z"
      },
      {
        "duration": 525,
        "start_time": "2023-07-18T06:37:13.856Z"
      },
      {
        "duration": 3236,
        "start_time": "2023-07-18T06:38:57.568Z"
      },
      {
        "duration": 3035,
        "start_time": "2023-07-18T06:39:14.541Z"
      },
      {
        "duration": 2628,
        "start_time": "2023-07-18T06:39:34.032Z"
      },
      {
        "duration": 84790,
        "start_time": "2023-07-18T06:40:20.041Z"
      },
      {
        "duration": 26,
        "start_time": "2023-07-18T06:51:35.783Z"
      },
      {
        "duration": 4,
        "start_time": "2023-07-18T07:33:33.794Z"
      },
      {
        "duration": 76,
        "start_time": "2023-07-18T07:33:33.800Z"
      },
      {
        "duration": 12,
        "start_time": "2023-07-18T07:33:33.878Z"
      },
      {
        "duration": 16,
        "start_time": "2023-07-18T07:33:33.893Z"
      },
      {
        "duration": 4,
        "start_time": "2023-07-18T07:33:33.911Z"
      },
      {
        "duration": 25,
        "start_time": "2023-07-18T07:33:33.917Z"
      },
      {
        "duration": 12,
        "start_time": "2023-07-18T07:33:33.944Z"
      },
      {
        "duration": 15,
        "start_time": "2023-07-18T07:33:33.958Z"
      },
      {
        "duration": 185,
        "start_time": "2023-07-18T07:33:33.974Z"
      },
      {
        "duration": 8,
        "start_time": "2023-07-18T07:33:34.162Z"
      },
      {
        "duration": 27,
        "start_time": "2023-07-18T07:33:34.171Z"
      },
      {
        "duration": 13,
        "start_time": "2023-07-18T07:33:34.200Z"
      },
      {
        "duration": 27,
        "start_time": "2023-07-18T07:33:34.215Z"
      },
      {
        "duration": 33,
        "start_time": "2023-07-18T07:33:34.245Z"
      },
      {
        "duration": 13,
        "start_time": "2023-07-18T07:33:34.279Z"
      },
      {
        "duration": 11,
        "start_time": "2023-07-18T07:33:34.294Z"
      },
      {
        "duration": 13,
        "start_time": "2023-07-18T07:33:34.307Z"
      },
      {
        "duration": 89887,
        "start_time": "2023-07-18T07:33:34.322Z"
      },
      {
        "duration": 37,
        "start_time": "2023-07-18T07:35:04.211Z"
      },
      {
        "duration": 10,
        "start_time": "2023-07-18T07:35:04.253Z"
      },
      {
        "duration": 22,
        "start_time": "2023-07-18T07:38:30.194Z"
      },
      {
        "duration": 98799,
        "start_time": "2023-07-18T07:48:41.894Z"
      },
      {
        "duration": 33,
        "start_time": "2023-07-18T07:50:45.722Z"
      },
      {
        "duration": 3406,
        "start_time": "2023-07-18T08:04:18.149Z"
      },
      {
        "duration": 12,
        "start_time": "2023-07-18T08:04:45.931Z"
      },
      {
        "duration": 4994,
        "start_time": "2023-07-18T08:06:11.424Z"
      },
      {
        "duration": 24,
        "start_time": "2023-07-18T08:06:37.355Z"
      },
      {
        "duration": 7,
        "start_time": "2023-07-18T08:06:42.176Z"
      },
      {
        "duration": 9,
        "start_time": "2023-07-18T08:06:55.386Z"
      },
      {
        "duration": 282,
        "start_time": "2023-07-18T08:07:02.371Z"
      },
      {
        "duration": 10,
        "start_time": "2023-07-18T08:07:14.879Z"
      },
      {
        "duration": 6,
        "start_time": "2023-07-18T08:07:25.621Z"
      },
      {
        "duration": 6,
        "start_time": "2023-07-18T08:07:37.715Z"
      },
      {
        "duration": 5,
        "start_time": "2023-07-18T08:07:44.499Z"
      },
      {
        "duration": 17,
        "start_time": "2023-07-18T08:07:55.838Z"
      },
      {
        "duration": 13,
        "start_time": "2023-07-18T08:08:00.063Z"
      },
      {
        "duration": 8,
        "start_time": "2023-07-18T08:08:16.059Z"
      },
      {
        "duration": 13,
        "start_time": "2023-07-18T08:08:31.092Z"
      },
      {
        "duration": 6,
        "start_time": "2023-07-18T08:08:54.670Z"
      },
      {
        "duration": 3,
        "start_time": "2023-07-18T08:10:47.898Z"
      },
      {
        "duration": 12,
        "start_time": "2023-07-18T08:13:07.190Z"
      },
      {
        "duration": 9,
        "start_time": "2023-07-18T08:13:12.783Z"
      },
      {
        "duration": 21,
        "start_time": "2023-07-18T08:13:20.022Z"
      },
      {
        "duration": 16,
        "start_time": "2023-07-18T08:13:23.733Z"
      },
      {
        "duration": 5,
        "start_time": "2023-07-18T08:13:42.282Z"
      },
      {
        "duration": 19,
        "start_time": "2023-07-18T08:13:54.063Z"
      },
      {
        "duration": 5,
        "start_time": "2023-07-18T08:14:15.841Z"
      },
      {
        "duration": 16,
        "start_time": "2023-07-18T08:14:20.397Z"
      },
      {
        "duration": 10,
        "start_time": "2023-07-18T08:14:25.374Z"
      },
      {
        "duration": 17,
        "start_time": "2023-07-18T08:16:22.772Z"
      },
      {
        "duration": 23,
        "start_time": "2023-07-18T08:16:33.766Z"
      },
      {
        "duration": 9,
        "start_time": "2023-07-18T08:16:38.743Z"
      },
      {
        "duration": 49,
        "start_time": "2023-07-18T08:19:46.630Z"
      },
      {
        "duration": 44,
        "start_time": "2023-07-18T08:20:01.775Z"
      },
      {
        "duration": 45,
        "start_time": "2023-07-18T08:20:18.932Z"
      },
      {
        "duration": 58,
        "start_time": "2023-07-18T08:20:25.612Z"
      },
      {
        "duration": 12,
        "start_time": "2023-07-18T08:22:08.767Z"
      },
      {
        "duration": 16,
        "start_time": "2023-07-18T08:22:10.978Z"
      },
      {
        "duration": 24,
        "start_time": "2023-07-18T08:23:51.906Z"
      },
      {
        "duration": 17,
        "start_time": "2023-07-18T08:23:59.984Z"
      },
      {
        "duration": 29,
        "start_time": "2023-07-18T08:24:39.776Z"
      },
      {
        "duration": 56,
        "start_time": "2023-07-18T08:24:43.709Z"
      },
      {
        "duration": 15,
        "start_time": "2023-07-18T08:24:47.391Z"
      },
      {
        "duration": 4,
        "start_time": "2023-07-18T08:36:25.086Z"
      },
      {
        "duration": 8,
        "start_time": "2023-07-18T08:42:30.948Z"
      },
      {
        "duration": 15,
        "start_time": "2023-07-18T08:43:13.055Z"
      },
      {
        "duration": 16,
        "start_time": "2023-07-18T08:43:22.799Z"
      },
      {
        "duration": 25,
        "start_time": "2023-07-18T08:43:58.156Z"
      },
      {
        "duration": 4,
        "start_time": "2023-07-18T08:44:20.889Z"
      },
      {
        "duration": 22,
        "start_time": "2023-07-18T08:44:21.297Z"
      },
      {
        "duration": 7,
        "start_time": "2023-07-18T08:44:49.988Z"
      },
      {
        "duration": 12,
        "start_time": "2023-07-18T08:44:50.515Z"
      },
      {
        "duration": 12,
        "start_time": "2023-07-18T08:46:32.655Z"
      },
      {
        "duration": 23,
        "start_time": "2023-07-18T08:46:33.161Z"
      },
      {
        "duration": 12,
        "start_time": "2023-07-18T08:46:42.382Z"
      },
      {
        "duration": 14,
        "start_time": "2023-07-18T08:47:10.522Z"
      },
      {
        "duration": 4,
        "start_time": "2023-07-18T08:47:11.387Z"
      },
      {
        "duration": 5,
        "start_time": "2023-07-18T08:47:11.820Z"
      },
      {
        "duration": 5,
        "start_time": "2023-07-18T08:47:12.304Z"
      },
      {
        "duration": 30,
        "start_time": "2023-07-18T08:47:13.273Z"
      },
      {
        "duration": 9,
        "start_time": "2023-07-18T08:48:13.481Z"
      },
      {
        "duration": 27,
        "start_time": "2023-07-18T08:49:52.519Z"
      },
      {
        "duration": 246,
        "start_time": "2023-07-18T08:54:54.676Z"
      },
      {
        "duration": 355,
        "start_time": "2023-07-18T08:55:04.511Z"
      },
      {
        "duration": 164,
        "start_time": "2023-07-18T08:55:23.251Z"
      },
      {
        "duration": 176,
        "start_time": "2023-07-18T08:55:31.760Z"
      },
      {
        "duration": 174,
        "start_time": "2023-07-18T08:55:38.250Z"
      },
      {
        "duration": 181,
        "start_time": "2023-07-18T08:56:00.068Z"
      },
      {
        "duration": 33,
        "start_time": "2023-07-18T08:56:15.006Z"
      },
      {
        "duration": 22,
        "start_time": "2023-07-18T08:56:36.885Z"
      },
      {
        "duration": 5,
        "start_time": "2023-07-18T08:57:18.356Z"
      },
      {
        "duration": 154839,
        "start_time": "2023-07-18T09:01:54.721Z"
      },
      {
        "duration": 32,
        "start_time": "2023-07-18T09:04:34.488Z"
      },
      {
        "duration": 44,
        "start_time": "2023-07-18T09:09:22.460Z"
      },
      {
        "duration": 195663,
        "start_time": "2023-07-18T09:09:29.390Z"
      },
      {
        "duration": 32,
        "start_time": "2023-07-18T09:13:04.161Z"
      },
      {
        "duration": 7,
        "start_time": "2023-07-18T09:13:32.280Z"
      },
      {
        "duration": 34,
        "start_time": "2023-07-18T09:19:31.166Z"
      },
      {
        "duration": 5,
        "start_time": "2023-07-18T09:19:50.866Z"
      },
      {
        "duration": 29,
        "start_time": "2023-07-18T09:19:53.864Z"
      },
      {
        "duration": 4,
        "start_time": "2023-07-18T09:20:20.024Z"
      },
      {
        "duration": 75,
        "start_time": "2023-07-18T09:20:23.376Z"
      },
      {
        "duration": 141,
        "start_time": "2023-07-18T09:22:18.595Z"
      },
      {
        "duration": 71,
        "start_time": "2023-07-18T09:22:45.489Z"
      },
      {
        "duration": 87,
        "start_time": "2023-07-18T09:23:04.500Z"
      },
      {
        "duration": 194,
        "start_time": "2023-07-18T09:23:21.482Z"
      },
      {
        "duration": 166,
        "start_time": "2023-07-18T09:28:11.087Z"
      },
      {
        "duration": 221,
        "start_time": "2023-07-18T09:28:28.356Z"
      },
      {
        "duration": 157,
        "start_time": "2023-07-18T09:28:45.598Z"
      },
      {
        "duration": 24,
        "start_time": "2023-07-18T09:29:10.814Z"
      },
      {
        "duration": 156,
        "start_time": "2023-07-18T09:29:30.420Z"
      },
      {
        "duration": 160,
        "start_time": "2023-07-18T09:30:51.044Z"
      },
      {
        "duration": 36,
        "start_time": "2023-07-18T09:31:17.468Z"
      },
      {
        "duration": 9,
        "start_time": "2023-07-18T09:31:20.866Z"
      },
      {
        "duration": 168647,
        "start_time": "2023-07-18T09:31:26.863Z"
      },
      {
        "duration": 142,
        "start_time": "2023-07-18T09:38:02.824Z"
      },
      {
        "duration": 149,
        "start_time": "2023-07-18T09:38:10.556Z"
      },
      {
        "duration": 21,
        "start_time": "2023-07-18T09:38:17.653Z"
      },
      {
        "duration": 33,
        "start_time": "2023-07-18T09:39:17.784Z"
      },
      {
        "duration": 12,
        "start_time": "2023-07-18T09:39:20.166Z"
      },
      {
        "duration": 19,
        "start_time": "2023-07-18T09:41:36.368Z"
      },
      {
        "duration": 5,
        "start_time": "2023-07-18T09:50:07.147Z"
      },
      {
        "duration": 23,
        "start_time": "2023-07-18T09:51:09.365Z"
      },
      {
        "duration": 6,
        "start_time": "2023-07-18T09:51:30.668Z"
      },
      {
        "duration": 33,
        "start_time": "2023-07-18T09:51:34.621Z"
      },
      {
        "duration": 1486,
        "start_time": "2023-07-18T09:54:57.428Z"
      },
      {
        "duration": 77,
        "start_time": "2023-07-18T09:54:58.916Z"
      },
      {
        "duration": 16,
        "start_time": "2023-07-18T09:54:58.995Z"
      },
      {
        "duration": 11,
        "start_time": "2023-07-18T09:54:59.013Z"
      },
      {
        "duration": 41,
        "start_time": "2023-07-18T09:54:59.026Z"
      },
      {
        "duration": 17,
        "start_time": "2023-07-18T09:54:59.069Z"
      },
      {
        "duration": 14,
        "start_time": "2023-07-18T09:54:59.088Z"
      },
      {
        "duration": 11,
        "start_time": "2023-07-18T09:54:59.103Z"
      },
      {
        "duration": 190,
        "start_time": "2023-07-18T09:54:59.115Z"
      },
      {
        "duration": 9,
        "start_time": "2023-07-18T09:54:59.308Z"
      },
      {
        "duration": 26,
        "start_time": "2023-07-18T09:54:59.336Z"
      },
      {
        "duration": 44,
        "start_time": "2023-07-18T09:54:59.364Z"
      },
      {
        "duration": 22,
        "start_time": "2023-07-18T09:54:59.410Z"
      },
      {
        "duration": 55,
        "start_time": "2023-07-18T09:54:59.434Z"
      },
      {
        "duration": 17,
        "start_time": "2023-07-18T09:54:59.492Z"
      },
      {
        "duration": 5,
        "start_time": "2023-07-18T09:54:59.510Z"
      },
      {
        "duration": 34,
        "start_time": "2023-07-18T09:54:59.516Z"
      },
      {
        "duration": 91526,
        "start_time": "2023-07-18T09:54:59.553Z"
      },
      {
        "duration": 4,
        "start_time": "2023-07-18T09:56:31.081Z"
      },
      {
        "duration": 93626,
        "start_time": "2023-07-18T09:56:31.087Z"
      },
      {
        "duration": 4,
        "start_time": "2023-07-18T09:58:04.715Z"
      },
      {
        "duration": 79,
        "start_time": "2023-07-18T09:58:04.721Z"
      },
      {
        "duration": 12,
        "start_time": "2023-07-18T09:58:04.802Z"
      },
      {
        "duration": 157737,
        "start_time": "2023-07-18T09:58:04.816Z"
      },
      {
        "duration": 143,
        "start_time": "2023-07-18T10:00:42.558Z"
      },
      {
        "duration": 13,
        "start_time": "2023-07-18T10:00:42.703Z"
      },
      {
        "duration": 27,
        "start_time": "2023-07-18T10:00:42.718Z"
      },
      {
        "duration": 23,
        "start_time": "2023-07-18T10:12:35.074Z"
      },
      {
        "duration": 8,
        "start_time": "2023-07-18T10:19:06.559Z"
      },
      {
        "duration": 519844,
        "start_time": "2023-07-18T10:19:25.056Z"
      },
      {
        "duration": 159,
        "start_time": "2023-07-18T10:28:04.902Z"
      },
      {
        "duration": 2076940,
        "start_time": "2023-07-18T10:28:19.112Z"
      },
      {
        "duration": 114,
        "start_time": "2023-07-18T11:13:14.859Z"
      },
      {
        "duration": 4961,
        "start_time": "2023-07-18T11:13:32.064Z"
      },
      {
        "duration": 8643,
        "start_time": "2023-07-18T11:13:40.281Z"
      },
      {
        "duration": 21,
        "start_time": "2023-07-18T11:13:54.355Z"
      },
      {
        "duration": 7,
        "start_time": "2023-07-18T11:13:58.605Z"
      },
      {
        "duration": 151272,
        "start_time": "2023-07-18T11:14:13.009Z"
      },
      {
        "duration": 134,
        "start_time": "2023-07-18T11:20:41.483Z"
      },
      {
        "duration": 19,
        "start_time": "2023-07-18T11:21:06.366Z"
      },
      {
        "duration": 18,
        "start_time": "2023-07-18T11:21:17.689Z"
      },
      {
        "duration": 1517,
        "start_time": "2023-07-19T19:03:18.444Z"
      },
      {
        "duration": 129,
        "start_time": "2023-07-19T19:03:22.625Z"
      },
      {
        "duration": 105,
        "start_time": "2023-07-19T19:03:45.152Z"
      },
      {
        "duration": 4,
        "start_time": "2023-07-19T19:04:21.407Z"
      },
      {
        "duration": 2677,
        "start_time": "2023-07-19T19:04:53.111Z"
      },
      {
        "duration": 4,
        "start_time": "2023-07-19T19:06:00.817Z"
      },
      {
        "duration": 2722,
        "start_time": "2023-07-19T19:06:00.822Z"
      },
      {
        "duration": 93,
        "start_time": "2023-07-19T19:06:03.546Z"
      },
      {
        "duration": 16,
        "start_time": "2023-07-19T19:06:03.641Z"
      },
      {
        "duration": 50,
        "start_time": "2023-07-19T19:06:03.659Z"
      },
      {
        "duration": 3,
        "start_time": "2023-07-19T19:06:05.258Z"
      },
      {
        "duration": 28,
        "start_time": "2023-07-19T19:06:25.158Z"
      },
      {
        "duration": 7,
        "start_time": "2023-07-19T19:12:00.143Z"
      },
      {
        "duration": 9,
        "start_time": "2023-07-19T19:12:00.730Z"
      },
      {
        "duration": 18,
        "start_time": "2023-07-19T19:12:01.623Z"
      },
      {
        "duration": 11,
        "start_time": "2023-07-19T19:12:14.843Z"
      },
      {
        "duration": 4,
        "start_time": "2023-07-19T19:12:25.299Z"
      },
      {
        "duration": 10,
        "start_time": "2023-07-19T19:12:40.129Z"
      },
      {
        "duration": 1263,
        "start_time": "2023-07-19T19:13:22.064Z"
      },
      {
        "duration": 2407,
        "start_time": "2023-07-19T19:13:23.329Z"
      },
      {
        "duration": 68,
        "start_time": "2023-07-19T19:13:25.738Z"
      },
      {
        "duration": 16,
        "start_time": "2023-07-19T19:13:25.808Z"
      },
      {
        "duration": 19,
        "start_time": "2023-07-19T19:13:25.827Z"
      },
      {
        "duration": 3,
        "start_time": "2023-07-19T19:13:25.848Z"
      },
      {
        "duration": 33,
        "start_time": "2023-07-19T19:13:25.853Z"
      },
      {
        "duration": 7,
        "start_time": "2023-07-19T19:13:25.888Z"
      },
      {
        "duration": 14,
        "start_time": "2023-07-19T19:13:25.898Z"
      },
      {
        "duration": 11,
        "start_time": "2023-07-19T19:13:28.697Z"
      },
      {
        "duration": 224,
        "start_time": "2023-07-19T19:13:29.731Z"
      },
      {
        "duration": 7,
        "start_time": "2023-07-19T19:13:32.520Z"
      },
      {
        "duration": 11,
        "start_time": "2023-07-19T19:13:34.652Z"
      },
      {
        "duration": 14,
        "start_time": "2023-07-19T19:13:38.446Z"
      },
      {
        "duration": 9,
        "start_time": "2023-07-19T19:13:39.796Z"
      },
      {
        "duration": 12,
        "start_time": "2023-07-19T19:13:42.754Z"
      },
      {
        "duration": 3,
        "start_time": "2023-07-19T19:50:32.563Z"
      },
      {
        "duration": 2311,
        "start_time": "2023-07-19T19:50:32.568Z"
      },
      {
        "duration": 45,
        "start_time": "2023-07-19T19:50:34.881Z"
      },
      {
        "duration": 10,
        "start_time": "2023-07-19T19:50:34.928Z"
      },
      {
        "duration": 11,
        "start_time": "2023-07-19T19:50:34.940Z"
      },
      {
        "duration": 6,
        "start_time": "2023-07-19T19:50:34.952Z"
      },
      {
        "duration": 18,
        "start_time": "2023-07-19T19:50:34.959Z"
      },
      {
        "duration": 10,
        "start_time": "2023-07-19T19:50:34.978Z"
      },
      {
        "duration": 10,
        "start_time": "2023-07-19T19:50:34.989Z"
      },
      {
        "duration": 136,
        "start_time": "2023-07-19T19:50:35.000Z"
      },
      {
        "duration": 7,
        "start_time": "2023-07-19T19:50:35.138Z"
      },
      {
        "duration": 89,
        "start_time": "2023-07-19T19:50:35.146Z"
      },
      {
        "duration": 51,
        "start_time": "2023-07-19T19:50:35.237Z"
      },
      {
        "duration": 13,
        "start_time": "2023-07-19T19:50:35.290Z"
      },
      {
        "duration": 10,
        "start_time": "2023-07-19T19:50:35.305Z"
      },
      {
        "duration": 140,
        "start_time": "2023-07-19T19:50:35.316Z"
      },
      {
        "duration": 0,
        "start_time": "2023-07-19T19:50:35.458Z"
      },
      {
        "duration": 0,
        "start_time": "2023-07-19T19:50:35.460Z"
      },
      {
        "duration": 10,
        "start_time": "2023-07-19T19:50:37.606Z"
      },
      {
        "duration": 1215,
        "start_time": "2023-07-19T19:50:47.365Z"
      },
      {
        "duration": 2374,
        "start_time": "2023-07-19T19:50:48.582Z"
      },
      {
        "duration": 49,
        "start_time": "2023-07-19T19:50:50.958Z"
      },
      {
        "duration": 12,
        "start_time": "2023-07-19T19:50:51.009Z"
      },
      {
        "duration": 12,
        "start_time": "2023-07-19T19:50:51.023Z"
      },
      {
        "duration": 3,
        "start_time": "2023-07-19T19:50:51.036Z"
      },
      {
        "duration": 16,
        "start_time": "2023-07-19T19:50:51.040Z"
      },
      {
        "duration": 5,
        "start_time": "2023-07-19T19:50:51.058Z"
      },
      {
        "duration": 19,
        "start_time": "2023-07-19T19:50:51.064Z"
      },
      {
        "duration": 249,
        "start_time": "2023-07-19T19:50:51.084Z"
      },
      {
        "duration": 8,
        "start_time": "2023-07-19T19:50:51.335Z"
      },
      {
        "duration": 20,
        "start_time": "2023-07-19T19:50:51.345Z"
      },
      {
        "duration": 17,
        "start_time": "2023-07-19T19:50:51.367Z"
      },
      {
        "duration": 39,
        "start_time": "2023-07-19T19:50:51.386Z"
      },
      {
        "duration": 14,
        "start_time": "2023-07-19T19:50:51.427Z"
      },
      {
        "duration": 154,
        "start_time": "2023-07-19T19:50:51.443Z"
      },
      {
        "duration": 0,
        "start_time": "2023-07-19T19:50:51.599Z"
      },
      {
        "duration": 0,
        "start_time": "2023-07-19T19:50:51.600Z"
      },
      {
        "duration": 12,
        "start_time": "2023-07-19T19:50:53.243Z"
      },
      {
        "duration": 12,
        "start_time": "2023-07-19T19:51:12.804Z"
      },
      {
        "duration": 12,
        "start_time": "2023-07-19T19:51:17.284Z"
      },
      {
        "duration": 13,
        "start_time": "2023-07-19T19:51:31.210Z"
      },
      {
        "duration": 1303,
        "start_time": "2023-07-19T19:52:26.204Z"
      },
      {
        "duration": 2468,
        "start_time": "2023-07-19T19:52:27.509Z"
      },
      {
        "duration": 50,
        "start_time": "2023-07-19T19:52:29.978Z"
      },
      {
        "duration": 14,
        "start_time": "2023-07-19T19:52:30.030Z"
      },
      {
        "duration": 51,
        "start_time": "2023-07-19T19:52:30.046Z"
      },
      {
        "duration": 9,
        "start_time": "2023-07-19T19:52:30.099Z"
      },
      {
        "duration": 30,
        "start_time": "2023-07-19T19:52:30.110Z"
      },
      {
        "duration": 40,
        "start_time": "2023-07-19T19:52:30.142Z"
      },
      {
        "duration": 26,
        "start_time": "2023-07-19T19:52:30.183Z"
      },
      {
        "duration": 231,
        "start_time": "2023-07-19T19:52:30.211Z"
      },
      {
        "duration": 7,
        "start_time": "2023-07-19T19:52:30.444Z"
      },
      {
        "duration": 23,
        "start_time": "2023-07-19T19:52:30.452Z"
      },
      {
        "duration": 28,
        "start_time": "2023-07-19T19:52:30.476Z"
      },
      {
        "duration": 37,
        "start_time": "2023-07-19T19:52:30.505Z"
      },
      {
        "duration": 16,
        "start_time": "2023-07-19T19:52:40.951Z"
      },
      {
        "duration": 12,
        "start_time": "2023-07-19T19:54:07.995Z"
      },
      {
        "duration": 2028,
        "start_time": "2023-07-19T19:58:26.542Z"
      },
      {
        "duration": 1258,
        "start_time": "2023-07-19T19:58:42.028Z"
      },
      {
        "duration": 2285,
        "start_time": "2023-07-19T19:58:43.288Z"
      },
      {
        "duration": 56,
        "start_time": "2023-07-19T19:58:45.575Z"
      },
      {
        "duration": 61,
        "start_time": "2023-07-19T19:58:45.633Z"
      },
      {
        "duration": 16,
        "start_time": "2023-07-19T19:58:45.696Z"
      },
      {
        "duration": 5,
        "start_time": "2023-07-19T19:58:45.714Z"
      },
      {
        "duration": 13,
        "start_time": "2023-07-19T19:58:45.721Z"
      },
      {
        "duration": 12,
        "start_time": "2023-07-19T19:58:45.735Z"
      },
      {
        "duration": 25,
        "start_time": "2023-07-19T19:58:45.749Z"
      },
      {
        "duration": 228,
        "start_time": "2023-07-19T19:58:45.776Z"
      },
      {
        "duration": 18,
        "start_time": "2023-07-19T19:58:46.005Z"
      },
      {
        "duration": 9,
        "start_time": "2023-07-19T19:58:46.024Z"
      },
      {
        "duration": 14,
        "start_time": "2023-07-19T19:58:46.034Z"
      },
      {
        "duration": 11,
        "start_time": "2023-07-19T19:58:46.050Z"
      },
      {
        "duration": 1914,
        "start_time": "2023-07-19T19:58:51.730Z"
      },
      {
        "duration": 13,
        "start_time": "2023-07-19T19:59:15.494Z"
      },
      {
        "duration": 15,
        "start_time": "2023-07-19T19:59:24.006Z"
      },
      {
        "duration": 1268,
        "start_time": "2023-07-19T19:59:36.757Z"
      },
      {
        "duration": 2410,
        "start_time": "2023-07-19T19:59:38.028Z"
      },
      {
        "duration": 50,
        "start_time": "2023-07-19T19:59:40.440Z"
      },
      {
        "duration": 13,
        "start_time": "2023-07-19T19:59:40.491Z"
      },
      {
        "duration": 16,
        "start_time": "2023-07-19T19:59:40.506Z"
      },
      {
        "duration": 3,
        "start_time": "2023-07-19T19:59:40.523Z"
      },
      {
        "duration": 24,
        "start_time": "2023-07-19T19:59:40.527Z"
      },
      {
        "duration": 5,
        "start_time": "2023-07-19T19:59:40.553Z"
      },
      {
        "duration": 12,
        "start_time": "2023-07-19T19:59:40.559Z"
      },
      {
        "duration": 219,
        "start_time": "2023-07-19T19:59:40.572Z"
      },
      {
        "duration": 7,
        "start_time": "2023-07-19T19:59:40.793Z"
      },
      {
        "duration": 18,
        "start_time": "2023-07-19T19:59:40.802Z"
      },
      {
        "duration": 12,
        "start_time": "2023-07-19T19:59:46.350Z"
      },
      {
        "duration": 8,
        "start_time": "2023-07-19T19:59:49.207Z"
      },
      {
        "duration": 13,
        "start_time": "2023-07-19T19:59:52.792Z"
      },
      {
        "duration": 138,
        "start_time": "2023-07-19T20:00:00.785Z"
      },
      {
        "duration": 1258,
        "start_time": "2023-07-19T20:00:15.253Z"
      },
      {
        "duration": 2553,
        "start_time": "2023-07-19T20:00:16.514Z"
      },
      {
        "duration": 49,
        "start_time": "2023-07-19T20:00:19.069Z"
      },
      {
        "duration": 13,
        "start_time": "2023-07-19T20:00:19.120Z"
      },
      {
        "duration": 21,
        "start_time": "2023-07-19T20:00:19.135Z"
      },
      {
        "duration": 3,
        "start_time": "2023-07-19T20:00:19.158Z"
      },
      {
        "duration": 29,
        "start_time": "2023-07-19T20:00:19.163Z"
      },
      {
        "duration": 5,
        "start_time": "2023-07-19T20:00:19.193Z"
      },
      {
        "duration": 26,
        "start_time": "2023-07-19T20:00:19.200Z"
      },
      {
        "duration": 239,
        "start_time": "2023-07-19T20:00:19.228Z"
      },
      {
        "duration": 8,
        "start_time": "2023-07-19T20:00:19.468Z"
      },
      {
        "duration": 22,
        "start_time": "2023-07-19T20:00:19.477Z"
      },
      {
        "duration": 17,
        "start_time": "2023-07-19T20:00:19.500Z"
      },
      {
        "duration": 13,
        "start_time": "2023-07-19T20:00:19.518Z"
      },
      {
        "duration": 129,
        "start_time": "2023-07-19T20:00:23.403Z"
      },
      {
        "duration": 8,
        "start_time": "2023-07-19T20:00:34.878Z"
      },
      {
        "duration": 14,
        "start_time": "2023-07-19T20:00:45.992Z"
      },
      {
        "duration": 2227,
        "start_time": "2023-07-19T20:01:22.799Z"
      },
      {
        "duration": 13,
        "start_time": "2023-07-19T20:01:32.355Z"
      },
      {
        "duration": 13,
        "start_time": "2023-07-19T20:02:46.019Z"
      },
      {
        "duration": 9,
        "start_time": "2023-07-19T20:03:02.392Z"
      },
      {
        "duration": 5,
        "start_time": "2023-07-19T20:03:25.703Z"
      },
      {
        "duration": 4,
        "start_time": "2023-07-19T20:03:58.955Z"
      },
      {
        "duration": 12,
        "start_time": "2023-07-19T20:04:08.651Z"
      },
      {
        "duration": 17,
        "start_time": "2023-07-19T20:04:15.655Z"
      },
      {
        "duration": 13,
        "start_time": "2023-07-19T20:04:32.044Z"
      },
      {
        "duration": 4,
        "start_time": "2023-07-19T20:05:14.143Z"
      },
      {
        "duration": 46,
        "start_time": "2023-07-19T20:05:14.178Z"
      },
      {
        "duration": 10,
        "start_time": "2023-07-19T20:05:14.226Z"
      },
      {
        "duration": 18,
        "start_time": "2023-07-19T20:05:14.237Z"
      },
      {
        "duration": 14,
        "start_time": "2023-07-19T20:05:14.257Z"
      },
      {
        "duration": 13,
        "start_time": "2023-07-19T20:05:14.273Z"
      },
      {
        "duration": 6,
        "start_time": "2023-07-19T20:05:14.288Z"
      },
      {
        "duration": 17,
        "start_time": "2023-07-19T20:05:14.295Z"
      },
      {
        "duration": 134,
        "start_time": "2023-07-19T20:05:14.314Z"
      },
      {
        "duration": 7,
        "start_time": "2023-07-19T20:05:14.450Z"
      },
      {
        "duration": 45,
        "start_time": "2023-07-19T20:05:14.458Z"
      },
      {
        "duration": 24,
        "start_time": "2023-07-19T20:05:14.505Z"
      },
      {
        "duration": 16,
        "start_time": "2023-07-19T20:05:14.531Z"
      },
      {
        "duration": 7,
        "start_time": "2023-07-19T20:05:14.549Z"
      },
      {
        "duration": 5,
        "start_time": "2023-07-19T20:05:17.586Z"
      },
      {
        "duration": 50,
        "start_time": "2023-07-19T20:05:17.593Z"
      },
      {
        "duration": 9,
        "start_time": "2023-07-19T20:05:17.645Z"
      },
      {
        "duration": 10,
        "start_time": "2023-07-19T20:05:17.656Z"
      },
      {
        "duration": 3,
        "start_time": "2023-07-19T20:05:17.667Z"
      },
      {
        "duration": 15,
        "start_time": "2023-07-19T20:05:17.671Z"
      },
      {
        "duration": 6,
        "start_time": "2023-07-19T20:05:17.688Z"
      },
      {
        "duration": 29,
        "start_time": "2023-07-19T20:05:17.695Z"
      },
      {
        "duration": 135,
        "start_time": "2023-07-19T20:05:17.726Z"
      },
      {
        "duration": 7,
        "start_time": "2023-07-19T20:05:17.863Z"
      },
      {
        "duration": 10,
        "start_time": "2023-07-19T20:05:17.872Z"
      },
      {
        "duration": 11,
        "start_time": "2023-07-19T20:05:17.884Z"
      },
      {
        "duration": 30,
        "start_time": "2023-07-19T20:05:17.896Z"
      },
      {
        "duration": 4,
        "start_time": "2023-07-19T20:05:17.928Z"
      },
      {
        "duration": 5,
        "start_time": "2023-07-19T20:05:19.089Z"
      },
      {
        "duration": 13,
        "start_time": "2023-07-19T20:05:20.467Z"
      },
      {
        "duration": 12,
        "start_time": "2023-07-19T20:05:38.354Z"
      },
      {
        "duration": 1366,
        "start_time": "2023-07-19T20:05:52.299Z"
      },
      {
        "duration": 51,
        "start_time": "2023-07-19T20:05:53.668Z"
      },
      {
        "duration": 13,
        "start_time": "2023-07-19T20:05:58.868Z"
      },
      {
        "duration": 13,
        "start_time": "2023-07-19T20:05:59.479Z"
      },
      {
        "duration": 2,
        "start_time": "2023-07-19T20:06:00.795Z"
      },
      {
        "duration": 126,
        "start_time": "2023-07-19T20:06:01.231Z"
      },
      {
        "duration": 10,
        "start_time": "2023-07-19T20:06:10.413Z"
      },
      {
        "duration": 5,
        "start_time": "2023-07-19T20:06:12.039Z"
      },
      {
        "duration": 7,
        "start_time": "2023-07-19T20:06:12.202Z"
      },
      {
        "duration": 146,
        "start_time": "2023-07-19T20:06:12.366Z"
      },
      {
        "duration": 8,
        "start_time": "2023-07-19T20:06:12.697Z"
      },
      {
        "duration": 11,
        "start_time": "2023-07-19T20:06:13.038Z"
      },
      {
        "duration": 12,
        "start_time": "2023-07-19T20:06:13.816Z"
      },
      {
        "duration": 12,
        "start_time": "2023-07-19T20:06:15.503Z"
      },
      {
        "duration": 7,
        "start_time": "2023-07-19T20:06:18.284Z"
      },
      {
        "duration": 98,
        "start_time": "2023-07-19T20:06:20.509Z"
      },
      {
        "duration": 13,
        "start_time": "2023-07-19T20:06:26.557Z"
      },
      {
        "duration": 4,
        "start_time": "2023-07-19T20:07:44.795Z"
      },
      {
        "duration": 54,
        "start_time": "2023-07-19T20:07:44.800Z"
      },
      {
        "duration": 11,
        "start_time": "2023-07-19T20:07:44.857Z"
      },
      {
        "duration": 16,
        "start_time": "2023-07-19T20:07:44.869Z"
      },
      {
        "duration": 3,
        "start_time": "2023-07-19T20:07:44.887Z"
      },
      {
        "duration": 17,
        "start_time": "2023-07-19T20:07:44.892Z"
      },
      {
        "duration": 6,
        "start_time": "2023-07-19T20:07:44.910Z"
      },
      {
        "duration": 13,
        "start_time": "2023-07-19T20:07:44.918Z"
      },
      {
        "duration": 143,
        "start_time": "2023-07-19T20:07:44.932Z"
      },
      {
        "duration": 7,
        "start_time": "2023-07-19T20:07:45.077Z"
      },
      {
        "duration": 40,
        "start_time": "2023-07-19T20:07:45.086Z"
      },
      {
        "duration": 25,
        "start_time": "2023-07-19T20:07:45.127Z"
      },
      {
        "duration": 17,
        "start_time": "2023-07-19T20:07:45.154Z"
      },
      {
        "duration": 6,
        "start_time": "2023-07-19T20:07:46.553Z"
      },
      {
        "duration": 14,
        "start_time": "2023-07-19T20:07:47.865Z"
      },
      {
        "duration": 11,
        "start_time": "2023-07-19T20:08:50.795Z"
      },
      {
        "duration": 157,
        "start_time": "2023-07-19T20:09:08.371Z"
      },
      {
        "duration": 11,
        "start_time": "2023-07-19T20:09:12.358Z"
      },
      {
        "duration": 10,
        "start_time": "2023-07-19T20:10:33.522Z"
      },
      {
        "duration": 15,
        "start_time": "2023-07-19T20:11:01.718Z"
      },
      {
        "duration": 11,
        "start_time": "2023-07-19T20:13:35.355Z"
      },
      {
        "duration": 12,
        "start_time": "2023-07-19T20:13:38.294Z"
      },
      {
        "duration": 4,
        "start_time": "2023-07-19T20:15:35.830Z"
      },
      {
        "duration": 12,
        "start_time": "2023-07-19T20:15:37.248Z"
      },
      {
        "duration": 3,
        "start_time": "2023-07-19T20:17:11.142Z"
      },
      {
        "duration": 57,
        "start_time": "2023-07-19T20:17:11.147Z"
      },
      {
        "duration": 9,
        "start_time": "2023-07-19T20:17:11.206Z"
      },
      {
        "duration": 10,
        "start_time": "2023-07-19T20:17:11.217Z"
      },
      {
        "duration": 16,
        "start_time": "2023-07-19T20:17:11.229Z"
      },
      {
        "duration": 14,
        "start_time": "2023-07-19T20:17:11.247Z"
      },
      {
        "duration": 14,
        "start_time": "2023-07-19T20:17:11.262Z"
      },
      {
        "duration": 13,
        "start_time": "2023-07-19T20:17:11.277Z"
      },
      {
        "duration": 125,
        "start_time": "2023-07-19T20:17:11.291Z"
      },
      {
        "duration": 6,
        "start_time": "2023-07-19T20:17:11.418Z"
      },
      {
        "duration": 15,
        "start_time": "2023-07-19T20:17:11.426Z"
      },
      {
        "duration": 15,
        "start_time": "2023-07-19T20:17:11.443Z"
      },
      {
        "duration": 13,
        "start_time": "2023-07-19T20:17:11.460Z"
      },
      {
        "duration": 14,
        "start_time": "2023-07-19T20:17:13.787Z"
      },
      {
        "duration": 10,
        "start_time": "2023-07-19T20:19:11.589Z"
      },
      {
        "duration": 11,
        "start_time": "2023-07-19T20:23:47.142Z"
      },
      {
        "duration": 11,
        "start_time": "2023-07-19T20:26:02.360Z"
      },
      {
        "duration": 20,
        "start_time": "2023-07-19T20:26:04.898Z"
      },
      {
        "duration": 12,
        "start_time": "2023-07-19T20:28:22.571Z"
      },
      {
        "duration": 4,
        "start_time": "2023-07-19T20:28:25.732Z"
      },
      {
        "duration": 11,
        "start_time": "2023-07-19T20:28:26.613Z"
      },
      {
        "duration": 36642,
        "start_time": "2023-07-19T20:28:51.904Z"
      },
      {
        "duration": 55518,
        "start_time": "2023-07-19T20:32:31.692Z"
      },
      {
        "duration": 83840,
        "start_time": "2023-07-19T20:41:24.830Z"
      },
      {
        "duration": 5,
        "start_time": "2023-07-19T20:43:23.361Z"
      },
      {
        "duration": 20,
        "start_time": "2023-07-19T20:43:32.539Z"
      },
      {
        "duration": 5,
        "start_time": "2023-07-19T20:43:36.156Z"
      },
      {
        "duration": 185,
        "start_time": "2023-07-19T20:43:49.944Z"
      },
      {
        "duration": 114194,
        "start_time": "2023-07-19T20:44:43.879Z"
      },
      {
        "duration": 22,
        "start_time": "2023-07-19T20:46:53.559Z"
      },
      {
        "duration": 19,
        "start_time": "2023-07-19T20:53:04.770Z"
      },
      {
        "duration": 21,
        "start_time": "2023-07-19T20:55:18.413Z"
      },
      {
        "duration": 6,
        "start_time": "2023-07-19T20:55:19.458Z"
      },
      {
        "duration": 113626,
        "start_time": "2023-07-19T20:55:54.296Z"
      },
      {
        "duration": 7522,
        "start_time": "2023-07-19T21:00:31.610Z"
      },
      {
        "duration": 59088,
        "start_time": "2023-07-19T21:00:42.550Z"
      },
      {
        "duration": 105,
        "start_time": "2023-07-19T21:03:25.633Z"
      },
      {
        "duration": 19,
        "start_time": "2023-07-19T21:03:42.646Z"
      },
      {
        "duration": 19,
        "start_time": "2023-07-19T21:03:48.936Z"
      },
      {
        "duration": 26,
        "start_time": "2023-07-19T21:18:09.434Z"
      },
      {
        "duration": 57420,
        "start_time": "2023-07-19T21:19:48.509Z"
      },
      {
        "duration": 3,
        "start_time": "2023-07-19T21:22:57.480Z"
      },
      {
        "duration": 4,
        "start_time": "2023-07-19T21:24:33.019Z"
      },
      {
        "duration": 7704,
        "start_time": "2023-07-19T21:25:25.918Z"
      },
      {
        "duration": 7086,
        "start_time": "2023-07-19T21:25:52.735Z"
      },
      {
        "duration": 1768,
        "start_time": "2023-07-19T21:26:07.563Z"
      },
      {
        "duration": 1910,
        "start_time": "2023-07-19T21:26:16.220Z"
      },
      {
        "duration": 11,
        "start_time": "2023-07-19T21:27:51.945Z"
      },
      {
        "duration": 10,
        "start_time": "2023-07-19T21:27:52.989Z"
      },
      {
        "duration": 10,
        "start_time": "2023-07-19T21:27:56.169Z"
      },
      {
        "duration": 23,
        "start_time": "2023-07-19T21:28:38.463Z"
      },
      {
        "duration": 23,
        "start_time": "2023-07-19T21:28:44.488Z"
      },
      {
        "duration": 2032,
        "start_time": "2023-07-19T21:31:33.089Z"
      },
      {
        "duration": 1223,
        "start_time": "2023-07-19T21:32:11.284Z"
      },
      {
        "duration": 49,
        "start_time": "2023-07-19T21:32:12.509Z"
      },
      {
        "duration": 12,
        "start_time": "2023-07-19T21:32:12.559Z"
      },
      {
        "duration": 8,
        "start_time": "2023-07-19T21:32:23.146Z"
      },
      {
        "duration": 3,
        "start_time": "2023-07-19T21:32:26.748Z"
      },
      {
        "duration": 10,
        "start_time": "2023-07-19T21:32:27.587Z"
      },
      {
        "duration": 5,
        "start_time": "2023-07-19T21:32:30.737Z"
      },
      {
        "duration": 8,
        "start_time": "2023-07-19T21:32:31.226Z"
      },
      {
        "duration": 148,
        "start_time": "2023-07-19T21:32:32.341Z"
      },
      {
        "duration": 8,
        "start_time": "2023-07-19T21:32:33.130Z"
      },
      {
        "duration": 11,
        "start_time": "2023-07-19T21:32:37.008Z"
      },
      {
        "duration": 11,
        "start_time": "2023-07-19T21:32:46.836Z"
      },
      {
        "duration": 12,
        "start_time": "2023-07-19T21:32:49.392Z"
      },
      {
        "duration": 79,
        "start_time": "2023-07-19T21:32:54.884Z"
      },
      {
        "duration": 4,
        "start_time": "2023-07-19T21:33:03.488Z"
      },
      {
        "duration": 13,
        "start_time": "2023-07-19T21:33:05.618Z"
      },
      {
        "duration": 13,
        "start_time": "2023-07-19T21:33:09.502Z"
      },
      {
        "duration": 22,
        "start_time": "2023-07-19T21:33:12.088Z"
      },
      {
        "duration": 30,
        "start_time": "2023-07-19T21:33:32.045Z"
      },
      {
        "duration": 129,
        "start_time": "2023-07-19T21:33:46.524Z"
      },
      {
        "duration": 10,
        "start_time": "2023-07-19T21:34:41.049Z"
      },
      {
        "duration": 14,
        "start_time": "2023-07-19T21:34:46.599Z"
      },
      {
        "duration": 4,
        "start_time": "2023-07-19T21:34:56.603Z"
      },
      {
        "duration": 13,
        "start_time": "2023-07-19T21:34:56.941Z"
      },
      {
        "duration": 33,
        "start_time": "2023-07-19T21:34:58.353Z"
      },
      {
        "duration": 17,
        "start_time": "2023-07-19T21:34:59.947Z"
      },
      {
        "duration": 17,
        "start_time": "2023-07-19T21:35:05.261Z"
      },
      {
        "duration": 8,
        "start_time": "2023-07-19T21:36:05.124Z"
      },
      {
        "duration": 9,
        "start_time": "2023-07-19T21:36:15.994Z"
      },
      {
        "duration": 1323,
        "start_time": "2023-07-19T21:36:30.706Z"
      },
      {
        "duration": 47,
        "start_time": "2023-07-19T21:36:34.827Z"
      },
      {
        "duration": 14,
        "start_time": "2023-07-19T21:36:35.578Z"
      },
      {
        "duration": 9,
        "start_time": "2023-07-19T21:36:36.026Z"
      },
      {
        "duration": 3,
        "start_time": "2023-07-19T21:36:37.378Z"
      },
      {
        "duration": 118,
        "start_time": "2023-07-19T21:36:38.237Z"
      },
      {
        "duration": 4,
        "start_time": "2023-07-19T21:37:39.575Z"
      },
      {
        "duration": 3,
        "start_time": "2023-07-19T21:37:48.251Z"
      },
      {
        "duration": 43,
        "start_time": "2023-07-19T21:37:50.543Z"
      },
      {
        "duration": 10,
        "start_time": "2023-07-19T21:37:51.122Z"
      },
      {
        "duration": 9,
        "start_time": "2023-07-19T21:37:51.803Z"
      },
      {
        "duration": 3,
        "start_time": "2023-07-19T21:37:53.587Z"
      },
      {
        "duration": 11,
        "start_time": "2023-07-19T21:37:54.158Z"
      },
      {
        "duration": 5,
        "start_time": "2023-07-19T21:38:05.379Z"
      },
      {
        "duration": 10,
        "start_time": "2023-07-19T21:38:46.374Z"
      },
      {
        "duration": 2384,
        "start_time": "2023-07-19T21:39:02.915Z"
      },
      {
        "duration": 15,
        "start_time": "2023-07-19T21:39:14.679Z"
      },
      {
        "duration": 8,
        "start_time": "2023-07-19T21:39:29.952Z"
      },
      {
        "duration": 12,
        "start_time": "2023-07-19T21:39:29.962Z"
      },
      {
        "duration": 239,
        "start_time": "2023-07-19T21:39:29.975Z"
      },
      {
        "duration": 7,
        "start_time": "2023-07-19T21:39:30.963Z"
      },
      {
        "duration": 29,
        "start_time": "2023-07-19T21:39:30.978Z"
      },
      {
        "duration": 12,
        "start_time": "2023-07-19T21:39:32.510Z"
      },
      {
        "duration": 9,
        "start_time": "2023-07-19T21:39:33.130Z"
      },
      {
        "duration": 20,
        "start_time": "2023-07-19T21:39:38.253Z"
      },
      {
        "duration": 12,
        "start_time": "2023-07-19T21:40:25.690Z"
      },
      {
        "duration": 11,
        "start_time": "2023-07-19T21:40:30.732Z"
      },
      {
        "duration": 9,
        "start_time": "2023-07-19T21:42:29.045Z"
      },
      {
        "duration": 19,
        "start_time": "2023-07-19T21:42:52.416Z"
      },
      {
        "duration": 13,
        "start_time": "2023-07-19T21:45:03.719Z"
      },
      {
        "duration": 130,
        "start_time": "2023-07-19T21:45:29.717Z"
      },
      {
        "duration": 28,
        "start_time": "2023-07-19T21:45:36.185Z"
      },
      {
        "duration": 31,
        "start_time": "2023-07-19T21:46:58.777Z"
      },
      {
        "duration": 3,
        "start_time": "2023-07-19T21:47:03.853Z"
      },
      {
        "duration": 11,
        "start_time": "2023-07-19T21:47:04.503Z"
      },
      {
        "duration": 37,
        "start_time": "2023-07-19T21:47:07.780Z"
      },
      {
        "duration": 1590,
        "start_time": "2023-07-19T21:47:15.439Z"
      },
      {
        "duration": 59918,
        "start_time": "2023-07-19T21:47:21.275Z"
      },
      {
        "duration": 5,
        "start_time": "2023-07-19T21:48:27.487Z"
      },
      {
        "duration": 1670,
        "start_time": "2023-07-19T21:48:31.351Z"
      },
      {
        "duration": 81417,
        "start_time": "2023-07-19T21:48:40.134Z"
      },
      {
        "duration": 5,
        "start_time": "2023-07-19T21:50:42.143Z"
      },
      {
        "duration": 20,
        "start_time": "2023-07-19T21:50:53.446Z"
      },
      {
        "duration": 6,
        "start_time": "2023-07-19T21:50:55.904Z"
      },
      {
        "duration": 1983,
        "start_time": "2023-07-19T21:53:30.746Z"
      },
      {
        "duration": 8,
        "start_time": "2023-07-19T21:54:56.613Z"
      },
      {
        "duration": 2129,
        "start_time": "2023-07-19T21:55:08.396Z"
      },
      {
        "duration": 9,
        "start_time": "2023-07-19T21:55:23.286Z"
      },
      {
        "duration": 1668,
        "start_time": "2023-07-19T21:56:15.059Z"
      },
      {
        "duration": 2067,
        "start_time": "2023-07-19T21:56:42.863Z"
      },
      {
        "duration": 12,
        "start_time": "2023-07-19T21:56:59.355Z"
      },
      {
        "duration": 4,
        "start_time": "2023-07-19T22:17:21.075Z"
      },
      {
        "duration": 2304,
        "start_time": "2023-07-19T22:17:21.080Z"
      },
      {
        "duration": 48,
        "start_time": "2023-07-19T22:17:23.386Z"
      },
      {
        "duration": 10,
        "start_time": "2023-07-19T22:17:23.436Z"
      },
      {
        "duration": 16,
        "start_time": "2023-07-19T22:17:23.448Z"
      },
      {
        "duration": 2,
        "start_time": "2023-07-19T22:17:23.466Z"
      },
      {
        "duration": 22,
        "start_time": "2023-07-19T22:17:23.470Z"
      },
      {
        "duration": 13,
        "start_time": "2023-07-19T22:17:23.494Z"
      },
      {
        "duration": 19,
        "start_time": "2023-07-19T22:17:23.509Z"
      },
      {
        "duration": 131,
        "start_time": "2023-07-19T22:17:23.530Z"
      },
      {
        "duration": 8,
        "start_time": "2023-07-19T22:17:23.663Z"
      },
      {
        "duration": 17,
        "start_time": "2023-07-19T22:17:23.672Z"
      },
      {
        "duration": 24,
        "start_time": "2023-07-19T22:17:23.690Z"
      },
      {
        "duration": 37,
        "start_time": "2023-07-19T22:17:23.716Z"
      },
      {
        "duration": 11,
        "start_time": "2023-07-19T22:17:26.564Z"
      },
      {
        "duration": 12,
        "start_time": "2023-07-19T22:17:39.348Z"
      },
      {
        "duration": 4,
        "start_time": "2023-07-19T22:18:00.359Z"
      },
      {
        "duration": 3,
        "start_time": "2023-07-19T22:18:25.075Z"
      },
      {
        "duration": 8,
        "start_time": "2023-07-19T22:19:34.483Z"
      },
      {
        "duration": 10,
        "start_time": "2023-07-19T22:19:38.921Z"
      },
      {
        "duration": 11,
        "start_time": "2023-07-19T22:19:51.082Z"
      },
      {
        "duration": 1292,
        "start_time": "2023-07-19T22:21:04.708Z"
      },
      {
        "duration": 2322,
        "start_time": "2023-07-19T22:21:06.003Z"
      },
      {
        "duration": 11760,
        "start_time": "2023-07-19T22:21:08.326Z"
      },
      {
        "duration": 50,
        "start_time": "2023-07-19T22:21:20.088Z"
      },
      {
        "duration": 13,
        "start_time": "2023-07-19T22:21:20.140Z"
      },
      {
        "duration": 18,
        "start_time": "2023-07-19T22:21:20.155Z"
      },
      {
        "duration": 5,
        "start_time": "2023-07-19T22:21:20.175Z"
      },
      {
        "duration": 16,
        "start_time": "2023-07-19T22:21:20.181Z"
      },
      {
        "duration": 7,
        "start_time": "2023-07-19T22:21:20.198Z"
      },
      {
        "duration": 18,
        "start_time": "2023-07-19T22:21:20.206Z"
      },
      {
        "duration": 211,
        "start_time": "2023-07-19T22:21:20.226Z"
      },
      {
        "duration": 7,
        "start_time": "2023-07-19T22:21:20.439Z"
      },
      {
        "duration": 14,
        "start_time": "2023-07-19T22:21:20.448Z"
      },
      {
        "duration": 31,
        "start_time": "2023-07-19T22:21:20.465Z"
      },
      {
        "duration": 10,
        "start_time": "2023-07-19T22:21:20.498Z"
      },
      {
        "duration": 46,
        "start_time": "2023-07-19T22:21:20.510Z"
      },
      {
        "duration": 28,
        "start_time": "2023-07-19T22:21:20.558Z"
      },
      {
        "duration": 35,
        "start_time": "2023-07-19T22:21:20.588Z"
      },
      {
        "duration": 131,
        "start_time": "2023-07-19T22:21:46.200Z"
      },
      {
        "duration": 3,
        "start_time": "2023-07-19T22:21:55.464Z"
      },
      {
        "duration": 11,
        "start_time": "2023-07-19T22:22:39.740Z"
      },
      {
        "duration": 14,
        "start_time": "2023-07-19T22:22:49.822Z"
      },
      {
        "duration": 10,
        "start_time": "2023-07-19T22:23:01.761Z"
      },
      {
        "duration": 3980,
        "start_time": "2023-07-19T22:25:18.745Z"
      },
      {
        "duration": 14,
        "start_time": "2023-07-19T22:26:33.807Z"
      },
      {
        "duration": 12,
        "start_time": "2023-07-19T22:26:45.444Z"
      },
      {
        "duration": 6,
        "start_time": "2023-07-19T22:26:51.112Z"
      },
      {
        "duration": 14,
        "start_time": "2023-07-19T22:30:28.280Z"
      },
      {
        "duration": 16,
        "start_time": "2023-07-19T22:31:12.294Z"
      },
      {
        "duration": 3,
        "start_time": "2023-07-19T22:32:06.809Z"
      },
      {
        "duration": 1311,
        "start_time": "2023-07-19T22:32:30.570Z"
      },
      {
        "duration": 2445,
        "start_time": "2023-07-19T22:32:31.883Z"
      },
      {
        "duration": 2222,
        "start_time": "2023-07-19T22:32:34.330Z"
      },
      {
        "duration": 48,
        "start_time": "2023-07-19T22:32:36.554Z"
      },
      {
        "duration": 12,
        "start_time": "2023-07-19T22:32:36.604Z"
      },
      {
        "duration": 65,
        "start_time": "2023-07-19T22:32:36.617Z"
      },
      {
        "duration": 129,
        "start_time": "2023-07-19T22:32:36.684Z"
      },
      {
        "duration": 157,
        "start_time": "2023-07-19T22:32:36.814Z"
      },
      {
        "duration": 10,
        "start_time": "2023-07-19T22:32:36.972Z"
      },
      {
        "duration": 15,
        "start_time": "2023-07-19T22:32:36.984Z"
      },
      {
        "duration": 206,
        "start_time": "2023-07-19T22:32:37.001Z"
      },
      {
        "duration": 11,
        "start_time": "2023-07-19T22:32:37.209Z"
      },
      {
        "duration": 27,
        "start_time": "2023-07-19T22:32:37.222Z"
      },
      {
        "duration": 21,
        "start_time": "2023-07-19T22:32:37.251Z"
      },
      {
        "duration": 15,
        "start_time": "2023-07-19T22:32:37.273Z"
      },
      {
        "duration": 9,
        "start_time": "2023-07-19T22:32:37.290Z"
      },
      {
        "duration": 19,
        "start_time": "2023-07-19T22:32:37.300Z"
      },
      {
        "duration": 3,
        "start_time": "2023-07-19T22:32:38.943Z"
      },
      {
        "duration": 21,
        "start_time": "2023-07-19T22:33:01.669Z"
      },
      {
        "duration": 23,
        "start_time": "2023-07-19T22:33:55.449Z"
      },
      {
        "duration": 3,
        "start_time": "2023-07-19T22:38:49.899Z"
      },
      {
        "duration": 3,
        "start_time": "2023-07-19T22:38:54.434Z"
      },
      {
        "duration": 5,
        "start_time": "2023-07-19T22:39:05.053Z"
      },
      {
        "duration": 5,
        "start_time": "2023-07-19T22:39:09.435Z"
      },
      {
        "duration": 128,
        "start_time": "2023-07-19T22:39:15.469Z"
      },
      {
        "duration": 4,
        "start_time": "2023-07-19T22:39:20.237Z"
      },
      {
        "duration": 9,
        "start_time": "2023-07-19T22:39:25.199Z"
      },
      {
        "duration": 4,
        "start_time": "2023-07-19T22:41:16.285Z"
      },
      {
        "duration": 27,
        "start_time": "2023-07-19T22:41:25.287Z"
      },
      {
        "duration": 23,
        "start_time": "2023-07-19T22:43:45.489Z"
      },
      {
        "duration": 15,
        "start_time": "2023-07-19T22:44:06.281Z"
      },
      {
        "duration": 4,
        "start_time": "2023-07-19T22:44:11.951Z"
      },
      {
        "duration": 4,
        "start_time": "2023-07-19T22:44:31.775Z"
      },
      {
        "duration": 11,
        "start_time": "2023-07-19T22:44:33.765Z"
      },
      {
        "duration": 4,
        "start_time": "2023-07-19T22:44:53.131Z"
      },
      {
        "duration": 2590,
        "start_time": "2023-07-19T22:44:53.137Z"
      },
      {
        "duration": 2014,
        "start_time": "2023-07-19T22:44:55.729Z"
      },
      {
        "duration": 46,
        "start_time": "2023-07-19T22:44:57.745Z"
      },
      {
        "duration": 10,
        "start_time": "2023-07-19T22:44:57.793Z"
      },
      {
        "duration": 22,
        "start_time": "2023-07-19T22:44:57.805Z"
      },
      {
        "duration": 26,
        "start_time": "2023-07-19T22:44:57.829Z"
      },
      {
        "duration": 29,
        "start_time": "2023-07-19T22:44:57.856Z"
      },
      {
        "duration": 18,
        "start_time": "2023-07-19T22:44:57.886Z"
      },
      {
        "duration": 9,
        "start_time": "2023-07-19T22:44:57.906Z"
      },
      {
        "duration": 132,
        "start_time": "2023-07-19T22:44:57.917Z"
      },
      {
        "duration": 7,
        "start_time": "2023-07-19T22:44:58.051Z"
      },
      {
        "duration": 24,
        "start_time": "2023-07-19T22:44:58.060Z"
      },
      {
        "duration": 47,
        "start_time": "2023-07-19T22:44:58.086Z"
      },
      {
        "duration": 21,
        "start_time": "2023-07-19T22:44:58.135Z"
      },
      {
        "duration": 33,
        "start_time": "2023-07-19T22:44:58.158Z"
      },
      {
        "duration": 15,
        "start_time": "2023-07-19T22:44:58.193Z"
      },
      {
        "duration": 4,
        "start_time": "2023-07-19T22:45:01.440Z"
      },
      {
        "duration": 22,
        "start_time": "2023-07-19T22:45:02.184Z"
      },
      {
        "duration": 26,
        "start_time": "2023-07-19T22:49:15.773Z"
      },
      {
        "duration": 19,
        "start_time": "2023-07-19T22:49:27.988Z"
      },
      {
        "duration": 1197,
        "start_time": "2023-07-19T22:49:41.584Z"
      },
      {
        "duration": 2278,
        "start_time": "2023-07-19T22:49:42.783Z"
      },
      {
        "duration": 1984,
        "start_time": "2023-07-19T22:49:45.063Z"
      },
      {
        "duration": 48,
        "start_time": "2023-07-19T22:49:47.050Z"
      },
      {
        "duration": 13,
        "start_time": "2023-07-19T22:49:47.100Z"
      },
      {
        "duration": 15,
        "start_time": "2023-07-19T22:49:47.114Z"
      },
      {
        "duration": 5,
        "start_time": "2023-07-19T22:49:47.130Z"
      },
      {
        "duration": 23,
        "start_time": "2023-07-19T22:49:47.136Z"
      },
      {
        "duration": 12,
        "start_time": "2023-07-19T22:49:47.160Z"
      },
      {
        "duration": 16,
        "start_time": "2023-07-19T22:49:47.174Z"
      },
      {
        "duration": 205,
        "start_time": "2023-07-19T22:49:47.191Z"
      },
      {
        "duration": 7,
        "start_time": "2023-07-19T22:49:47.398Z"
      },
      {
        "duration": 15,
        "start_time": "2023-07-19T22:49:47.407Z"
      },
      {
        "duration": 20,
        "start_time": "2023-07-19T22:49:47.424Z"
      },
      {
        "duration": 30,
        "start_time": "2023-07-19T22:49:47.445Z"
      },
      {
        "duration": 7,
        "start_time": "2023-07-19T22:49:47.476Z"
      },
      {
        "duration": 10,
        "start_time": "2023-07-19T22:49:47.485Z"
      },
      {
        "duration": 4,
        "start_time": "2023-07-19T22:49:47.496Z"
      },
      {
        "duration": 5,
        "start_time": "2023-07-19T22:49:49.461Z"
      },
      {
        "duration": 24,
        "start_time": "2023-07-19T22:49:49.796Z"
      },
      {
        "duration": 24,
        "start_time": "2023-07-19T22:49:54.441Z"
      },
      {
        "duration": 4,
        "start_time": "2023-07-19T22:52:19.409Z"
      },
      {
        "duration": 10,
        "start_time": "2023-07-19T22:52:20.345Z"
      },
      {
        "duration": 4,
        "start_time": "2023-07-19T22:52:22.612Z"
      },
      {
        "duration": 23,
        "start_time": "2023-07-19T22:52:23.160Z"
      },
      {
        "duration": 24,
        "start_time": "2023-07-19T22:52:24.129Z"
      },
      {
        "duration": 38,
        "start_time": "2023-07-19T22:52:26.618Z"
      },
      {
        "duration": 1543,
        "start_time": "2023-07-19T22:52:31.384Z"
      },
      {
        "duration": 56174,
        "start_time": "2023-07-19T22:52:38.818Z"
      },
      {
        "duration": 6,
        "start_time": "2023-07-19T22:54:25.276Z"
      },
      {
        "duration": 1555,
        "start_time": "2023-07-19T22:54:27.674Z"
      },
      {
        "duration": 78779,
        "start_time": "2023-07-19T22:54:31.982Z"
      },
      {
        "duration": 8088,
        "start_time": "2023-07-19T22:56:22.298Z"
      },
      {
        "duration": 4,
        "start_time": "2023-07-19T22:57:31.031Z"
      },
      {
        "duration": 18,
        "start_time": "2023-07-19T22:57:36.228Z"
      },
      {
        "duration": 4,
        "start_time": "2023-07-19T22:57:38.965Z"
      },
      {
        "duration": 2368,
        "start_time": "2023-07-19T22:57:41.160Z"
      },
      {
        "duration": 55536,
        "start_time": "2023-07-19T22:57:57.982Z"
      },
      {
        "duration": 10,
        "start_time": "2023-07-19T22:59:44.217Z"
      },
      {
        "duration": 15,
        "start_time": "2023-07-19T22:59:46.127Z"
      },
      {
        "duration": 101,
        "start_time": "2023-07-19T23:01:21.168Z"
      },
      {
        "duration": 8,
        "start_time": "2023-07-19T23:01:39.351Z"
      },
      {
        "duration": 17,
        "start_time": "2023-07-19T23:01:54.766Z"
      },
      {
        "duration": 124,
        "start_time": "2023-07-19T23:05:29.105Z"
      },
      {
        "duration": 4,
        "start_time": "2023-07-19T23:06:06.234Z"
      },
      {
        "duration": 5,
        "start_time": "2023-07-19T23:06:20.691Z"
      },
      {
        "duration": 5,
        "start_time": "2023-07-19T23:07:49.613Z"
      },
      {
        "duration": 9,
        "start_time": "2023-07-19T23:08:03.601Z"
      },
      {
        "duration": 6,
        "start_time": "2023-07-19T23:08:04.416Z"
      },
      {
        "duration": 21,
        "start_time": "2023-07-19T23:08:14.320Z"
      },
      {
        "duration": 8,
        "start_time": "2023-07-19T23:08:15.166Z"
      },
      {
        "duration": 12,
        "start_time": "2023-07-19T23:09:27.788Z"
      },
      {
        "duration": 13,
        "start_time": "2023-07-19T23:10:39.451Z"
      },
      {
        "duration": 11,
        "start_time": "2023-07-19T23:10:46.592Z"
      },
      {
        "duration": 18,
        "start_time": "2023-07-19T23:11:33.643Z"
      },
      {
        "duration": 4,
        "start_time": "2023-07-19T23:15:30.186Z"
      },
      {
        "duration": 6,
        "start_time": "2023-07-19T23:16:33.515Z"
      },
      {
        "duration": 7,
        "start_time": "2023-07-19T23:17:09.832Z"
      },
      {
        "duration": 10,
        "start_time": "2023-07-19T23:18:01.990Z"
      },
      {
        "duration": 8,
        "start_time": "2023-07-19T23:18:38.616Z"
      },
      {
        "duration": 4,
        "start_time": "2023-07-19T23:19:35.876Z"
      },
      {
        "duration": 2612,
        "start_time": "2023-07-19T23:20:07.623Z"
      },
      {
        "duration": 2331,
        "start_time": "2023-07-19T23:20:11.152Z"
      },
      {
        "duration": 9423,
        "start_time": "2023-07-20T10:44:41.525Z"
      },
      {
        "duration": 36140,
        "start_time": "2023-07-20T10:44:53.951Z"
      }
    ],
    "toc": {
      "base_numbering": 1,
      "nav_menu": {
        "height": "307px",
        "width": "322px"
      },
      "number_sections": true,
      "sideBar": true,
      "skip_h1_title": true,
      "title_cell": "Содержание",
      "title_sidebar": "Contents",
      "toc_cell": true,
      "toc_position": {},
      "toc_section_display": true,
      "toc_window_display": false
    },
    "kernelspec": {
      "name": "python",
      "display_name": "Python (Pyodide)",
      "language": "python"
    },
    "language_info": {
      "codemirror_mode": {
        "name": "python",
        "version": 3
      },
      "file_extension": ".py",
      "mimetype": "text/x-python",
      "name": "python",
      "nbconvert_exporter": "python",
      "pygments_lexer": "ipython3",
      "version": "3.8"
    }
  },
  "nbformat_minor": 4,
  "nbformat": 4,
  "cells": [
    {
      "cell_type": "markdown",
      "source": "<h1>Содержание<span class=\"tocSkip\"></span></h1>\n<div class=\"toc\"><ul class=\"toc-item\"><li><span><a href=\"#Подготовка-данных\" data-toc-modified-id=\"Подготовка-данных-1\"><span class=\"toc-item-num\">1&nbsp;&nbsp;</span>Подготовка данных</a></span><ul class=\"toc-item\"><li><span><a href=\"#Ознакомление-с-данными\" data-toc-modified-id=\"Ознакомление-с-данными-1.1\"><span class=\"toc-item-num\">1.1&nbsp;&nbsp;</span>Ознакомление с данными</a></span></li><li><span><a href=\"#Предобработка--данных\" data-toc-modified-id=\"Предобработка--данных-1.2\"><span class=\"toc-item-num\">1.2&nbsp;&nbsp;</span>Предобработка  данных</a></span></li></ul></li><li><span><a href=\"#Исследование-задачи\" data-toc-modified-id=\"Исследование-задачи-2\"><span class=\"toc-item-num\">2&nbsp;&nbsp;</span>Исследование задачи</a></span><ul class=\"toc-item\"><li><span><a href=\"#Кодирование-и-масштабирование-признаков\" data-toc-modified-id=\"Кодирование-и-масштабирование-признаков-2.1\"><span class=\"toc-item-num\">2.1&nbsp;&nbsp;</span>Кодирование и масштабирование признаков</a></span></li><li><span><a href=\"#Построение-моделей-типа-Логистическая-регрессия-и-Случайный-лес\" data-toc-modified-id=\"Построение-моделей-типа-Логистическая-регрессия-и-Случайный-лес-2.2\"><span class=\"toc-item-num\">2.2&nbsp;&nbsp;</span>Построение моделей типа Логистическая регрессия и Случайный лес</a></span></li><li><span><a href=\"#Баланс-признаков\" data-toc-modified-id=\"Баланс-признаков-2.3\"><span class=\"toc-item-num\">2.3&nbsp;&nbsp;</span>Баланс признаков</a></span></li></ul></li><li><span><a href=\"#Борьба-с-дисбалансом\" data-toc-modified-id=\"Борьба-с-дисбалансом-3\"><span class=\"toc-item-num\">3&nbsp;&nbsp;</span>Борьба с дисбалансом</a></span></li><li><span><a href=\"#Тестирование-модели\" data-toc-modified-id=\"Тестирование-модели-4\"><span class=\"toc-item-num\">4&nbsp;&nbsp;</span>Тестирование модели</a></span></li><li><span><a href=\"#Чек-лист-готовности-проекта\" data-toc-modified-id=\"Чек-лист-готовности-проекта-5\"><span class=\"toc-item-num\">5&nbsp;&nbsp;</span>Чек-лист готовности проекта</a></span></li></ul></div>",
      "metadata": {
        "toc": true
      }
    },
    {
      "cell_type": "markdown",
      "source": "# Отток клиентов",
      "metadata": {}
    },
    {
      "cell_type": "markdown",
      "source": "Из «Бета-Банка» стали уходить клиенты. Каждый месяц. Немного, но заметно. Банковские маркетологи посчитали: сохранять текущих клиентов дешевле, чем привлекать новых.\n\nНужно спрогнозировать, уйдёт клиент из банка в ближайшее время или нет. Вам предоставлены исторические данные о поведении клиентов и расторжении договоров с банком. \n\nПостройте модель с предельно большим значением *F1*-меры. Чтобы сдать проект успешно, нужно довести метрику до 0.59. Проверьте *F1*-меру на тестовой выборке самостоятельно.\n\nДополнительно измеряйте *AUC-ROC*, сравнивайте её значение с *F1*-мерой.\n\nИсточник данных: [https://www.kaggle.com/barelydedicated/bank-customer-churn-modeling](https://www.kaggle.com/barelydedicated/bank-customer-churn-modeling)",
      "metadata": {}
    },
    {
      "cell_type": "markdown",
      "source": "Данные о столбцах",
      "metadata": {}
    },
    {
      "cell_type": "markdown",
      "source": "- RowNumber — индекс строки в данных\n- CustomerId — уникальный идентификатор клиента\n- Surname — фамилия\n- CreditScore — кредитный рейтинг\n- Geography — страна проживания\n- Gender — пол\n- Age — возраст\n- Tenure — сколько лет человек является клиентом банка\n- Balance — баланс на счёте\n- NumOfProducts — количество продуктов банка, используемых клиентом\n- HasCrCard — наличие кредитной карты\n- IsActiveMember — активность клиента\n- EstimatedSalary — предполагаемая зарплата\n- Exited — факт ухода клиента",
      "metadata": {}
    },
    {
      "cell_type": "markdown",
      "source": "# Цель проекта",
      "metadata": {}
    },
    {
      "cell_type": "markdown",
      "source": "Построить модель, которая предскажет уйдет клиент из банки или нет с метрикой F1 не менее 0,59.",
      "metadata": {}
    },
    {
      "cell_type": "markdown",
      "source": "# Задачи проекта",
      "metadata": {}
    },
    {
      "cell_type": "markdown",
      "source": "1. Провести ознакомление и предобработку данных\n2. Закодировать категориальные признаки модели\n3. Масштабировать признаки\n4. Разбить данные на 3 выборки: обучающую, валидационную и тестовую\n5. Проверить дисбаланс классов\n6. Построить модель без учета и с учетом дисбаланса классов\n7. Нивелировать дисбаланс классов с Использованием методов upsampling или downsampling и подбора пороговых значений\n8. Проверить модель на адекватность с помощью метрики roc_auc_score",
      "metadata": {}
    },
    {
      "cell_type": "markdown",
      "source": "## Подготовка данных",
      "metadata": {}
    },
    {
      "cell_type": "markdown",
      "source": "### Ознакомление с данными",
      "metadata": {}
    },
    {
      "cell_type": "markdown",
      "source": "Ознакомимся с данными с помощью методов `info`, `head`, `duplicated`",
      "metadata": {}
    },
    {
      "cell_type": "code",
      "source": "!pip install scikit-learn==1.1.3",
      "metadata": {
        "scrolled": true
      },
      "execution_count": 1,
      "outputs": [
        {
          "name": "stdout",
          "output_type": "stream",
          "text": "Collecting scikit-learn==1.1.3\n\n  Downloading scikit_learn-1.1.3-cp39-cp39-manylinux_2_17_x86_64.manylinux2014_x86_64.whl (30.8 MB)\n\n\u001b[K     |████████████████████████████████| 30.8 MB 43 kB/s  eta 0:00:01\n\n\u001b[?25hRequirement already satisfied: numpy>=1.17.3 in /opt/conda/lib/python3.9/site-packages (from scikit-learn==1.1.3) (1.21.1)\n\nRequirement already satisfied: threadpoolctl>=2.0.0 in /opt/conda/lib/python3.9/site-packages (from scikit-learn==1.1.3) (3.1.0)\n\nRequirement already satisfied: scipy>=1.3.2 in /opt/conda/lib/python3.9/site-packages (from scikit-learn==1.1.3) (1.9.1)\n\nRequirement already satisfied: joblib>=1.0.0 in /opt/conda/lib/python3.9/site-packages (from scikit-learn==1.1.3) (1.1.0)\n\nInstalling collected packages: scikit-learn\n\n  Attempting uninstall: scikit-learn\n\n    Found existing installation: scikit-learn 0.24.1\n\n    Uninstalling scikit-learn-0.24.1:\n\n      Successfully uninstalled scikit-learn-0.24.1\n\nSuccessfully installed scikit-learn-1.1.3\n"
        }
      ]
    },
    {
      "cell_type": "code",
      "source": "!pip install skimpy\nfrom skimpy import clean_columns",
      "metadata": {
        "scrolled": true
      },
      "execution_count": 2,
      "outputs": [
        {
          "name": "stdout",
          "output_type": "stream",
          "text": "Collecting skimpy\n\n  Downloading skimpy-0.0.9-py3-none-any.whl (15 kB)\n\nCollecting pandas<3.0.0,>=2.0.3\n\n  Downloading pandas-2.0.3-cp39-cp39-manylinux_2_17_x86_64.manylinux2014_x86_64.whl (12.4 MB)\n\n\u001b[K     |████████████████████████████████| 12.4 MB 1.9 MB/s eta 0:00:01\n\n\u001b[?25hCollecting numpy<2.0.0,>=1.22.2\n\n  Downloading numpy-1.25.1-cp39-cp39-manylinux_2_17_x86_64.manylinux2014_x86_64.whl (17.7 MB)\n\n\u001b[K     |████████████████████████████████| 17.7 MB 29.4 MB/s eta 0:00:01    |███████████                     | 6.1 MB 29.4 MB/s eta 0:00:01███████████████████████▎      | 13.9 MB 29.4 MB/s eta 0:00:01\n\n\u001b[?25hCollecting ipykernel<7.0.0,>=6.7.0\n\n  Downloading ipykernel-6.24.0-py3-none-any.whl (152 kB)\n\n\u001b[K     |████████████████████████████████| 152 kB 47.2 MB/s eta 0:00:01\n\n\u001b[?25hCollecting Pygments<3.0.0,>=2.10.0\n\n  Downloading Pygments-2.15.1-py3-none-any.whl (1.1 MB)\n\n\u001b[K     |████████████████████████████████| 1.1 MB 70.7 MB/s eta 0:00:01:00:01\n\n\u001b[?25hRequirement already satisfied: jupyter<2.0.0,>=1.0.0 in /opt/conda/lib/python3.9/site-packages (from skimpy) (1.0.0)\n\nCollecting typeguard<3.0.0,>=2.12.1\n\n  Downloading typeguard-2.13.3-py3-none-any.whl (17 kB)\n\nCollecting rich<14.0,>=10.9\n\n  Downloading rich-13.4.2-py3-none-any.whl (239 kB)\n\n\u001b[K     |████████████████████████████████| 239 kB 74.1 MB/s eta 0:00:01\n\n\u001b[?25hRequirement already satisfied: click<9.0.0,>=8.1.3 in /opt/conda/lib/python3.9/site-packages (from skimpy) (8.1.3)\n\nRequirement already satisfied: ipython>=7.23.1 in /opt/conda/lib/python3.9/site-packages (from ipykernel<7.0.0,>=6.7.0->skimpy) (7.25.0)\n\nRequirement already satisfied: jupyter-client>=6.1.12 in /opt/conda/lib/python3.9/site-packages (from ipykernel<7.0.0,>=6.7.0->skimpy) (6.1.12)\n\nCollecting comm>=0.1.1\n\n  Downloading comm-0.1.3-py3-none-any.whl (6.6 kB)\n\nCollecting jupyter-core!=5.0.*,>=4.12\n\n  Downloading jupyter_core-5.3.1-py3-none-any.whl (93 kB)\n\n\u001b[K     |████████████████████████████████| 93 kB 608 kB/s  eta 0:00:01\n\n\u001b[?25hCollecting debugpy>=1.6.5\n\n  Downloading debugpy-1.6.7-cp39-cp39-manylinux_2_17_x86_64.manylinux2014_x86_64.whl (3.1 MB)\n\n\u001b[K     |████████████████████████████████| 3.1 MB 43.5 MB/s eta 0:00:01\n\n\u001b[?25hRequirement already satisfied: matplotlib-inline>=0.1 in /opt/conda/lib/python3.9/site-packages (from ipykernel<7.0.0,>=6.7.0->skimpy) (0.1.2)\n\nRequirement already satisfied: nest-asyncio in /opt/conda/lib/python3.9/site-packages (from ipykernel<7.0.0,>=6.7.0->skimpy) (1.5.1)\n\nRequirement already satisfied: packaging in /opt/conda/lib/python3.9/site-packages (from ipykernel<7.0.0,>=6.7.0->skimpy) (21.3)\n\nRequirement already satisfied: tornado>=6.1 in /opt/conda/lib/python3.9/site-packages (from ipykernel<7.0.0,>=6.7.0->skimpy) (6.1)\n\nCollecting traitlets>=5.4.0\n\n  Downloading traitlets-5.9.0-py3-none-any.whl (117 kB)\n\n\u001b[K     |████████████████████████████████| 117 kB 56.2 MB/s eta 0:00:01\n\n\u001b[?25hRequirement already satisfied: pyzmq>=20 in /opt/conda/lib/python3.9/site-packages (from ipykernel<7.0.0,>=6.7.0->skimpy) (22.1.0)\n\nCollecting psutil\n\n  Downloading psutil-5.9.5-cp36-abi3-manylinux_2_12_x86_64.manylinux2010_x86_64.manylinux_2_17_x86_64.manylinux2014_x86_64.whl (282 kB)\n\n\u001b[K     |████████████████████████████████| 282 kB 55.9 MB/s eta 0:00:01\n\n\u001b[?25hRequirement already satisfied: setuptools>=18.5 in /opt/conda/lib/python3.9/site-packages (from ipython>=7.23.1->ipykernel<7.0.0,>=6.7.0->skimpy) (49.6.0.post20210108)\n\nRequirement already satisfied: pexpect>4.3 in /opt/conda/lib/python3.9/site-packages (from ipython>=7.23.1->ipykernel<7.0.0,>=6.7.0->skimpy) (4.8.0)\n\nRequirement already satisfied: decorator in /opt/conda/lib/python3.9/site-packages (from ipython>=7.23.1->ipykernel<7.0.0,>=6.7.0->skimpy) (5.0.9)\n\nRequirement already satisfied: jedi>=0.16 in /opt/conda/lib/python3.9/site-packages (from ipython>=7.23.1->ipykernel<7.0.0,>=6.7.0->skimpy) (0.18.0)\n\nRequirement already satisfied: backcall in /opt/conda/lib/python3.9/site-packages (from ipython>=7.23.1->ipykernel<7.0.0,>=6.7.0->skimpy) (0.2.0)\n\nRequirement already satisfied: pickleshare in /opt/conda/lib/python3.9/site-packages (from ipython>=7.23.1->ipykernel<7.0.0,>=6.7.0->skimpy) (0.7.5)\n\nRequirement already satisfied: prompt-toolkit!=3.0.0,!=3.0.1,<3.1.0,>=2.0.0 in /opt/conda/lib/python3.9/site-packages (from ipython>=7.23.1->ipykernel<7.0.0,>=6.7.0->skimpy) (3.0.19)\n\nRequirement already satisfied: parso<0.9.0,>=0.8.0 in /opt/conda/lib/python3.9/site-packages (from jedi>=0.16->ipython>=7.23.1->ipykernel<7.0.0,>=6.7.0->skimpy) (0.8.2)\n\nRequirement already satisfied: qtconsole in /opt/conda/lib/python3.9/site-packages (from jupyter<2.0.0,>=1.0.0->skimpy) (5.3.2)\n\nRequirement already satisfied: jupyter-console in /opt/conda/lib/python3.9/site-packages (from jupyter<2.0.0,>=1.0.0->skimpy) (6.4.2)\n\nRequirement already satisfied: nbconvert in /opt/conda/lib/python3.9/site-packages (from jupyter<2.0.0,>=1.0.0->skimpy) (6.1.0)\n\nRequirement already satisfied: ipywidgets in /opt/conda/lib/python3.9/site-packages (from jupyter<2.0.0,>=1.0.0->skimpy) (7.6.3)\n\nRequirement already satisfied: notebook in /opt/conda/lib/python3.9/site-packages (from jupyter<2.0.0,>=1.0.0->skimpy) (6.4.0)\n\nRequirement already satisfied: python-dateutil>=2.1 in /opt/conda/lib/python3.9/site-packages (from jupyter-client>=6.1.12->ipykernel<7.0.0,>=6.7.0->skimpy) (2.8.1)\n\nCollecting platformdirs>=2.5\n\n  Downloading platformdirs-3.9.1-py3-none-any.whl (16 kB)\n\nRequirement already satisfied: pytz>=2020.1 in /opt/conda/lib/python3.9/site-packages (from pandas<3.0.0,>=2.0.3->skimpy) (2021.1)\n\nCollecting tzdata>=2022.1\n\n  Downloading tzdata-2023.3-py2.py3-none-any.whl (341 kB)\n\n\u001b[K     |████████████████████████████████| 341 kB 67.9 MB/s eta 0:00:01\n\n\u001b[?25hCollecting python-dateutil>=2.1\n\n  Downloading python_dateutil-2.8.2-py2.py3-none-any.whl (247 kB)\n\n\u001b[K     |████████████████████████████████| 247 kB 88.7 MB/s eta 0:00:01\n\n\u001b[?25hRequirement already satisfied: ptyprocess>=0.5 in /opt/conda/lib/python3.9/site-packages (from pexpect>4.3->ipython>=7.23.1->ipykernel<7.0.0,>=6.7.0->skimpy) (0.7.0)\n\nRequirement already satisfied: wcwidth in /opt/conda/lib/python3.9/site-packages (from prompt-toolkit!=3.0.0,!=3.0.1,<3.1.0,>=2.0.0->ipython>=7.23.1->ipykernel<7.0.0,>=6.7.0->skimpy) (0.2.5)\n\nRequirement already satisfied: six>=1.5 in /opt/conda/lib/python3.9/site-packages (from python-dateutil>=2.1->jupyter-client>=6.1.12->ipykernel<7.0.0,>=6.7.0->skimpy) (1.16.0)\n\nCollecting markdown-it-py>=2.2.0\n\n  Downloading markdown_it_py-3.0.0-py3-none-any.whl (87 kB)\n\n\u001b[K     |████████████████████████████████| 87 kB 1.2 MB/s  eta 0:00:01\n\n\u001b[?25hCollecting mdurl~=0.1\n\n  Downloading mdurl-0.1.2-py3-none-any.whl (10.0 kB)\n\nRequirement already satisfied: jupyterlab-widgets>=1.0.0 in /opt/conda/lib/python3.9/site-packages (from ipywidgets->jupyter<2.0.0,>=1.0.0->skimpy) (3.0.2)\n\nRequirement already satisfied: nbformat>=4.2.0 in /opt/conda/lib/python3.9/site-packages (from ipywidgets->jupyter<2.0.0,>=1.0.0->skimpy) (5.1.3)\n\nRequirement already satisfied: widgetsnbextension~=3.5.0 in /opt/conda/lib/python3.9/site-packages (from ipywidgets->jupyter<2.0.0,>=1.0.0->skimpy) (3.5.2)\n\nRequirement already satisfied: jsonschema!=2.5.0,>=2.4 in /opt/conda/lib/python3.9/site-packages (from nbformat>=4.2.0->ipywidgets->jupyter<2.0.0,>=1.0.0->skimpy) (3.2.0)\n\nRequirement already satisfied: ipython-genutils in /opt/conda/lib/python3.9/site-packages (from nbformat>=4.2.0->ipywidgets->jupyter<2.0.0,>=1.0.0->skimpy) (0.2.0)\n\nRequirement already satisfied: attrs>=17.4.0 in /opt/conda/lib/python3.9/site-packages (from jsonschema!=2.5.0,>=2.4->nbformat>=4.2.0->ipywidgets->jupyter<2.0.0,>=1.0.0->skimpy) (21.2.0)\n\nRequirement already satisfied: pyrsistent>=0.14.0 in /opt/conda/lib/python3.9/site-packages (from jsonschema!=2.5.0,>=2.4->nbformat>=4.2.0->ipywidgets->jupyter<2.0.0,>=1.0.0->skimpy) (0.17.3)\n\nRequirement already satisfied: argon2-cffi in /opt/conda/lib/python3.9/site-packages (from notebook->jupyter<2.0.0,>=1.0.0->skimpy) (20.1.0)\n\nRequirement already satisfied: terminado>=0.8.3 in /opt/conda/lib/python3.9/site-packages (from notebook->jupyter<2.0.0,>=1.0.0->skimpy) (0.10.1)\n\nRequirement already satisfied: jinja2 in /opt/conda/lib/python3.9/site-packages (from notebook->jupyter<2.0.0,>=1.0.0->skimpy) (3.0.1)\n\nRequirement already satisfied: prometheus-client in /opt/conda/lib/python3.9/site-packages (from notebook->jupyter<2.0.0,>=1.0.0->skimpy) (0.11.0)\n\nRequirement already satisfied: Send2Trash>=1.5.0 in /opt/conda/lib/python3.9/site-packages (from notebook->jupyter<2.0.0,>=1.0.0->skimpy) (1.7.1)\n\nRequirement already satisfied: cffi>=1.0.0 in /opt/conda/lib/python3.9/site-packages (from argon2-cffi->notebook->jupyter<2.0.0,>=1.0.0->skimpy) (1.14.5)\n\nRequirement already satisfied: pycparser in /opt/conda/lib/python3.9/site-packages (from cffi>=1.0.0->argon2-cffi->notebook->jupyter<2.0.0,>=1.0.0->skimpy) (2.20)\n\nRequirement already satisfied: MarkupSafe>=2.0 in /opt/conda/lib/python3.9/site-packages (from jinja2->notebook->jupyter<2.0.0,>=1.0.0->skimpy) (2.1.1)\n\nRequirement already satisfied: pandocfilters>=1.4.1 in /opt/conda/lib/python3.9/site-packages (from nbconvert->jupyter<2.0.0,>=1.0.0->skimpy) (1.4.2)\n\nRequirement already satisfied: bleach in /opt/conda/lib/python3.9/site-packages (from nbconvert->jupyter<2.0.0,>=1.0.0->skimpy) (3.3.0)\n\nRequirement already satisfied: entrypoints>=0.2.2 in /opt/conda/lib/python3.9/site-packages (from nbconvert->jupyter<2.0.0,>=1.0.0->skimpy) (0.3)\n\nRequirement already satisfied: testpath in /opt/conda/lib/python3.9/site-packages (from nbconvert->jupyter<2.0.0,>=1.0.0->skimpy) (0.5.0)\n\nRequirement already satisfied: nbclient<0.6.0,>=0.5.0 in /opt/conda/lib/python3.9/site-packages (from nbconvert->jupyter<2.0.0,>=1.0.0->skimpy) (0.5.3)\n\nRequirement already satisfied: jupyterlab-pygments in /opt/conda/lib/python3.9/site-packages (from nbconvert->jupyter<2.0.0,>=1.0.0->skimpy) (0.1.2)\n\nRequirement already satisfied: mistune<2,>=0.8.1 in /opt/conda/lib/python3.9/site-packages (from nbconvert->jupyter<2.0.0,>=1.0.0->skimpy) (0.8.4)\n\nRequirement already satisfied: defusedxml in /opt/conda/lib/python3.9/site-packages (from nbconvert->jupyter<2.0.0,>=1.0.0->skimpy) (0.7.1)\n\nRequirement already satisfied: async-generator in /opt/conda/lib/python3.9/site-packages (from nbclient<0.6.0,>=0.5.0->nbconvert->jupyter<2.0.0,>=1.0.0->skimpy) (1.10)\n\nRequirement already satisfied: webencodings in /opt/conda/lib/python3.9/site-packages (from bleach->nbconvert->jupyter<2.0.0,>=1.0.0->skimpy) (0.5.1)\n\nRequirement already satisfied: pyparsing!=3.0.5,>=2.0.2 in /opt/conda/lib/python3.9/site-packages (from packaging->ipykernel<7.0.0,>=6.7.0->skimpy) (2.4.7)\n\nRequirement already satisfied: qtpy>=2.0.1 in /opt/conda/lib/python3.9/site-packages (from qtconsole->jupyter<2.0.0,>=1.0.0->skimpy) (2.2.0)\n\nInstalling collected packages: traitlets, platformdirs, python-dateutil, jupyter-core, Pygments, psutil, debugpy, comm, ipykernel, mdurl, tzdata, numpy, markdown-it-py, typeguard, rich, pandas, skimpy\n\n  Attempting uninstall: traitlets\n\n    Found existing installation: traitlets 5.0.5\n\n    Uninstalling traitlets-5.0.5:\n\n      Successfully uninstalled traitlets-5.0.5\n\n  Attempting uninstall: python-dateutil\n\n    Found existing installation: python-dateutil 2.8.1\n\n    Uninstalling python-dateutil-2.8.1:\n\n      Successfully uninstalled python-dateutil-2.8.1\n\n  Attempting uninstall: jupyter-core\n\n    Found existing installation: jupyter-core 4.7.1\n\n    Uninstalling jupyter-core-4.7.1:\n\n      Successfully uninstalled jupyter-core-4.7.1\n\n  Attempting uninstall: Pygments\n\n    Found existing installation: Pygments 2.9.0\n\n    Uninstalling Pygments-2.9.0:\n\n      Successfully uninstalled Pygments-2.9.0\n\n  Attempting uninstall: debugpy\n\n    Found existing installation: debugpy 1.3.0\n\n    Uninstalling debugpy-1.3.0:\n\n      Successfully uninstalled debugpy-1.3.0\n\n  Attempting uninstall: ipykernel\n\n    Found existing installation: ipykernel 6.0.1\n\n    Uninstalling ipykernel-6.0.1:\n\n      Successfully uninstalled ipykernel-6.0.1\n\n  Attempting uninstall: numpy\n\n    Found existing installation: numpy 1.21.1\n\n    Uninstalling numpy-1.21.1:\n\n      Successfully uninstalled numpy-1.21.1\n\n  Attempting uninstall: pandas\n\n    Found existing installation: pandas 1.2.4\n\n    Uninstalling pandas-1.2.4:\n\n      Successfully uninstalled pandas-1.2.4\n\n\u001b[31mERROR: pip's dependency resolver does not currently take into account all the packages that are installed. This behaviour is the source of the following dependency conflicts.\n\nscipy 1.9.1 requires numpy<1.25.0,>=1.18.5, but you have numpy 1.25.1 which is incompatible.\n\nnumba 0.56.0 requires numpy<1.23,>=1.18, but you have numpy 1.25.1 which is incompatible.\u001b[0m\n\nSuccessfully installed Pygments-2.15.1 comm-0.1.3 debugpy-1.6.7 ipykernel-6.24.0 jupyter-core-5.3.1 markdown-it-py-3.0.0 mdurl-0.1.2 numpy-1.25.1 pandas-2.0.3 platformdirs-3.9.1 psutil-5.9.5 python-dateutil-2.8.2 rich-13.4.2 skimpy-0.0.9 traitlets-5.9.0 typeguard-2.13.3 tzdata-2023.3\n"
        }
      ]
    },
    {
      "cell_type": "code",
      "source": "#импортируем нужные библиотеки\nimport pandas as pd\nfrom matplotlib import pyplot as plt  \nimport numpy as np\n#импортируем модуль для кодирование данных\nfrom sklearn.preprocessing import OneHotEncoder\n#импортируем модуль для разделения данных на выборки\nfrom sklearn.model_selection import train_test_split\n#импортируем модуль для масштабирования признаков\nfrom sklearn.preprocessing import StandardScaler\n#импортируем модель случайного леса\nfrom sklearn.ensemble import RandomForestClassifier\n#импортируем модель логистической регрессии\nfrom sklearn.linear_model import LogisticRegression\n#импортируем метрики f1, precision, roc\nfrom sklearn.metrics import f1_score, precision_score, roc_auc_score, recall_score\n#импортируем модуль для перемешивания данных\nfrom sklearn.utils import shuffle\n#импортируем dummy модель\nfrom sklearn.dummy import DummyClassifier",
      "metadata": {
        "scrolled": true
      },
      "execution_count": 61,
      "outputs": []
    },
    {
      "cell_type": "code",
      "source": "data = pd.read_csv('/datasets/Churn.csv')\ndata.info()",
      "metadata": {
        "scrolled": true
      },
      "execution_count": 4,
      "outputs": [
        {
          "name": "stdout",
          "output_type": "stream",
          "text": "<class 'pandas.core.frame.DataFrame'>\n\nRangeIndex: 10000 entries, 0 to 9999\n\nData columns (total 14 columns):\n\n #   Column           Non-Null Count  Dtype  \n\n---  ------           --------------  -----  \n\n 0   RowNumber        10000 non-null  int64  \n\n 1   CustomerId       10000 non-null  int64  \n\n 2   Surname          10000 non-null  object \n\n 3   CreditScore      10000 non-null  int64  \n\n 4   Geography        10000 non-null  object \n\n 5   Gender           10000 non-null  object \n\n 6   Age              10000 non-null  int64  \n\n 7   Tenure           9091 non-null   float64\n\n 8   Balance          10000 non-null  float64\n\n 9   NumOfProducts    10000 non-null  int64  \n\n 10  HasCrCard        10000 non-null  int64  \n\n 11  IsActiveMember   10000 non-null  int64  \n\n 12  EstimatedSalary  10000 non-null  float64\n\n 13  Exited           10000 non-null  int64  \n\ndtypes: float64(3), int64(8), object(3)\n\nmemory usage: 1.1+ MB\n"
        }
      ]
    },
    {
      "cell_type": "code",
      "source": "data.head()",
      "metadata": {},
      "execution_count": 5,
      "outputs": [
        {
          "execution_count": 5,
          "output_type": "execute_result",
          "data": {
            "text/html": [
              "<div>\n",
              "<style scoped>\n",
              "    .dataframe tbody tr th:only-of-type {\n",
              "        vertical-align: middle;\n",
              "    }\n",
              "\n",
              "    .dataframe tbody tr th {\n",
              "        vertical-align: top;\n",
              "    }\n",
              "\n",
              "    .dataframe thead th {\n",
              "        text-align: right;\n",
              "    }\n",
              "</style>\n",
              "<table border=\"1\" class=\"dataframe\">\n",
              "  <thead>\n",
              "    <tr style=\"text-align: right;\">\n",
              "      <th></th>\n",
              "      <th>RowNumber</th>\n",
              "      <th>CustomerId</th>\n",
              "      <th>Surname</th>\n",
              "      <th>CreditScore</th>\n",
              "      <th>Geography</th>\n",
              "      <th>Gender</th>\n",
              "      <th>Age</th>\n",
              "      <th>Tenure</th>\n",
              "      <th>Balance</th>\n",
              "      <th>NumOfProducts</th>\n",
              "      <th>HasCrCard</th>\n",
              "      <th>IsActiveMember</th>\n",
              "      <th>EstimatedSalary</th>\n",
              "      <th>Exited</th>\n",
              "    </tr>\n",
              "  </thead>\n",
              "  <tbody>\n",
              "    <tr>\n",
              "      <th>0</th>\n",
              "      <td>1</td>\n",
              "      <td>15634602</td>\n",
              "      <td>Hargrave</td>\n",
              "      <td>619</td>\n",
              "      <td>France</td>\n",
              "      <td>Female</td>\n",
              "      <td>42</td>\n",
              "      <td>2.0</td>\n",
              "      <td>0.00</td>\n",
              "      <td>1</td>\n",
              "      <td>1</td>\n",
              "      <td>1</td>\n",
              "      <td>101348.88</td>\n",
              "      <td>1</td>\n",
              "    </tr>\n",
              "    <tr>\n",
              "      <th>1</th>\n",
              "      <td>2</td>\n",
              "      <td>15647311</td>\n",
              "      <td>Hill</td>\n",
              "      <td>608</td>\n",
              "      <td>Spain</td>\n",
              "      <td>Female</td>\n",
              "      <td>41</td>\n",
              "      <td>1.0</td>\n",
              "      <td>83807.86</td>\n",
              "      <td>1</td>\n",
              "      <td>0</td>\n",
              "      <td>1</td>\n",
              "      <td>112542.58</td>\n",
              "      <td>0</td>\n",
              "    </tr>\n",
              "    <tr>\n",
              "      <th>2</th>\n",
              "      <td>3</td>\n",
              "      <td>15619304</td>\n",
              "      <td>Onio</td>\n",
              "      <td>502</td>\n",
              "      <td>France</td>\n",
              "      <td>Female</td>\n",
              "      <td>42</td>\n",
              "      <td>8.0</td>\n",
              "      <td>159660.80</td>\n",
              "      <td>3</td>\n",
              "      <td>1</td>\n",
              "      <td>0</td>\n",
              "      <td>113931.57</td>\n",
              "      <td>1</td>\n",
              "    </tr>\n",
              "    <tr>\n",
              "      <th>3</th>\n",
              "      <td>4</td>\n",
              "      <td>15701354</td>\n",
              "      <td>Boni</td>\n",
              "      <td>699</td>\n",
              "      <td>France</td>\n",
              "      <td>Female</td>\n",
              "      <td>39</td>\n",
              "      <td>1.0</td>\n",
              "      <td>0.00</td>\n",
              "      <td>2</td>\n",
              "      <td>0</td>\n",
              "      <td>0</td>\n",
              "      <td>93826.63</td>\n",
              "      <td>0</td>\n",
              "    </tr>\n",
              "    <tr>\n",
              "      <th>4</th>\n",
              "      <td>5</td>\n",
              "      <td>15737888</td>\n",
              "      <td>Mitchell</td>\n",
              "      <td>850</td>\n",
              "      <td>Spain</td>\n",
              "      <td>Female</td>\n",
              "      <td>43</td>\n",
              "      <td>2.0</td>\n",
              "      <td>125510.82</td>\n",
              "      <td>1</td>\n",
              "      <td>1</td>\n",
              "      <td>1</td>\n",
              "      <td>79084.10</td>\n",
              "      <td>0</td>\n",
              "    </tr>\n",
              "  </tbody>\n",
              "</table>\n",
              "</div>"
            ],
            "text/plain": [
              "   RowNumber  CustomerId   Surname  CreditScore Geography  Gender  Age  \\\n",
              "0          1    15634602  Hargrave          619    France  Female   42   \n",
              "1          2    15647311      Hill          608     Spain  Female   41   \n",
              "2          3    15619304      Onio          502    France  Female   42   \n",
              "3          4    15701354      Boni          699    France  Female   39   \n",
              "4          5    15737888  Mitchell          850     Spain  Female   43   \n",
              "\n",
              "   Tenure    Balance  NumOfProducts  HasCrCard  IsActiveMember  \\\n",
              "0     2.0       0.00              1          1               1   \n",
              "1     1.0   83807.86              1          0               1   \n",
              "2     8.0  159660.80              3          1               0   \n",
              "3     1.0       0.00              2          0               0   \n",
              "4     2.0  125510.82              1          1               1   \n",
              "\n",
              "   EstimatedSalary  Exited  \n",
              "0        101348.88       1  \n",
              "1        112542.58       0  \n",
              "2        113931.57       1  \n",
              "3         93826.63       0  \n",
              "4         79084.10       0  "
            ]
          },
          "metadata": {}
        }
      ]
    },
    {
      "cell_type": "code",
      "source": "data.duplicated().sum()",
      "metadata": {},
      "execution_count": 6,
      "outputs": [
        {
          "execution_count": 6,
          "output_type": "execute_result",
          "data": {
            "text/plain": [
              "0"
            ]
          },
          "metadata": {}
        }
      ]
    },
    {
      "cell_type": "markdown",
      "source": "В ходе ознакомления с данными можно сделать следующие выводы:\n- Требуется переименовать все столбцы, чтобы привести их в соответствис с правилами\n- Дубликаты с данных отсутствуют\n- Для столбца `Tenure` (сколько лет человек является клиентом банка) требуется выпыполнить несколько действий: заполнить пропуски и затем изменить тип данных на integer\n- Для столбца `Exited` (факт ухода клиента из банка). Можно изменить тип данных на `bool`, но этого делать не будем, так как в перспективе возможено расширение этого столбца для дополнительных вариантов (например клиент хочет расторгнуть договор, но еще не расторг)\n\n",
      "metadata": {}
    },
    {
      "cell_type": "markdown",
      "source": "### Предобработка  данных",
      "metadata": {}
    },
    {
      "cell_type": "markdown",
      "source": "Сохраним новый датасет в переменную `data_good`",
      "metadata": {}
    },
    {
      "cell_type": "code",
      "source": "data_good = data",
      "metadata": {},
      "execution_count": 7,
      "outputs": []
    },
    {
      "cell_type": "markdown",
      "source": "Переименуем названия столбцов и проверим резульатат переименования",
      "metadata": {}
    },
    {
      "cell_type": "code",
      "source": "data_good = clean_columns(data_good)\ndata_good.info()",
      "metadata": {},
      "execution_count": 8,
      "outputs": [
        {
          "name": "stdout",
          "output_type": "stream",
          "text": "<class 'pandas.core.frame.DataFrame'>\n\nRangeIndex: 10000 entries, 0 to 9999\n\nData columns (total 14 columns):\n\n #   Column            Non-Null Count  Dtype  \n\n---  ------            --------------  -----  \n\n 0   row_number        10000 non-null  int64  \n\n 1   customer_id       10000 non-null  int64  \n\n 2   surname           10000 non-null  object \n\n 3   credit_score      10000 non-null  int64  \n\n 4   geography         10000 non-null  object \n\n 5   gender            10000 non-null  object \n\n 6   age               10000 non-null  int64  \n\n 7   tenure            9091 non-null   float64\n\n 8   balance           10000 non-null  float64\n\n 9   num_of_products   10000 non-null  int64  \n\n 10  has_cr_card       10000 non-null  int64  \n\n 11  is_active_member  10000 non-null  int64  \n\n 12  estimated_salary  10000 non-null  float64\n\n 13  exited            10000 non-null  int64  \n\ndtypes: float64(3), int64(8), object(3)\n\nmemory usage: 1.1+ MB\n"
        }
      ]
    },
    {
      "cell_type": "markdown",
      "source": "data_good.columns = ['row_number', \n                     'customer_id', \n                     'surname', \n                     'credit_score',\n                     'geography',\n                     'gender', \n                     'age', \n                     'tenure', \n                     'balance', \n                     'num_of_products', \n                     'has_cr_card',\n                     'is_active_member', \n                     'estimated_salary', \n                     'exited'\n                    ]\ndata_good.info()",
      "metadata": {}
    },
    {
      "cell_type": "markdown",
      "source": "Проанализируем столблец `tenure`",
      "metadata": {}
    },
    {
      "cell_type": "code",
      "source": "data_good['tenure'].value_counts(dropna=False)",
      "metadata": {
        "scrolled": true
      },
      "execution_count": 9,
      "outputs": [
        {
          "execution_count": 9,
          "output_type": "execute_result",
          "data": {
            "text/plain": [
              "tenure\n",
              "1.0     952\n",
              "2.0     950\n",
              "8.0     933\n",
              "3.0     928\n",
              "5.0     927\n",
              "7.0     925\n",
              "NaN     909\n",
              "4.0     885\n",
              "9.0     882\n",
              "6.0     881\n",
              "10.0    446\n",
              "0.0     382\n",
              "Name: count, dtype: int64"
            ]
          },
          "metadata": {}
        }
      ]
    },
    {
      "cell_type": "code",
      "source": "data_good['tenure'].describe()",
      "metadata": {
        "scrolled": true
      },
      "execution_count": 10,
      "outputs": [
        {
          "execution_count": 10,
          "output_type": "execute_result",
          "data": {
            "text/plain": [
              "count    9091.000000\n",
              "mean        4.997690\n",
              "std         2.894723\n",
              "min         0.000000\n",
              "25%         2.000000\n",
              "50%         5.000000\n",
              "75%         7.000000\n",
              "max        10.000000\n",
              "Name: tenure, dtype: float64"
            ]
          },
          "metadata": {}
        }
      ]
    },
    {
      "cell_type": "code",
      "source": "(\ndata_good['tenure']\n    .plot(kind='hist', \n          bins=10,\n          grid=True\n         )\n    .set(\n        xlabel='Время сотрудничества клиента и банка, лет',\n        ylabel='Число клиентов',\n        title='Гистограмма распределения числа клиента банка, по сроку сотрудничества с банком'\n    )\n);",
      "metadata": {},
      "execution_count": 11,
      "outputs": [
        {
          "output_type": "display_data",
          "data": {
            "image/png": "[encoded data removed]",
            "text/plain": [
              "<Figure size 432x288 with 1 Axes>"
            ]
          },
          "metadata": {
            "needs_background": "light"
          }
        }
      ]
    },
    {
      "cell_type": "markdown",
      "source": "Средние значения и медиана практически равны. Заменим пропуски в столбце в `tenure` медианой и проверим выполнение",
      "metadata": {}
    },
    {
      "cell_type": "code",
      "source": "data_good['tenure'] = data_good['tenure'].fillna(data_good['tenure'].median())\ndata_good['tenure'].value_counts(dropna=False)",
      "metadata": {
        "scrolled": true
      },
      "execution_count": 12,
      "outputs": [
        {
          "execution_count": 12,
          "output_type": "execute_result",
          "data": {
            "text/plain": [
              "tenure\n",
              "5.0     1836\n",
              "1.0      952\n",
              "2.0      950\n",
              "8.0      933\n",
              "3.0      928\n",
              "7.0      925\n",
              "4.0      885\n",
              "9.0      882\n",
              "6.0      881\n",
              "10.0     446\n",
              "0.0      382\n",
              "Name: count, dtype: int64"
            ]
          },
          "metadata": {}
        }
      ]
    },
    {
      "cell_type": "code",
      "source": "data_good['tenure'] = data_good['tenure'].astype('int')\ndata_good.info()",
      "metadata": {},
      "execution_count": 13,
      "outputs": [
        {
          "name": "stdout",
          "output_type": "stream",
          "text": "<class 'pandas.core.frame.DataFrame'>\n\nRangeIndex: 10000 entries, 0 to 9999\n\nData columns (total 14 columns):\n\n #   Column            Non-Null Count  Dtype  \n\n---  ------            --------------  -----  \n\n 0   row_number        10000 non-null  int64  \n\n 1   customer_id       10000 non-null  int64  \n\n 2   surname           10000 non-null  object \n\n 3   credit_score      10000 non-null  int64  \n\n 4   geography         10000 non-null  object \n\n 5   gender            10000 non-null  object \n\n 6   age               10000 non-null  int64  \n\n 7   tenure            10000 non-null  int64  \n\n 8   balance           10000 non-null  float64\n\n 9   num_of_products   10000 non-null  int64  \n\n 10  has_cr_card       10000 non-null  int64  \n\n 11  is_active_member  10000 non-null  int64  \n\n 12  estimated_salary  10000 non-null  float64\n\n 13  exited            10000 non-null  int64  \n\ndtypes: float64(2), int64(9), object(3)\n\nmemory usage: 1.1+ MB\n"
        }
      ]
    },
    {
      "cell_type": "markdown",
      "source": "Пропуски в данных отсутствуют, данные проверены на дубликаты. Заполнены отсутствующие данные в столбце  `tenure` и изменен тип данных на `integer`",
      "metadata": {}
    },
    {
      "cell_type": "markdown",
      "source": "## Исследование задачи",
      "metadata": {}
    },
    {
      "cell_type": "markdown",
      "source": "В работе требуется предсказать уйдет клиент из банка или нет. Для решения этой задачи в датафреме есть лишние данные, которые не будут влиять на предсказание модели.\n- номер строки `row_number`\n- id клиента `customer_id`\n- имя клиента `surname`\n\nУдалим эти столбцы из данных ",
      "metadata": {}
    },
    {
      "cell_type": "code",
      "source": "data_good = data_good.drop(['row_number', 'customer_id', 'surname'], axis=1)\ndata_good.head(10)",
      "metadata": {},
      "execution_count": 14,
      "outputs": [
        {
          "execution_count": 14,
          "output_type": "execute_result",
          "data": {
            "text/html": [
              "<div>\n",
              "<style scoped>\n",
              "    .dataframe tbody tr th:only-of-type {\n",
              "        vertical-align: middle;\n",
              "    }\n",
              "\n",
              "    .dataframe tbody tr th {\n",
              "        vertical-align: top;\n",
              "    }\n",
              "\n",
              "    .dataframe thead th {\n",
              "        text-align: right;\n",
              "    }\n",
              "</style>\n",
              "<table border=\"1\" class=\"dataframe\">\n",
              "  <thead>\n",
              "    <tr style=\"text-align: right;\">\n",
              "      <th></th>\n",
              "      <th>credit_score</th>\n",
              "      <th>geography</th>\n",
              "      <th>gender</th>\n",
              "      <th>age</th>\n",
              "      <th>tenure</th>\n",
              "      <th>balance</th>\n",
              "      <th>num_of_products</th>\n",
              "      <th>has_cr_card</th>\n",
              "      <th>is_active_member</th>\n",
              "      <th>estimated_salary</th>\n",
              "      <th>exited</th>\n",
              "    </tr>\n",
              "  </thead>\n",
              "  <tbody>\n",
              "    <tr>\n",
              "      <th>0</th>\n",
              "      <td>619</td>\n",
              "      <td>France</td>\n",
              "      <td>Female</td>\n",
              "      <td>42</td>\n",
              "      <td>2</td>\n",
              "      <td>0.00</td>\n",
              "      <td>1</td>\n",
              "      <td>1</td>\n",
              "      <td>1</td>\n",
              "      <td>101348.88</td>\n",
              "      <td>1</td>\n",
              "    </tr>\n",
              "    <tr>\n",
              "      <th>1</th>\n",
              "      <td>608</td>\n",
              "      <td>Spain</td>\n",
              "      <td>Female</td>\n",
              "      <td>41</td>\n",
              "      <td>1</td>\n",
              "      <td>83807.86</td>\n",
              "      <td>1</td>\n",
              "      <td>0</td>\n",
              "      <td>1</td>\n",
              "      <td>112542.58</td>\n",
              "      <td>0</td>\n",
              "    </tr>\n",
              "    <tr>\n",
              "      <th>2</th>\n",
              "      <td>502</td>\n",
              "      <td>France</td>\n",
              "      <td>Female</td>\n",
              "      <td>42</td>\n",
              "      <td>8</td>\n",
              "      <td>159660.80</td>\n",
              "      <td>3</td>\n",
              "      <td>1</td>\n",
              "      <td>0</td>\n",
              "      <td>113931.57</td>\n",
              "      <td>1</td>\n",
              "    </tr>\n",
              "    <tr>\n",
              "      <th>3</th>\n",
              "      <td>699</td>\n",
              "      <td>France</td>\n",
              "      <td>Female</td>\n",
              "      <td>39</td>\n",
              "      <td>1</td>\n",
              "      <td>0.00</td>\n",
              "      <td>2</td>\n",
              "      <td>0</td>\n",
              "      <td>0</td>\n",
              "      <td>93826.63</td>\n",
              "      <td>0</td>\n",
              "    </tr>\n",
              "    <tr>\n",
              "      <th>4</th>\n",
              "      <td>850</td>\n",
              "      <td>Spain</td>\n",
              "      <td>Female</td>\n",
              "      <td>43</td>\n",
              "      <td>2</td>\n",
              "      <td>125510.82</td>\n",
              "      <td>1</td>\n",
              "      <td>1</td>\n",
              "      <td>1</td>\n",
              "      <td>79084.10</td>\n",
              "      <td>0</td>\n",
              "    </tr>\n",
              "    <tr>\n",
              "      <th>5</th>\n",
              "      <td>645</td>\n",
              "      <td>Spain</td>\n",
              "      <td>Male</td>\n",
              "      <td>44</td>\n",
              "      <td>8</td>\n",
              "      <td>113755.78</td>\n",
              "      <td>2</td>\n",
              "      <td>1</td>\n",
              "      <td>0</td>\n",
              "      <td>149756.71</td>\n",
              "      <td>1</td>\n",
              "    </tr>\n",
              "    <tr>\n",
              "      <th>6</th>\n",
              "      <td>822</td>\n",
              "      <td>France</td>\n",
              "      <td>Male</td>\n",
              "      <td>50</td>\n",
              "      <td>7</td>\n",
              "      <td>0.00</td>\n",
              "      <td>2</td>\n",
              "      <td>1</td>\n",
              "      <td>1</td>\n",
              "      <td>10062.80</td>\n",
              "      <td>0</td>\n",
              "    </tr>\n",
              "    <tr>\n",
              "      <th>7</th>\n",
              "      <td>376</td>\n",
              "      <td>Germany</td>\n",
              "      <td>Female</td>\n",
              "      <td>29</td>\n",
              "      <td>4</td>\n",
              "      <td>115046.74</td>\n",
              "      <td>4</td>\n",
              "      <td>1</td>\n",
              "      <td>0</td>\n",
              "      <td>119346.88</td>\n",
              "      <td>1</td>\n",
              "    </tr>\n",
              "    <tr>\n",
              "      <th>8</th>\n",
              "      <td>501</td>\n",
              "      <td>France</td>\n",
              "      <td>Male</td>\n",
              "      <td>44</td>\n",
              "      <td>4</td>\n",
              "      <td>142051.07</td>\n",
              "      <td>2</td>\n",
              "      <td>0</td>\n",
              "      <td>1</td>\n",
              "      <td>74940.50</td>\n",
              "      <td>0</td>\n",
              "    </tr>\n",
              "    <tr>\n",
              "      <th>9</th>\n",
              "      <td>684</td>\n",
              "      <td>France</td>\n",
              "      <td>Male</td>\n",
              "      <td>27</td>\n",
              "      <td>2</td>\n",
              "      <td>134603.88</td>\n",
              "      <td>1</td>\n",
              "      <td>1</td>\n",
              "      <td>1</td>\n",
              "      <td>71725.73</td>\n",
              "      <td>0</td>\n",
              "    </tr>\n",
              "  </tbody>\n",
              "</table>\n",
              "</div>"
            ],
            "text/plain": [
              "   credit_score geography  gender  age  tenure    balance  num_of_products  \\\n",
              "0           619    France  Female   42       2       0.00                1   \n",
              "1           608     Spain  Female   41       1   83807.86                1   \n",
              "2           502    France  Female   42       8  159660.80                3   \n",
              "3           699    France  Female   39       1       0.00                2   \n",
              "4           850     Spain  Female   43       2  125510.82                1   \n",
              "5           645     Spain    Male   44       8  113755.78                2   \n",
              "6           822    France    Male   50       7       0.00                2   \n",
              "7           376   Germany  Female   29       4  115046.74                4   \n",
              "8           501    France    Male   44       4  142051.07                2   \n",
              "9           684    France    Male   27       2  134603.88                1   \n",
              "\n",
              "   has_cr_card  is_active_member  estimated_salary  exited  \n",
              "0            1                 1         101348.88       1  \n",
              "1            0                 1         112542.58       0  \n",
              "2            1                 0         113931.57       1  \n",
              "3            0                 0          93826.63       0  \n",
              "4            1                 1          79084.10       0  \n",
              "5            1                 0         149756.71       1  \n",
              "6            1                 1          10062.80       0  \n",
              "7            1                 0         119346.88       1  \n",
              "8            0                 1          74940.50       0  \n",
              "9            1                 1          71725.73       0  "
            ]
          },
          "metadata": {}
        }
      ]
    },
    {
      "cell_type": "code",
      "source": "data_good.info()",
      "metadata": {},
      "execution_count": 15,
      "outputs": [
        {
          "name": "stdout",
          "output_type": "stream",
          "text": "<class 'pandas.core.frame.DataFrame'>\n\nRangeIndex: 10000 entries, 0 to 9999\n\nData columns (total 11 columns):\n\n #   Column            Non-Null Count  Dtype  \n\n---  ------            --------------  -----  \n\n 0   credit_score      10000 non-null  int64  \n\n 1   geography         10000 non-null  object \n\n 2   gender            10000 non-null  object \n\n 3   age               10000 non-null  int64  \n\n 4   tenure            10000 non-null  int64  \n\n 5   balance           10000 non-null  float64\n\n 6   num_of_products   10000 non-null  int64  \n\n 7   has_cr_card       10000 non-null  int64  \n\n 8   is_active_member  10000 non-null  int64  \n\n 9   estimated_salary  10000 non-null  float64\n\n 10  exited            10000 non-null  int64  \n\ndtypes: float64(2), int64(7), object(2)\n\nmemory usage: 859.5+ KB\n"
        }
      ]
    },
    {
      "cell_type": "markdown",
      "source": "Удаление проведено успешно, другие данные не потеряны. Можно приступать к кодированию данных",
      "metadata": {}
    },
    {
      "cell_type": "markdown",
      "source": "### Кодирование и масштабирование признаков",
      "metadata": {}
    },
    {
      "cell_type": "markdown",
      "source": "Выделим целевой признак",
      "metadata": {}
    },
    {
      "cell_type": "code",
      "source": "#выделим целевой признак\ndata_good_target = data_good['exited']\n#удалим целевой признак из данных\ndata_good_features = data_good.drop('exited', axis=1)",
      "metadata": {
        "scrolled": true
      },
      "execution_count": 22,
      "outputs": []
    },
    {
      "cell_type": "markdown",
      "source": "Разделим данные на обучающую, тестовую и валидационную выборки",
      "metadata": {}
    },
    {
      "cell_type": "code",
      "source": "#выделим обучающую выборку и валидационную с тестовой\nfeatures_train, features_valid, target_train, target_valid = \\\ntrain_test_split(data_good_features, data_good_target, test_size=0.4, random_state=12345)\n#выделим валидационную выборку и тестовую выборку\nfeatures_test, features_valid, target_test, target_valid = \\\ntrain_test_split(features_valid, target_valid, test_size=0.5, random_state=12345)\n#проверим полученные выборки\ndisplay(\"Размер обучающей выборки {:.2%}\".format(features_train.shape[0]/data_good_features.shape[0]))\ndisplay(\"Размер валидационной выборки {:.2%}\".format(features_valid.shape[0]/data_good_features.shape[0]))\ndisplay(\"Размер тестовой выборки {:.2%}\".format(features_test.shape[0]/data_good_features.shape[0]))",
      "metadata": {
        "scrolled": true
      },
      "execution_count": 23,
      "outputs": [
        {
          "output_type": "display_data",
          "data": {
            "text/plain": [
              "'Размер обучающей выборки 60.00%'"
            ]
          },
          "metadata": {}
        },
        {
          "output_type": "display_data",
          "data": {
            "text/plain": [
              "'Размер валидационной выборки 20.00%'"
            ]
          },
          "metadata": {}
        },
        {
          "output_type": "display_data",
          "data": {
            "text/plain": [
              "'Размер тестовой выборки 20.00%'"
            ]
          },
          "metadata": {}
        }
      ]
    },
    {
      "cell_type": "markdown",
      "source": "Размер выборок соответствует размеру 60/20/20 для обучающей, валидационной и тестовой выборок соответственно",
      "metadata": {}
    },
    {
      "cell_type": "markdown",
      "source": "Закодируем признаки для построения модели.\n\n- Используем технику OHE для столбцов `gender` и `geography`.",
      "metadata": {}
    },
    {
      "cell_type": "code",
      "source": "#создадим датафрем который содержат переменный типа object\n#получим их него названия столбцов\n#изменим тип данных на список\n#проверим результат\nohe_features = features_train.select_dtypes(include='object').columns.to_list()\nohe_features",
      "metadata": {},
      "execution_count": 24,
      "outputs": [
        {
          "execution_count": 24,
          "output_type": "execute_result",
          "data": {
            "text/plain": [
              "['geography', 'gender']"
            ]
          },
          "metadata": {}
        }
      ]
    },
    {
      "cell_type": "code",
      "source": "#создаем переменную кодировщик\nencoder_ohe = OneHotEncoder(drop='first', handle_unknown='ignore', sparse=False)\n#обучаем кодировщика\nencoder_ohe.fit(features_train[ohe_features])\n#используем кодировщика\nfeatures_train[encoder_ohe.get_feature_names_out()] = encoder_ohe.transform(features_train[ohe_features])\n#удалим столбцы, которые исопльовались для кодирования\nfeatures_train = features_train.drop(ohe_features, axis=1)\n#проверяем выполнение\nfeatures_train",
      "metadata": {},
      "execution_count": 25,
      "outputs": [
        {
          "execution_count": 25,
          "output_type": "execute_result",
          "data": {
            "text/html": [
              "<div>\n",
              "<style scoped>\n",
              "    .dataframe tbody tr th:only-of-type {\n",
              "        vertical-align: middle;\n",
              "    }\n",
              "\n",
              "    .dataframe tbody tr th {\n",
              "        vertical-align: top;\n",
              "    }\n",
              "\n",
              "    .dataframe thead th {\n",
              "        text-align: right;\n",
              "    }\n",
              "</style>\n",
              "<table border=\"1\" class=\"dataframe\">\n",
              "  <thead>\n",
              "    <tr style=\"text-align: right;\">\n",
              "      <th></th>\n",
              "      <th>credit_score</th>\n",
              "      <th>age</th>\n",
              "      <th>tenure</th>\n",
              "      <th>balance</th>\n",
              "      <th>num_of_products</th>\n",
              "      <th>has_cr_card</th>\n",
              "      <th>is_active_member</th>\n",
              "      <th>estimated_salary</th>\n",
              "      <th>geography_Germany</th>\n",
              "      <th>geography_Spain</th>\n",
              "      <th>gender_Male</th>\n",
              "    </tr>\n",
              "  </thead>\n",
              "  <tbody>\n",
              "    <tr>\n",
              "      <th>7479</th>\n",
              "      <td>567</td>\n",
              "      <td>35</td>\n",
              "      <td>8</td>\n",
              "      <td>153137.74</td>\n",
              "      <td>1</td>\n",
              "      <td>1</td>\n",
              "      <td>0</td>\n",
              "      <td>88659.07</td>\n",
              "      <td>0.0</td>\n",
              "      <td>1.0</td>\n",
              "      <td>1.0</td>\n",
              "    </tr>\n",
              "    <tr>\n",
              "      <th>3411</th>\n",
              "      <td>711</td>\n",
              "      <td>37</td>\n",
              "      <td>8</td>\n",
              "      <td>113899.92</td>\n",
              "      <td>1</td>\n",
              "      <td>0</td>\n",
              "      <td>0</td>\n",
              "      <td>80215.20</td>\n",
              "      <td>0.0</td>\n",
              "      <td>0.0</td>\n",
              "      <td>0.0</td>\n",
              "    </tr>\n",
              "    <tr>\n",
              "      <th>6027</th>\n",
              "      <td>850</td>\n",
              "      <td>44</td>\n",
              "      <td>3</td>\n",
              "      <td>140393.65</td>\n",
              "      <td>2</td>\n",
              "      <td>0</td>\n",
              "      <td>1</td>\n",
              "      <td>186285.52</td>\n",
              "      <td>1.0</td>\n",
              "      <td>0.0</td>\n",
              "      <td>1.0</td>\n",
              "    </tr>\n",
              "    <tr>\n",
              "      <th>1247</th>\n",
              "      <td>512</td>\n",
              "      <td>24</td>\n",
              "      <td>6</td>\n",
              "      <td>0.00</td>\n",
              "      <td>2</td>\n",
              "      <td>1</td>\n",
              "      <td>0</td>\n",
              "      <td>37654.31</td>\n",
              "      <td>0.0</td>\n",
              "      <td>0.0</td>\n",
              "      <td>1.0</td>\n",
              "    </tr>\n",
              "    <tr>\n",
              "      <th>3716</th>\n",
              "      <td>665</td>\n",
              "      <td>27</td>\n",
              "      <td>2</td>\n",
              "      <td>147435.96</td>\n",
              "      <td>1</td>\n",
              "      <td>0</td>\n",
              "      <td>0</td>\n",
              "      <td>187508.06</td>\n",
              "      <td>1.0</td>\n",
              "      <td>0.0</td>\n",
              "      <td>0.0</td>\n",
              "    </tr>\n",
              "    <tr>\n",
              "      <th>...</th>\n",
              "      <td>...</td>\n",
              "      <td>...</td>\n",
              "      <td>...</td>\n",
              "      <td>...</td>\n",
              "      <td>...</td>\n",
              "      <td>...</td>\n",
              "      <td>...</td>\n",
              "      <td>...</td>\n",
              "      <td>...</td>\n",
              "      <td>...</td>\n",
              "      <td>...</td>\n",
              "    </tr>\n",
              "    <tr>\n",
              "      <th>4478</th>\n",
              "      <td>549</td>\n",
              "      <td>31</td>\n",
              "      <td>4</td>\n",
              "      <td>0.00</td>\n",
              "      <td>2</td>\n",
              "      <td>0</td>\n",
              "      <td>1</td>\n",
              "      <td>25684.85</td>\n",
              "      <td>0.0</td>\n",
              "      <td>0.0</td>\n",
              "      <td>1.0</td>\n",
              "    </tr>\n",
              "    <tr>\n",
              "      <th>4094</th>\n",
              "      <td>513</td>\n",
              "      <td>29</td>\n",
              "      <td>10</td>\n",
              "      <td>0.00</td>\n",
              "      <td>2</td>\n",
              "      <td>0</td>\n",
              "      <td>1</td>\n",
              "      <td>25514.77</td>\n",
              "      <td>0.0</td>\n",
              "      <td>0.0</td>\n",
              "      <td>1.0</td>\n",
              "    </tr>\n",
              "    <tr>\n",
              "      <th>3492</th>\n",
              "      <td>655</td>\n",
              "      <td>45</td>\n",
              "      <td>5</td>\n",
              "      <td>57327.04</td>\n",
              "      <td>1</td>\n",
              "      <td>0</td>\n",
              "      <td>1</td>\n",
              "      <td>47349.00</td>\n",
              "      <td>0.0</td>\n",
              "      <td>0.0</td>\n",
              "      <td>0.0</td>\n",
              "    </tr>\n",
              "    <tr>\n",
              "      <th>2177</th>\n",
              "      <td>667</td>\n",
              "      <td>24</td>\n",
              "      <td>4</td>\n",
              "      <td>0.00</td>\n",
              "      <td>2</td>\n",
              "      <td>0</td>\n",
              "      <td>1</td>\n",
              "      <td>34335.55</td>\n",
              "      <td>0.0</td>\n",
              "      <td>0.0</td>\n",
              "      <td>0.0</td>\n",
              "    </tr>\n",
              "    <tr>\n",
              "      <th>4578</th>\n",
              "      <td>691</td>\n",
              "      <td>38</td>\n",
              "      <td>1</td>\n",
              "      <td>0.00</td>\n",
              "      <td>2</td>\n",
              "      <td>0</td>\n",
              "      <td>0</td>\n",
              "      <td>44653.50</td>\n",
              "      <td>0.0</td>\n",
              "      <td>0.0</td>\n",
              "      <td>1.0</td>\n",
              "    </tr>\n",
              "  </tbody>\n",
              "</table>\n",
              "<p>6000 rows × 11 columns</p>\n",
              "</div>"
            ],
            "text/plain": [
              "      credit_score  age  tenure    balance  num_of_products  has_cr_card  \\\n",
              "7479           567   35       8  153137.74                1            1   \n",
              "3411           711   37       8  113899.92                1            0   \n",
              "6027           850   44       3  140393.65                2            0   \n",
              "1247           512   24       6       0.00                2            1   \n",
              "3716           665   27       2  147435.96                1            0   \n",
              "...            ...  ...     ...        ...              ...          ...   \n",
              "4478           549   31       4       0.00                2            0   \n",
              "4094           513   29      10       0.00                2            0   \n",
              "3492           655   45       5   57327.04                1            0   \n",
              "2177           667   24       4       0.00                2            0   \n",
              "4578           691   38       1       0.00                2            0   \n",
              "\n",
              "      is_active_member  estimated_salary  geography_Germany  geography_Spain  \\\n",
              "7479                 0          88659.07                0.0              1.0   \n",
              "3411                 0          80215.20                0.0              0.0   \n",
              "6027                 1         186285.52                1.0              0.0   \n",
              "1247                 0          37654.31                0.0              0.0   \n",
              "3716                 0         187508.06                1.0              0.0   \n",
              "...                ...               ...                ...              ...   \n",
              "4478                 1          25684.85                0.0              0.0   \n",
              "4094                 1          25514.77                0.0              0.0   \n",
              "3492                 1          47349.00                0.0              0.0   \n",
              "2177                 1          34335.55                0.0              0.0   \n",
              "4578                 0          44653.50                0.0              0.0   \n",
              "\n",
              "      gender_Male  \n",
              "7479          1.0  \n",
              "3411          0.0  \n",
              "6027          1.0  \n",
              "1247          1.0  \n",
              "3716          0.0  \n",
              "...           ...  \n",
              "4478          1.0  \n",
              "4094          1.0  \n",
              "3492          0.0  \n",
              "2177          0.0  \n",
              "4578          1.0  \n",
              "\n",
              "[6000 rows x 11 columns]"
            ]
          },
          "metadata": {}
        }
      ]
    },
    {
      "cell_type": "markdown",
      "source": "Прямое кодирование тренировочной выборки прошло успешно, закодируем остальные выборки",
      "metadata": {}
    },
    {
      "cell_type": "code",
      "source": "#кодируем валидационную выборку\nfeatures_valid[encoder_ohe.get_feature_names_out()] = encoder_ohe.transform(features_valid[ohe_features])\nfeatures_valid = features_valid.drop(ohe_features, axis=1)\n#кодируем тестовую выборку\nfeatures_test[encoder_ohe.get_feature_names_out()] = encoder_ohe.transform(features_test[ohe_features])\nfeatures_test = features_test.drop(ohe_features, axis=1)\n#проверяем\ndisplay(features_valid.head())\nfeatures_test.head()",
      "metadata": {},
      "execution_count": 26,
      "outputs": [
        {
          "output_type": "display_data",
          "data": {
            "text/html": [
              "<div>\n",
              "<style scoped>\n",
              "    .dataframe tbody tr th:only-of-type {\n",
              "        vertical-align: middle;\n",
              "    }\n",
              "\n",
              "    .dataframe tbody tr th {\n",
              "        vertical-align: top;\n",
              "    }\n",
              "\n",
              "    .dataframe thead th {\n",
              "        text-align: right;\n",
              "    }\n",
              "</style>\n",
              "<table border=\"1\" class=\"dataframe\">\n",
              "  <thead>\n",
              "    <tr style=\"text-align: right;\">\n",
              "      <th></th>\n",
              "      <th>credit_score</th>\n",
              "      <th>age</th>\n",
              "      <th>tenure</th>\n",
              "      <th>balance</th>\n",
              "      <th>num_of_products</th>\n",
              "      <th>has_cr_card</th>\n",
              "      <th>is_active_member</th>\n",
              "      <th>estimated_salary</th>\n",
              "      <th>geography_Germany</th>\n",
              "      <th>geography_Spain</th>\n",
              "      <th>gender_Male</th>\n",
              "    </tr>\n",
              "  </thead>\n",
              "  <tbody>\n",
              "    <tr>\n",
              "      <th>7041</th>\n",
              "      <td>438</td>\n",
              "      <td>38</td>\n",
              "      <td>2</td>\n",
              "      <td>0.00</td>\n",
              "      <td>2</td>\n",
              "      <td>1</td>\n",
              "      <td>0</td>\n",
              "      <td>136859.55</td>\n",
              "      <td>0.0</td>\n",
              "      <td>0.0</td>\n",
              "      <td>1.0</td>\n",
              "    </tr>\n",
              "    <tr>\n",
              "      <th>5709</th>\n",
              "      <td>644</td>\n",
              "      <td>39</td>\n",
              "      <td>9</td>\n",
              "      <td>0.00</td>\n",
              "      <td>1</td>\n",
              "      <td>1</td>\n",
              "      <td>0</td>\n",
              "      <td>3740.93</td>\n",
              "      <td>0.0</td>\n",
              "      <td>0.0</td>\n",
              "      <td>0.0</td>\n",
              "    </tr>\n",
              "    <tr>\n",
              "      <th>7117</th>\n",
              "      <td>564</td>\n",
              "      <td>31</td>\n",
              "      <td>5</td>\n",
              "      <td>121461.87</td>\n",
              "      <td>1</td>\n",
              "      <td>1</td>\n",
              "      <td>1</td>\n",
              "      <td>20432.09</td>\n",
              "      <td>0.0</td>\n",
              "      <td>1.0</td>\n",
              "      <td>1.0</td>\n",
              "    </tr>\n",
              "    <tr>\n",
              "      <th>7775</th>\n",
              "      <td>628</td>\n",
              "      <td>40</td>\n",
              "      <td>10</td>\n",
              "      <td>0.00</td>\n",
              "      <td>2</td>\n",
              "      <td>1</td>\n",
              "      <td>0</td>\n",
              "      <td>103832.58</td>\n",
              "      <td>0.0</td>\n",
              "      <td>1.0</td>\n",
              "      <td>1.0</td>\n",
              "    </tr>\n",
              "    <tr>\n",
              "      <th>8735</th>\n",
              "      <td>728</td>\n",
              "      <td>30</td>\n",
              "      <td>10</td>\n",
              "      <td>114835.43</td>\n",
              "      <td>1</td>\n",
              "      <td>0</td>\n",
              "      <td>1</td>\n",
              "      <td>37662.49</td>\n",
              "      <td>0.0</td>\n",
              "      <td>0.0</td>\n",
              "      <td>1.0</td>\n",
              "    </tr>\n",
              "  </tbody>\n",
              "</table>\n",
              "</div>"
            ],
            "text/plain": [
              "      credit_score  age  tenure    balance  num_of_products  has_cr_card  \\\n",
              "7041           438   38       2       0.00                2            1   \n",
              "5709           644   39       9       0.00                1            1   \n",
              "7117           564   31       5  121461.87                1            1   \n",
              "7775           628   40      10       0.00                2            1   \n",
              "8735           728   30      10  114835.43                1            0   \n",
              "\n",
              "      is_active_member  estimated_salary  geography_Germany  geography_Spain  \\\n",
              "7041                 0         136859.55                0.0              0.0   \n",
              "5709                 0           3740.93                0.0              0.0   \n",
              "7117                 1          20432.09                0.0              1.0   \n",
              "7775                 0         103832.58                0.0              1.0   \n",
              "8735                 1          37662.49                0.0              0.0   \n",
              "\n",
              "      gender_Male  \n",
              "7041          1.0  \n",
              "5709          0.0  \n",
              "7117          1.0  \n",
              "7775          1.0  \n",
              "8735          1.0  "
            ]
          },
          "metadata": {}
        },
        {
          "execution_count": 26,
          "output_type": "execute_result",
          "data": {
            "text/html": [
              "<div>\n",
              "<style scoped>\n",
              "    .dataframe tbody tr th:only-of-type {\n",
              "        vertical-align: middle;\n",
              "    }\n",
              "\n",
              "    .dataframe tbody tr th {\n",
              "        vertical-align: top;\n",
              "    }\n",
              "\n",
              "    .dataframe thead th {\n",
              "        text-align: right;\n",
              "    }\n",
              "</style>\n",
              "<table border=\"1\" class=\"dataframe\">\n",
              "  <thead>\n",
              "    <tr style=\"text-align: right;\">\n",
              "      <th></th>\n",
              "      <th>credit_score</th>\n",
              "      <th>age</th>\n",
              "      <th>tenure</th>\n",
              "      <th>balance</th>\n",
              "      <th>num_of_products</th>\n",
              "      <th>has_cr_card</th>\n",
              "      <th>is_active_member</th>\n",
              "      <th>estimated_salary</th>\n",
              "      <th>geography_Germany</th>\n",
              "      <th>geography_Spain</th>\n",
              "      <th>gender_Male</th>\n",
              "    </tr>\n",
              "  </thead>\n",
              "  <tbody>\n",
              "    <tr>\n",
              "      <th>8532</th>\n",
              "      <td>585</td>\n",
              "      <td>35</td>\n",
              "      <td>2</td>\n",
              "      <td>0.00</td>\n",
              "      <td>2</td>\n",
              "      <td>1</td>\n",
              "      <td>0</td>\n",
              "      <td>98621.04</td>\n",
              "      <td>0.0</td>\n",
              "      <td>0.0</td>\n",
              "      <td>0.0</td>\n",
              "    </tr>\n",
              "    <tr>\n",
              "      <th>5799</th>\n",
              "      <td>625</td>\n",
              "      <td>45</td>\n",
              "      <td>3</td>\n",
              "      <td>0.00</td>\n",
              "      <td>1</td>\n",
              "      <td>1</td>\n",
              "      <td>1</td>\n",
              "      <td>184474.15</td>\n",
              "      <td>0.0</td>\n",
              "      <td>0.0</td>\n",
              "      <td>0.0</td>\n",
              "    </tr>\n",
              "    <tr>\n",
              "      <th>5511</th>\n",
              "      <td>667</td>\n",
              "      <td>32</td>\n",
              "      <td>0</td>\n",
              "      <td>103846.65</td>\n",
              "      <td>1</td>\n",
              "      <td>1</td>\n",
              "      <td>0</td>\n",
              "      <td>20560.69</td>\n",
              "      <td>1.0</td>\n",
              "      <td>0.0</td>\n",
              "      <td>1.0</td>\n",
              "    </tr>\n",
              "    <tr>\n",
              "      <th>7365</th>\n",
              "      <td>568</td>\n",
              "      <td>36</td>\n",
              "      <td>10</td>\n",
              "      <td>153610.61</td>\n",
              "      <td>1</td>\n",
              "      <td>1</td>\n",
              "      <td>1</td>\n",
              "      <td>54083.80</td>\n",
              "      <td>0.0</td>\n",
              "      <td>1.0</td>\n",
              "      <td>0.0</td>\n",
              "    </tr>\n",
              "    <tr>\n",
              "      <th>7367</th>\n",
              "      <td>606</td>\n",
              "      <td>42</td>\n",
              "      <td>10</td>\n",
              "      <td>0.00</td>\n",
              "      <td>2</td>\n",
              "      <td>1</td>\n",
              "      <td>0</td>\n",
              "      <td>177938.52</td>\n",
              "      <td>0.0</td>\n",
              "      <td>1.0</td>\n",
              "      <td>1.0</td>\n",
              "    </tr>\n",
              "  </tbody>\n",
              "</table>\n",
              "</div>"
            ],
            "text/plain": [
              "      credit_score  age  tenure    balance  num_of_products  has_cr_card  \\\n",
              "8532           585   35       2       0.00                2            1   \n",
              "5799           625   45       3       0.00                1            1   \n",
              "5511           667   32       0  103846.65                1            1   \n",
              "7365           568   36      10  153610.61                1            1   \n",
              "7367           606   42      10       0.00                2            1   \n",
              "\n",
              "      is_active_member  estimated_salary  geography_Germany  geography_Spain  \\\n",
              "8532                 0          98621.04                0.0              0.0   \n",
              "5799                 1         184474.15                0.0              0.0   \n",
              "5511                 0          20560.69                1.0              0.0   \n",
              "7365                 1          54083.80                0.0              1.0   \n",
              "7367                 0         177938.52                0.0              1.0   \n",
              "\n",
              "      gender_Male  \n",
              "8532          0.0  \n",
              "5799          0.0  \n",
              "5511          1.0  \n",
              "7365          0.0  \n",
              "7367          1.0  "
            ]
          },
          "metadata": {}
        }
      ]
    },
    {
      "cell_type": "markdown",
      "source": "Кодирование моделей проведено верно",
      "metadata": {}
    },
    {
      "cell_type": "markdown",
      "source": "Выполним масштабирование признаков.",
      "metadata": {}
    },
    {
      "cell_type": "code",
      "source": "numeric = ['credit_score', 'balance', 'estimated_salary', 'age']\n#создаем структуру данных масштабирования признаков\nscaler = StandardScaler()\n#настраиваем структуру данных\nscaler.fit(features_train[numeric])\n#масштабируем признаки\nfeatures_train[numeric] = scaler.transform(features_train[numeric]) \nfeatures_valid[numeric] = scaler.transform(features_valid[numeric]) \nfeatures_test[numeric] = scaler.transform(features_test[numeric]) \n#Проверим выполнение масштабирование признаков для каждой из выборок\nfeatures_train.head()\ndisplay(features_train.head())\ndisplay(features_valid.head())\nfeatures_test.head()",
      "metadata": {
        "scrolled": true
      },
      "execution_count": 27,
      "outputs": [
        {
          "output_type": "display_data",
          "data": {
            "text/html": [
              "<div>\n",
              "<style scoped>\n",
              "    .dataframe tbody tr th:only-of-type {\n",
              "        vertical-align: middle;\n",
              "    }\n",
              "\n",
              "    .dataframe tbody tr th {\n",
              "        vertical-align: top;\n",
              "    }\n",
              "\n",
              "    .dataframe thead th {\n",
              "        text-align: right;\n",
              "    }\n",
              "</style>\n",
              "<table border=\"1\" class=\"dataframe\">\n",
              "  <thead>\n",
              "    <tr style=\"text-align: right;\">\n",
              "      <th></th>\n",
              "      <th>credit_score</th>\n",
              "      <th>age</th>\n",
              "      <th>tenure</th>\n",
              "      <th>balance</th>\n",
              "      <th>num_of_products</th>\n",
              "      <th>has_cr_card</th>\n",
              "      <th>is_active_member</th>\n",
              "      <th>estimated_salary</th>\n",
              "      <th>geography_Germany</th>\n",
              "      <th>geography_Spain</th>\n",
              "      <th>gender_Male</th>\n",
              "    </tr>\n",
              "  </thead>\n",
              "  <tbody>\n",
              "    <tr>\n",
              "      <th>7479</th>\n",
              "      <td>-0.886751</td>\n",
              "      <td>-0.373192</td>\n",
              "      <td>8</td>\n",
              "      <td>1.232271</td>\n",
              "      <td>1</td>\n",
              "      <td>1</td>\n",
              "      <td>0</td>\n",
              "      <td>-0.187705</td>\n",
              "      <td>0.0</td>\n",
              "      <td>1.0</td>\n",
              "      <td>1.0</td>\n",
              "    </tr>\n",
              "    <tr>\n",
              "      <th>3411</th>\n",
              "      <td>0.608663</td>\n",
              "      <td>-0.183385</td>\n",
              "      <td>8</td>\n",
              "      <td>0.600563</td>\n",
              "      <td>1</td>\n",
              "      <td>0</td>\n",
              "      <td>0</td>\n",
              "      <td>-0.333945</td>\n",
              "      <td>0.0</td>\n",
              "      <td>0.0</td>\n",
              "      <td>0.0</td>\n",
              "    </tr>\n",
              "    <tr>\n",
              "      <th>6027</th>\n",
              "      <td>2.052152</td>\n",
              "      <td>0.480939</td>\n",
              "      <td>3</td>\n",
              "      <td>1.027098</td>\n",
              "      <td>2</td>\n",
              "      <td>0</td>\n",
              "      <td>1</td>\n",
              "      <td>1.503095</td>\n",
              "      <td>1.0</td>\n",
              "      <td>0.0</td>\n",
              "      <td>1.0</td>\n",
              "    </tr>\n",
              "    <tr>\n",
              "      <th>1247</th>\n",
              "      <td>-1.457915</td>\n",
              "      <td>-1.417129</td>\n",
              "      <td>6</td>\n",
              "      <td>-1.233163</td>\n",
              "      <td>2</td>\n",
              "      <td>1</td>\n",
              "      <td>0</td>\n",
              "      <td>-1.071061</td>\n",
              "      <td>0.0</td>\n",
              "      <td>0.0</td>\n",
              "      <td>1.0</td>\n",
              "    </tr>\n",
              "    <tr>\n",
              "      <th>3716</th>\n",
              "      <td>0.130961</td>\n",
              "      <td>-1.132419</td>\n",
              "      <td>2</td>\n",
              "      <td>1.140475</td>\n",
              "      <td>1</td>\n",
              "      <td>0</td>\n",
              "      <td>0</td>\n",
              "      <td>1.524268</td>\n",
              "      <td>1.0</td>\n",
              "      <td>0.0</td>\n",
              "      <td>0.0</td>\n",
              "    </tr>\n",
              "  </tbody>\n",
              "</table>\n",
              "</div>"
            ],
            "text/plain": [
              "      credit_score       age  tenure   balance  num_of_products  has_cr_card  \\\n",
              "7479     -0.886751 -0.373192       8  1.232271                1            1   \n",
              "3411      0.608663 -0.183385       8  0.600563                1            0   \n",
              "6027      2.052152  0.480939       3  1.027098                2            0   \n",
              "1247     -1.457915 -1.417129       6 -1.233163                2            1   \n",
              "3716      0.130961 -1.132419       2  1.140475                1            0   \n",
              "\n",
              "      is_active_member  estimated_salary  geography_Germany  geography_Spain  \\\n",
              "7479                 0         -0.187705                0.0              1.0   \n",
              "3411                 0         -0.333945                0.0              0.0   \n",
              "6027                 1          1.503095                1.0              0.0   \n",
              "1247                 0         -1.071061                0.0              0.0   \n",
              "3716                 0          1.524268                1.0              0.0   \n",
              "\n",
              "      gender_Male  \n",
              "7479          1.0  \n",
              "3411          0.0  \n",
              "6027          1.0  \n",
              "1247          1.0  \n",
              "3716          0.0  "
            ]
          },
          "metadata": {}
        },
        {
          "output_type": "display_data",
          "data": {
            "text/html": [
              "<div>\n",
              "<style scoped>\n",
              "    .dataframe tbody tr th:only-of-type {\n",
              "        vertical-align: middle;\n",
              "    }\n",
              "\n",
              "    .dataframe tbody tr th {\n",
              "        vertical-align: top;\n",
              "    }\n",
              "\n",
              "    .dataframe thead th {\n",
              "        text-align: right;\n",
              "    }\n",
              "</style>\n",
              "<table border=\"1\" class=\"dataframe\">\n",
              "  <thead>\n",
              "    <tr style=\"text-align: right;\">\n",
              "      <th></th>\n",
              "      <th>credit_score</th>\n",
              "      <th>age</th>\n",
              "      <th>tenure</th>\n",
              "      <th>balance</th>\n",
              "      <th>num_of_products</th>\n",
              "      <th>has_cr_card</th>\n",
              "      <th>is_active_member</th>\n",
              "      <th>estimated_salary</th>\n",
              "      <th>geography_Germany</th>\n",
              "      <th>geography_Spain</th>\n",
              "      <th>gender_Male</th>\n",
              "    </tr>\n",
              "  </thead>\n",
              "  <tbody>\n",
              "    <tr>\n",
              "      <th>7041</th>\n",
              "      <td>-2.226392</td>\n",
              "      <td>-0.088482</td>\n",
              "      <td>2</td>\n",
              "      <td>-1.233163</td>\n",
              "      <td>2</td>\n",
              "      <td>1</td>\n",
              "      <td>0</td>\n",
              "      <td>0.647083</td>\n",
              "      <td>0.0</td>\n",
              "      <td>0.0</td>\n",
              "      <td>1.0</td>\n",
              "    </tr>\n",
              "    <tr>\n",
              "      <th>5709</th>\n",
              "      <td>-0.087120</td>\n",
              "      <td>0.006422</td>\n",
              "      <td>9</td>\n",
              "      <td>-1.233163</td>\n",
              "      <td>1</td>\n",
              "      <td>1</td>\n",
              "      <td>0</td>\n",
              "      <td>-1.658410</td>\n",
              "      <td>0.0</td>\n",
              "      <td>0.0</td>\n",
              "      <td>0.0</td>\n",
              "    </tr>\n",
              "    <tr>\n",
              "      <th>7117</th>\n",
              "      <td>-0.917905</td>\n",
              "      <td>-0.752805</td>\n",
              "      <td>5</td>\n",
              "      <td>0.722307</td>\n",
              "      <td>1</td>\n",
              "      <td>1</td>\n",
              "      <td>1</td>\n",
              "      <td>-1.369334</td>\n",
              "      <td>0.0</td>\n",
              "      <td>1.0</td>\n",
              "      <td>1.0</td>\n",
              "    </tr>\n",
              "    <tr>\n",
              "      <th>7775</th>\n",
              "      <td>-0.253277</td>\n",
              "      <td>0.101325</td>\n",
              "      <td>10</td>\n",
              "      <td>-1.233163</td>\n",
              "      <td>2</td>\n",
              "      <td>1</td>\n",
              "      <td>0</td>\n",
              "      <td>0.075086</td>\n",
              "      <td>0.0</td>\n",
              "      <td>1.0</td>\n",
              "      <td>1.0</td>\n",
              "    </tr>\n",
              "    <tr>\n",
              "      <th>8735</th>\n",
              "      <td>0.785204</td>\n",
              "      <td>-0.847708</td>\n",
              "      <td>10</td>\n",
              "      <td>0.615625</td>\n",
              "      <td>1</td>\n",
              "      <td>0</td>\n",
              "      <td>1</td>\n",
              "      <td>-1.070919</td>\n",
              "      <td>0.0</td>\n",
              "      <td>0.0</td>\n",
              "      <td>1.0</td>\n",
              "    </tr>\n",
              "  </tbody>\n",
              "</table>\n",
              "</div>"
            ],
            "text/plain": [
              "      credit_score       age  tenure   balance  num_of_products  has_cr_card  \\\n",
              "7041     -2.226392 -0.088482       2 -1.233163                2            1   \n",
              "5709     -0.087120  0.006422       9 -1.233163                1            1   \n",
              "7117     -0.917905 -0.752805       5  0.722307                1            1   \n",
              "7775     -0.253277  0.101325      10 -1.233163                2            1   \n",
              "8735      0.785204 -0.847708      10  0.615625                1            0   \n",
              "\n",
              "      is_active_member  estimated_salary  geography_Germany  geography_Spain  \\\n",
              "7041                 0          0.647083                0.0              0.0   \n",
              "5709                 0         -1.658410                0.0              0.0   \n",
              "7117                 1         -1.369334                0.0              1.0   \n",
              "7775                 0          0.075086                0.0              1.0   \n",
              "8735                 1         -1.070919                0.0              0.0   \n",
              "\n",
              "      gender_Male  \n",
              "7041          1.0  \n",
              "5709          0.0  \n",
              "7117          1.0  \n",
              "7775          1.0  \n",
              "8735          1.0  "
            ]
          },
          "metadata": {}
        },
        {
          "execution_count": 27,
          "output_type": "execute_result",
          "data": {
            "text/html": [
              "<div>\n",
              "<style scoped>\n",
              "    .dataframe tbody tr th:only-of-type {\n",
              "        vertical-align: middle;\n",
              "    }\n",
              "\n",
              "    .dataframe tbody tr th {\n",
              "        vertical-align: top;\n",
              "    }\n",
              "\n",
              "    .dataframe thead th {\n",
              "        text-align: right;\n",
              "    }\n",
              "</style>\n",
              "<table border=\"1\" class=\"dataframe\">\n",
              "  <thead>\n",
              "    <tr style=\"text-align: right;\">\n",
              "      <th></th>\n",
              "      <th>credit_score</th>\n",
              "      <th>age</th>\n",
              "      <th>tenure</th>\n",
              "      <th>balance</th>\n",
              "      <th>num_of_products</th>\n",
              "      <th>has_cr_card</th>\n",
              "      <th>is_active_member</th>\n",
              "      <th>estimated_salary</th>\n",
              "      <th>geography_Germany</th>\n",
              "      <th>geography_Spain</th>\n",
              "      <th>gender_Male</th>\n",
              "    </tr>\n",
              "  </thead>\n",
              "  <tbody>\n",
              "    <tr>\n",
              "      <th>8532</th>\n",
              "      <td>-0.699824</td>\n",
              "      <td>-0.373192</td>\n",
              "      <td>2</td>\n",
              "      <td>-1.233163</td>\n",
              "      <td>2</td>\n",
              "      <td>1</td>\n",
              "      <td>0</td>\n",
              "      <td>-0.015173</td>\n",
              "      <td>0.0</td>\n",
              "      <td>0.0</td>\n",
              "      <td>0.0</td>\n",
              "    </tr>\n",
              "    <tr>\n",
              "      <th>5799</th>\n",
              "      <td>-0.284431</td>\n",
              "      <td>0.575842</td>\n",
              "      <td>3</td>\n",
              "      <td>-1.233163</td>\n",
              "      <td>1</td>\n",
              "      <td>1</td>\n",
              "      <td>1</td>\n",
              "      <td>1.471724</td>\n",
              "      <td>0.0</td>\n",
              "      <td>0.0</td>\n",
              "      <td>0.0</td>\n",
              "    </tr>\n",
              "    <tr>\n",
              "      <th>5511</th>\n",
              "      <td>0.151731</td>\n",
              "      <td>-0.657902</td>\n",
              "      <td>0</td>\n",
              "      <td>0.438711</td>\n",
              "      <td>1</td>\n",
              "      <td>1</td>\n",
              "      <td>0</td>\n",
              "      <td>-1.367107</td>\n",
              "      <td>1.0</td>\n",
              "      <td>0.0</td>\n",
              "      <td>1.0</td>\n",
              "    </tr>\n",
              "    <tr>\n",
              "      <th>7365</th>\n",
              "      <td>-0.876366</td>\n",
              "      <td>-0.278288</td>\n",
              "      <td>10</td>\n",
              "      <td>1.239884</td>\n",
              "      <td>1</td>\n",
              "      <td>1</td>\n",
              "      <td>1</td>\n",
              "      <td>-0.786517</td>\n",
              "      <td>0.0</td>\n",
              "      <td>1.0</td>\n",
              "      <td>0.0</td>\n",
              "    </tr>\n",
              "    <tr>\n",
              "      <th>7367</th>\n",
              "      <td>-0.481743</td>\n",
              "      <td>0.291132</td>\n",
              "      <td>10</td>\n",
              "      <td>-1.233163</td>\n",
              "      <td>2</td>\n",
              "      <td>1</td>\n",
              "      <td>0</td>\n",
              "      <td>1.358533</td>\n",
              "      <td>0.0</td>\n",
              "      <td>1.0</td>\n",
              "      <td>1.0</td>\n",
              "    </tr>\n",
              "  </tbody>\n",
              "</table>\n",
              "</div>"
            ],
            "text/plain": [
              "      credit_score       age  tenure   balance  num_of_products  has_cr_card  \\\n",
              "8532     -0.699824 -0.373192       2 -1.233163                2            1   \n",
              "5799     -0.284431  0.575842       3 -1.233163                1            1   \n",
              "5511      0.151731 -0.657902       0  0.438711                1            1   \n",
              "7365     -0.876366 -0.278288      10  1.239884                1            1   \n",
              "7367     -0.481743  0.291132      10 -1.233163                2            1   \n",
              "\n",
              "      is_active_member  estimated_salary  geography_Germany  geography_Spain  \\\n",
              "8532                 0         -0.015173                0.0              0.0   \n",
              "5799                 1          1.471724                0.0              0.0   \n",
              "5511                 0         -1.367107                1.0              0.0   \n",
              "7365                 1         -0.786517                0.0              1.0   \n",
              "7367                 0          1.358533                0.0              1.0   \n",
              "\n",
              "      gender_Male  \n",
              "8532          0.0  \n",
              "5799          0.0  \n",
              "5511          1.0  \n",
              "7365          0.0  \n",
              "7367          1.0  "
            ]
          },
          "metadata": {}
        }
      ]
    },
    {
      "cell_type": "markdown",
      "source": "Масштабирование выполнено успешно",
      "metadata": {}
    },
    {
      "cell_type": "markdown",
      "source": "### Построение моделей типа Логистическая регрессия и Случайный лес",
      "metadata": {}
    },
    {
      "cell_type": "markdown",
      "source": "Обучим модель типа \"Логистическая регрессия\"",
      "metadata": {}
    },
    {
      "cell_type": "code",
      "source": "best_model_LogisticRegression = None\nbest_result_LR = 0\nbest_iter = 10\nmax_len_iter = 300\nfor m_iter in range(40, max_len_iter+1, 20):\n    model = LogisticRegression(max_iter=m_iter, random_state=12345, solver='liblinear')\n    model.fit(features_train, target_train)\n    predictions = model.predict(features_valid)\n    result = f1_score(target_valid, predictions)    \n    print(\"Число итераций древа:\", m_iter, \"f1:\", result)\n    if result > best_result_LR:\n        best_model_LogisticRegression = best_model_LogisticRegression\n        best_result_LR = result\n        best_iter = m_iter        \nprint()\nprint(\"f1 лучшей модели: {:.7n}\".format(best_result_LR), \"Лучшее число итераций:\", best_iter)\nprint()",
      "metadata": {},
      "execution_count": 28,
      "outputs": [
        {
          "name": "stdout",
          "output_type": "stream",
          "text": "Число итераций древа: 40 f1: 0.27177700348432055\n\nЧисло итераций древа: 60 f1: 0.27177700348432055\n\nЧисло итераций древа: 80 f1: 0.27177700348432055\n\nЧисло итераций древа: 100 f1: 0.27177700348432055\n\nЧисло итераций древа: 120 f1: 0.27177700348432055\n\nЧисло итераций древа: 140 f1: 0.27177700348432055\n\nЧисло итераций древа: 160 f1: 0.27177700348432055\n\nЧисло итераций древа: 180 f1: 0.27177700348432055\n\nЧисло итераций древа: 200 f1: 0.27177700348432055\n\nЧисло итераций древа: 220 f1: 0.27177700348432055\n\nЧисло итераций древа: 240 f1: 0.27177700348432055\n\nЧисло итераций древа: 260 f1: 0.27177700348432055\n\nЧисло итераций древа: 280 f1: 0.27177700348432055\n\nЧисло итераций древа: 300 f1: 0.27177700348432055\n\n\n\nf1 лучшей модели: 0.271777 Лучшее число итераций: 40\n\n\n"
        }
      ]
    },
    {
      "cell_type": "markdown",
      "source": "Параметры модель типа \"Логистическая регрессия\":\n\n- f1 лучшей модели: 0.27\n- Лучшее число итераций: 40 ",
      "metadata": {}
    },
    {
      "cell_type": "markdown",
      "source": "Модель типа \"Логистическая регрессия\" показала результат метрики f1 на валидационной выборке: 0,27, что существенно ниже требуемого 0,59 на тестовой выборке.\n\nПротестируем модель типа \"Случаный лес\"",
      "metadata": {}
    },
    {
      "cell_type": "markdown",
      "source": "Обучим модель типа \"Случаный лес\"",
      "metadata": {}
    },
    {
      "cell_type": "code",
      "source": "best_model = None\nbest_result = 0\nbest_depth = 1\nmax_len_depth = 20\nbest_est = 1\nmax_est_est = 100\nfor est in range(10, max_est_est+1, 10):\n    for depth in range(1, max_len_depth+1):\n        model = RandomForestClassifier(n_estimators=est, max_depth=depth, random_state=12345)\n        model.fit(features_train, target_train)\n        predictions = model.predict(features_valid)\n        result = f1_score(target_valid, predictions) \n        if result > best_result:\n            best_model = model\n            best_result = result\n            best_depth = depth\n            best_est = est\nprint()\nprint(\"f1 лучшей модели: {:.7n}\".format(best_result), \"Число деревьев при такой метрике f1\", best_est, \"Глубина древа при такой метрике f1:\", best_depth)",
      "metadata": {
        "scrolled": true
      },
      "execution_count": 29,
      "outputs": [
        {
          "name": "stdout",
          "output_type": "stream",
          "text": "\n\nf1 лучшей модели: 0.5512048 Число деревьев при такой метрике f1 30 Глубина древа при такой метрике f1: 17\n"
        }
      ]
    },
    {
      "cell_type": "markdown",
      "source": "Запомним гиперпараметры для модели типа \"Случаный лес\":\n\n- f1 лучшей модели: 0.55\n- Число деревьев при такой метрике f1: 30 \n- Глубина древа при такой метрике f1: 17",
      "metadata": {}
    },
    {
      "cell_type": "markdown",
      "source": "### Баланс признаков",
      "metadata": {}
    },
    {
      "cell_type": "code",
      "source": "#проверим исходныхй баланс целевого признака\ndata_good_target.value_counts()",
      "metadata": {},
      "execution_count": 30,
      "outputs": [
        {
          "execution_count": 30,
          "output_type": "execute_result",
          "data": {
            "text/plain": [
              "exited\n",
              "0    7963\n",
              "1    2037\n",
              "Name: count, dtype: int64"
            ]
          },
          "metadata": {}
        }
      ]
    },
    {
      "cell_type": "markdown",
      "source": "Число клиентов, которые не хотят уйти из банка составляют 80% от всей выборки, а клиенты, которые хотят уйти из банка всего 20% от всей выборки. В следующем разделе следует увеличить число записей, для клиентов которые хотят уйти из банка, для более качественной модели",
      "metadata": {}
    },
    {
      "cell_type": "markdown",
      "source": "## Борьба с дисбалансом",
      "metadata": {}
    },
    {
      "cell_type": "markdown",
      "source": "В качестве первого шага обучим модели с включением парамента взвешивания классов `class_weight='balanced'`",
      "metadata": {}
    },
    {
      "cell_type": "markdown",
      "source": "Обучим модель типа \"Логистическая регрессия\"",
      "metadata": {}
    },
    {
      "cell_type": "code",
      "source": "best_model_LogisticRegression = None\nbest_result_LR = 0\nbest_iter = 10\nmax_len_iter = 300\nfor m_iter in range(40, max_len_iter+1, 20):\n    model = LogisticRegression(class_weight='balanced', max_iter=m_iter, random_state=12345, solver='liblinear')\n    model.fit(features_train, target_train)\n    predictions = model.predict(features_valid)\n    result = f1_score(target_valid, predictions)    \n    print(\"Число итераций древа:\", m_iter, \"f1:\", result)\n    if result > best_result_LR:\n        best_model_LogisticRegression = model\n        best_result_LR = result\n        best_iter = m_iter        \nprint()\nprint(\"f1 лучшей модели: {:.7n}\".format(best_result_LR), \"Лучшее число итераций:\", best_iter)\nprint()",
      "metadata": {},
      "execution_count": 31,
      "outputs": [
        {
          "name": "stdout",
          "output_type": "stream",
          "text": "Число итераций древа: 40 f1: 0.4784110535405872\n\nЧисло итераций древа: 60 f1: 0.4784110535405872\n\nЧисло итераций древа: 80 f1: 0.4784110535405872\n\nЧисло итераций древа: 100 f1: 0.4784110535405872\n\nЧисло итераций древа: 120 f1: 0.4784110535405872\n\nЧисло итераций древа: 140 f1: 0.4784110535405872\n\nЧисло итераций древа: 160 f1: 0.4784110535405872\n\nЧисло итераций древа: 180 f1: 0.4784110535405872\n\nЧисло итераций древа: 200 f1: 0.4784110535405872\n\nЧисло итераций древа: 220 f1: 0.4784110535405872\n\nЧисло итераций древа: 240 f1: 0.4784110535405872\n\nЧисло итераций древа: 260 f1: 0.4784110535405872\n\nЧисло итераций древа: 280 f1: 0.4784110535405872\n\nЧисло итераций древа: 300 f1: 0.4784110535405872\n\n\n\nf1 лучшей модели: 0.4784111 Лучшее число итераций: 40\n\n\n"
        }
      ]
    },
    {
      "cell_type": "markdown",
      "source": "Наблюдаем скачок метрики f1 c 0.27 до 0.47",
      "metadata": {}
    },
    {
      "cell_type": "markdown",
      "source": "Обучим модель типа \"Случаный лес\"",
      "metadata": {}
    },
    {
      "cell_type": "code",
      "source": "best_model = None\nbest_result = 0\nbest_depth = 1\nmax_len_depth = 15\nbest_est = 1\nmax_est_est = 20\nfor est in range(4, max_est_est+1, 2):\n    for depth in range(1, max_len_depth+1):\n        model = RandomForestClassifier(class_weight='balanced', n_estimators=est, max_depth=depth, random_state=12345)\n        model.fit(features_train, target_train)\n        predictions = model.predict(features_valid)\n        result = f1_score(target_valid, predictions) \n        if result > best_result:\n            best_model = model\n            best_result = result\n            best_depth = depth\n            best_est = est\nprint(\"f1 лучшей модели: {:.7n}\".format(best_result), \"Число деревьев при такой метрике f1:\", best_est, \"Глубина древа при такой метрике f1:\", best_depth)",
      "metadata": {
        "scrolled": true
      },
      "execution_count": 33,
      "outputs": [
        {
          "name": "stdout",
          "output_type": "stream",
          "text": "f1 лучшей модели: 0.6091476 Число деревьев при такой метрике f1: 10 Глубина древа при такой метрике f1: 7\n"
        }
      ]
    },
    {
      "cell_type": "markdown",
      "source": "Метрика f1 увеличилась по сравнению с предыдущей моделю примерно на 6%. с 0,551 до 0,609",
      "metadata": {}
    },
    {
      "cell_type": "markdown",
      "source": "Воспользуемся техникой `upsampling` для увеличения числа людей в выборке которые отказалсь от услуг банка.\n\nНапишем функцию, которая увеличивает число людей, покинувших банк",
      "metadata": {}
    },
    {
      "cell_type": "code",
      "source": "#функция на вход принимает 2 массива данных: с остальными признаками и целевым признаком. И число повторений\ndef upsampling(features, target, repeat):\n    #сохраняем целевой признак для 0 и 1\n    target_zero = target[target == 0]\n    target_ones = target[target == 1]\n    #сохраняем индексы целевого признака с 0 и 1, чтобы использовать эти индексы для фильтрации остальных признаков\n    target_zero_index = target_zero.index\n    target_ones_index = target_ones.index   \n    #ипользуем индексы целевого признака для фильтрации остальных признаков\n    features_zero = features.query('credit_score.index in @target_zero_index')\n    features_ones = features.query('credit_score.index in @target_ones_index')\n    #увеличиваем число данных пользователей, который отказались от услуг банка\n    features_upsampling = pd.concat([features_zero] + [features_ones] * repeat) \n    target_upsampling = pd.concat([target_zero] + [target_ones] * repeat)\n    #перемешиваем данные\n    features_upsampling = shuffle(features_upsampling, random_state=12345) \n    target_upsampling = shuffle(target_upsampling, random_state=12345) \n    #выводим данные\n    return features_upsampling, target_upsampling    ",
      "metadata": {},
      "execution_count": 34,
      "outputs": []
    },
    {
      "cell_type": "markdown",
      "source": "Воспользуемся полученной функцией и увеличим число посетителей, которые покинули банк в 4 раз и проверим размеры датафрема при работе функции и при прямом увеличении.",
      "metadata": {}
    },
    {
      "cell_type": "code",
      "source": "features_train_upsampled, target_train_upsampled = upsampling(features_train, target_train, 4)\ndisplay('Размеры увеличенного датафрема при работе функции upsampling')\ndisplay('Размеры датафрема с обучающими признаками', features_train_upsampled.shape)\ndisplay('Размеры датафрема с целевыми признаками', target_train_upsampled.shape)\ndisplay('Размеры увеличенного датафрема при ручном увеличении', target_train[target_train == 1].count()*4 + target_train[target_train != 1].count())",
      "metadata": {},
      "execution_count": 35,
      "outputs": [
        {
          "output_type": "display_data",
          "data": {
            "text/plain": [
              "'Размеры увеличенного датафрема при работе функции upsampling'"
            ]
          },
          "metadata": {}
        },
        {
          "output_type": "display_data",
          "data": {
            "text/plain": [
              "'Размеры датафрема с обучающими признаками'"
            ]
          },
          "metadata": {}
        },
        {
          "output_type": "display_data",
          "data": {
            "text/plain": [
              "(9588, 11)"
            ]
          },
          "metadata": {}
        },
        {
          "output_type": "display_data",
          "data": {
            "text/plain": [
              "'Размеры датафрема с целевыми признаками'"
            ]
          },
          "metadata": {}
        },
        {
          "output_type": "display_data",
          "data": {
            "text/plain": [
              "(9588,)"
            ]
          },
          "metadata": {}
        },
        {
          "output_type": "display_data",
          "data": {
            "text/plain": [
              "'Размеры увеличенного датафрема при ручном увеличении'"
            ]
          },
          "metadata": {}
        },
        {
          "output_type": "display_data",
          "data": {
            "text/plain": [
              "9588"
            ]
          },
          "metadata": {}
        }
      ]
    },
    {
      "cell_type": "markdown",
      "source": "Размеры совпадают, следовательно функция написана верно. Проверим баланс целевых признаков",
      "metadata": {}
    },
    {
      "cell_type": "code",
      "source": "target_train_upsampled.value_counts()",
      "metadata": {
        "scrolled": true
      },
      "execution_count": 36,
      "outputs": [
        {
          "execution_count": 36,
          "output_type": "execute_result",
          "data": {
            "text/plain": [
              "exited\n",
              "0    4804\n",
              "1    4784\n",
              "Name: count, dtype: int64"
            ]
          },
          "metadata": {}
        }
      ]
    },
    {
      "cell_type": "markdown",
      "source": "После использования метода upsampling баланс сместился с 80/20 для целевого признака равного 0 и 1 соответственно\n\nна 50/50 для целевого признака равного 0 и 1 соответственно",
      "metadata": {}
    },
    {
      "cell_type": "markdown",
      "source": "Обучим модель типа \"Логистическая регрессия\" на новых данных",
      "metadata": {}
    },
    {
      "cell_type": "code",
      "source": "best_model_LogisticRegression = None\nbest_result_LR = 0\nbest_iter = 10\nmax_len_iter = 300\nfor m_iter in range(40, max_len_iter+1, 20):\n    model = LogisticRegression(class_weight='balanced', max_iter=m_iter, random_state=12345, solver='liblinear')\n    model.fit(features_train_upsampled, target_train_upsampled)\n    predictions = model.predict(features_valid)\n    result = f1_score(target_valid, predictions)    \n    print(\"Число итераций древа:\", m_iter, \"f1:\", result)\n    if result > best_result_LR:\n        best_model_LogisticRegression = model\n        best_result_LR = result\n        best_iter = m_iter        \nprint()\nprint(\"f1 лучшей модели: {:.7n}\".format(best_result_LR), \"Лучшее число итераций:\", best_iter)\nprint()",
      "metadata": {},
      "execution_count": 37,
      "outputs": [
        {
          "name": "stdout",
          "output_type": "stream",
          "text": "Число итераций древа: 40 f1: 0.4775086505190312\n\nЧисло итераций древа: 60 f1: 0.4775086505190312\n\nЧисло итераций древа: 80 f1: 0.4775086505190312\n\nЧисло итераций древа: 100 f1: 0.4775086505190312\n\nЧисло итераций древа: 120 f1: 0.4775086505190312\n\nЧисло итераций древа: 140 f1: 0.4775086505190312\n\nЧисло итераций древа: 160 f1: 0.4775086505190312\n\nЧисло итераций древа: 180 f1: 0.4775086505190312\n\nЧисло итераций древа: 200 f1: 0.4775086505190312\n\nЧисло итераций древа: 220 f1: 0.4775086505190312\n\nЧисло итераций древа: 240 f1: 0.4775086505190312\n\nЧисло итераций древа: 260 f1: 0.4775086505190312\n\nЧисло итераций древа: 280 f1: 0.4775086505190312\n\nЧисло итераций древа: 300 f1: 0.4775086505190312\n\n\n\nf1 лучшей модели: 0.4775087 Лучшее число итераций: 40\n\n\n"
        }
      ]
    },
    {
      "cell_type": "markdown",
      "source": "Увеличение размера выборки не дало результатов и даже ухудшило метрика на 0,001",
      "metadata": {}
    },
    {
      "cell_type": "markdown",
      "source": "Обучим модель типа \" Случаный лес\" на новых данных",
      "metadata": {}
    },
    {
      "cell_type": "code",
      "source": "best_model = None\nbest_result = 0\nbest_depth = 1\nmax_len_depth = 15\nbest_est = 1\nmax_est_est = 30\nfor est in range(4, max_est_est+1, 2):\n    for depth in range(1, max_len_depth+1):\n        model = RandomForestClassifier(class_weight='balanced', n_estimators=est, max_depth=depth, random_state=12345)\n        model.fit(features_train_upsampled, target_train_upsampled)\n        predictions = model.predict(features_valid)\n        result = f1_score(target_valid, predictions) \n        if result > best_result:\n            best_model = model\n            best_result = result\n            best_depth = depth\n            best_est = est\n            #best_multiplier = multiplier\nprint(\"f1 лучшей модели: {:.7n}\".format(best_result), \"| Число деревьев при такой метрике f1:\", best_est, \"| Глубина древа при такой метрике f1:\", best_depth)            ",
      "metadata": {},
      "execution_count": 38,
      "outputs": [
        {
          "name": "stdout",
          "output_type": "stream",
          "text": "f1 лучшей модели: 0.618219 | Число деревьев при такой метрике f1: 28 | Глубина древа при такой метрике f1: 9\n"
        }
      ]
    },
    {
      "cell_type": "markdown",
      "source": "После увеличения размера выборки общее качество метрики f1 увеличилось примерно с 0.609 до 0.618, то есть примерно 1%\n\nЧисло деревьев при такой метрике f1: 28 | Глубина древа при такой метрике f1: 9",
      "metadata": {}
    },
    {
      "cell_type": "markdown",
      "source": "#Поробуем изменить порог данных\nprobabilities_valid = best_model.predict_proba(features_valid)\nprobabilities_one_valid = probabilities_valid[:, 1]\n\nfor threshold in np.arange(0, 0.8, 0.02):\n    predicted_valid = probabilities_one_valid > threshold \n    precision = precision_score(target_valid, predicted_valid)\n    f1 = f1_score(target_valid, predicted_valid)    \n    print(\"Порог = {:.2f} | Точность = {:.3f}, f1 = {:.3f}\".format(threshold, precision, f1))\nК сожалению изменение порога никак не увиличивают метрику f1. Метрика f1 остается на том же уровне",
      "metadata": {}
    },
    {
      "cell_type": "markdown",
      "source": "## Тестирование модели",
      "metadata": {}
    },
    {
      "cell_type": "markdown",
      "source": "Протестируем обученные модели на тестовых данных",
      "metadata": {}
    },
    {
      "cell_type": "code",
      "source": "predictions = best_model_LogisticRegression.predict(features_test)\nresult_f1 = f1_score(target_test, predictions)\nresult_recall = recall_score(target_test, predictions) \ndisplay(\"Для модели типа логистическая регрессия Метрика F1 - {:.2%}\".format(result_f1), \"Метрика recall - {:.2%}\".format(result_recall))\n",
      "metadata": {
        "scrolled": true
      },
      "execution_count": 54,
      "outputs": [
        {
          "output_type": "display_data",
          "data": {
            "text/plain": [
              "'Для модели типа логистическая регрессия Метрика F1 - 48.89%'"
            ]
          },
          "metadata": {}
        },
        {
          "output_type": "display_data",
          "data": {
            "text/plain": [
              "'Метрика recall - 68.18%'"
            ]
          },
          "metadata": {}
        }
      ]
    },
    {
      "cell_type": "markdown",
      "source": "Модель типа \"Логистическая регрессия\" показала метрику f1 в 0.489 что меньше требуемой метрики в 0.59. А метрика recall на уровне 0.68, то есть модель с точностью 68% предсказывает отток клиентов из банка",
      "metadata": {}
    },
    {
      "cell_type": "code",
      "source": "predictions = best_model.predict(features_test)\nresult_f1 = f1_score(target_test, predictions) \nresult_recall = recall_score(target_test, predictions) \nresult_recall\ndisplay(\"Для модели типа случаный лес Метрика F1 - {:.2%}\".format(result_f1), \"Метрика recall - {:.2%}\".format(result_recall))\n",
      "metadata": {},
      "execution_count": 55,
      "outputs": [
        {
          "output_type": "display_data",
          "data": {
            "text/plain": [
              "'Для модели типа случаный лес Метрика F1 - 61.12%'"
            ]
          },
          "metadata": {}
        },
        {
          "output_type": "display_data",
          "data": {
            "text/plain": [
              "'Метрика recall - 69.38%'"
            ]
          },
          "metadata": {}
        }
      ]
    },
    {
      "cell_type": "markdown",
      "source": "Модель типа \"Случаный лес\" показала метрику f1 в 0.6111 что является удовлетворительным результатом.  А метрика recall на уровне 0.69, то есть модель с точностью 69% предсказывает отток клиентов из банка",
      "metadata": {}
    },
    {
      "cell_type": "code",
      "source": "dummy_model = DummyClassifier(strategy='constant', constant=1)\ndummy_model.fit(features_train_upsampled, target_train_upsampled)\nresult_f1 = f1_score(dummy_model.predict(features_test), target_test)\nresult_recall = recall_score(dummy_model.predict(features_test), target_test)\ndisplay(\"Для dummy модели Метрика F1 - {:.2%}\".format(result_f1), \"Метрика recall - {:.2%}\".format(result_recall))\n",
      "metadata": {},
      "execution_count": 60,
      "outputs": [
        {
          "output_type": "display_data",
          "data": {
            "text/plain": [
              "'Для dummy модели Метрика F1 - 34.57%'"
            ]
          },
          "metadata": {}
        },
        {
          "output_type": "display_data",
          "data": {
            "text/plain": [
              "'Метрика recall - 20.90%'"
            ]
          },
          "metadata": {}
        }
      ]
    },
    {
      "cell_type": "markdown",
      "source": "Обученные модели предсказывают результат лучше случайной модели примерно в 2 раза",
      "metadata": {}
    },
    {
      "cell_type": "markdown",
      "source": "Проверим модель на адекватность с использованием метрики `roc_auc_score`",
      "metadata": {}
    },
    {
      "cell_type": "code",
      "source": "probabilities_valid = best_model.predict_proba(features_test)\nprobabilities_one_valid = probabilities_valid[:, 1]\nauc_roc = roc_auc_score(target_test, probabilities_one_valid)\nauc_roc",
      "metadata": {},
      "execution_count": 43,
      "outputs": [
        {
          "execution_count": 43,
          "output_type": "execute_result",
          "data": {
            "text/plain": [
              "0.8480573920722966"
            ]
          },
          "metadata": {}
        }
      ]
    },
    {
      "cell_type": "markdown",
      "source": "Модель показала значение ~0,85, что на 0,35 выше чем случайная модель с вероятностью предсказания 50%",
      "metadata": {}
    },
    {
      "cell_type": "markdown",
      "source": "# Выводы по проекту",
      "metadata": {}
    },
    {
      "cell_type": "markdown",
      "source": "В проекты требовалось построить модель, которая предсказывает откажется клиент от услуг банка или нет с метрикой F1 не менее 0.59 на тестовой выборке.\n\nДля построения модели выполнена подготовительная работа по предобработке, кодировке и затем разбитию данных на 3 выборки: обучающую, валидационную и тестовую.\n\nКроме того выполнена проверка на дисбаланс классов и построена модель БЕЗ учета баланса классов.\n- Баланс классов для исходных данных составил 80% для целевого признака равного 0, и 20% для 1.\n- Построена модель без учета баланса классов показала метрику F1 равной 0.55 на валидационной выборке.\n\nПротестирован метод масштабирования данных, однако метрика F1 не изменилась и он и был исключен из проекта.\n\nДля получения лучшей модели выполнена балансировка классов. \n- Построена модель с учетом \"веса класса\". Она показала увеличение метрики F1 на 6%, по сравнению с предыдущей моделью.\n- Затем бы применен метод `upsampling` для увеличения размера выборки для положительного класса.\n- После использования метода upsampling баланс сместился с 80/20 для целевого признака равного 0 и 1 соответственно на 50/50.\n- Увеличение размера выборки позволило увеличить метрику F1 на 1% по сравнению с предыдущей моделью\n\nВ результате проекта получена модель типа \"Случайный лес\", которая предсказывает откажется клиент от услуг банка или нет с метрикой F1 - 0.61 на тестовой выборке.\n\nТакже проведена проверка модели на адекватность с помощью метрики roc_auc_score. Модель показала результат метрики 0.85, что на 0.35 выше модели, которая предсказывает ответ с 50% вероятностью ",
      "metadata": {}
    },
    {
      "cell_type": "markdown",
      "source": "## Чек-лист готовности проекта",
      "metadata": {}
    },
    {
      "cell_type": "markdown",
      "source": "Поставьте 'x' в выполненных пунктах. Далее нажмите Shift+Enter.",
      "metadata": {}
    },
    {
      "cell_type": "markdown",
      "source": "- [x]  Jupyter Notebook открыт\n- [x]  Весь код выполняется без ошибок\n- [x]  Ячейки с кодом расположены в порядке исполнения\n- [x]  Выполнен шаг 1: данные подготовлены\n- [x]  Выполнен шаг 2: задача исследована\n    - [x]  Исследован баланс классов\n    - [x]  Изучены модели без учёта дисбаланса\n    - [x]  Написаны выводы по результатам исследования\n- [x]  Выполнен шаг 3: учтён дисбаланс\n    - [x]  Применено несколько способов борьбы с дисбалансом\n    - [x]  Написаны выводы по результатам исследования\n- [x]  Выполнен шаг 4: проведено тестирование\n- [x]  Удалось достичь *F1*-меры не менее 0.59\n- [x]  Исследована метрика *AUC-ROC*",
      "metadata": {}
    }
  ]
}